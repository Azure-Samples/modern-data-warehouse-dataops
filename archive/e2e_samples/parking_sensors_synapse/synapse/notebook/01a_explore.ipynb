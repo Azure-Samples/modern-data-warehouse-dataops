{
  "cells": [
    {
      "cell_type": "code",
      "execution_count": 1,
      "metadata": {
        "collapsed": false
      },
      "outputs": [],
      "source": [
        "import os\n",
        "import datetime\n",
        "\n",
        "# For testing\n",
        "base_path = 'abfss://datalake@<YOUR_STORAGE_ACCOUNT>.dfs.core.windows.net/data/lnd/2021_XX_XX_X1_XX_XX'\n",
        "parkingbay_filepath = os.path.join(base_path, \"MelbParkingBayData.json\")\n",
        "sensors_filepath = os.path.join(base_path, \"MelbParkingSensorData.json\")\n",
        "\n",
        "\n",
        "parkingbay_sdf = spark.read\\\n",
        "  .option(\"multiLine\", True)\\\n",
        "  .json(parkingbay_filepath)\n",
        "sensordata_sdf = spark.read\\\n",
        "  .option(\"multiLine\", True)\\\n",
        "  .json(sensors_filepath)\n",
        "\n",
        "display(parkingbay_sdf)\n",
        "display(sensordata_sdf)\n",
        "display(sensordata_sdf)\n"
      ]
    }
  ],
  "metadata": {
    "kernelspec": {
      "display_name": "Synapse PySpark",
      "name": "synapse_pyspark"
    },
    "language_info": {
      "name": "python"
    },
    "save_output": true,
    "synapse_widget": {
      "state": {},
      "version": "0.1"
    }
  },
  "nbformat": 4,
  "nbformat_minor": 2
}

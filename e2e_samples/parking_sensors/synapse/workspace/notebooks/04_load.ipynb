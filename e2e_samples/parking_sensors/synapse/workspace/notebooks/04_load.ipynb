{
  "nbformat": 4,
  "nbformat_minor": 2,
  "metadata": {
    "kernelspec": {
      "name": "synapse_sparksql",
      "display_name": "sql"
    },
    "language_info": {
      "name": "sql"
    },
    "save_output": true,
    "synapse_widget": {
      "version": "0.1",
      "state": {}
    }
  },
  "cells": [
    {
      "cell_type": "markdown",
      "metadata": {
        "nteract": {
          "transient": {
            "deleting": false
          }
        }
      },
      "source": [
        "# 1. Load SQL DW"
      ]
    },
    {
      "cell_type": "code",
      "execution_count": null,
      "outputs": [],
      "metadata": {
        "jupyter": {
          "source_hidden": false,
          "outputs_hidden": false
        },
        "nteract": {
          "transient": {
            "deleting": false
          }
        },
        "collapsed": true
      },
      "source": [
        "CREATE PROC [dbo].[load_dw] @load_id [VARCHAR](50) AS\r\n",
        "BEGIN\r\n",
        "    -- SET NOCOUNT ON added to prevent extra result sets from\r\n",
        "    -- interfering with SELECT statements.\r\n",
        "    SET NOCOUNT ON\r\n",
        "\r\n",
        "\t-- DIM TABLES\r\n",
        "\r\n",
        "    TRUNCATE TABLE dbo.[dim_parking_bay];\r\n",
        "\tINSERT INTO dbo.[dim_parking_bay]\r\n",
        "\tSELECT \r\n",
        "\t\tCAST([dim_parking_bay_id] AS UNIQUEIDENTIFIER),\r\n",
        "\t\t[bay_id],\r\n",
        "\t\t[marker_id],\r\n",
        "\t\t[meter_id],\r\n",
        "\t\t[rd_seg_id],\r\n",
        "\t\t[rd_seg_dsc],\r\n",
        "\t\t[load_id],\r\n",
        "\t\t[loaded_on]\r\n",
        "\tFROM ext.[dim_parking_bay];\r\n",
        "\r\n",
        "\t--\r\n",
        "\tTRUNCATE TABLE dbo.[dim_location];\r\n",
        "\tINSERT INTO dbo.[dim_location]\r\n",
        "\tSELECT \r\n",
        "\t\tCAST([dim_location_id] AS UNIQUEIDENTIFIER),\r\n",
        "\t\t[lat],\r\n",
        "\t\t[lon],\r\n",
        "\t\t[load_id],\r\n",
        "\t\t[loaded_on]\r\n",
        "\tFROM ext.[dim_location];\r\n",
        "\r\n",
        "\t--\r\n",
        "\tTRUNCATE TABLE dbo.[dim_st_marker];\r\n",
        "\tINSERT INTO dbo.[dim_st_marker]\r\n",
        "\tSELECT \r\n",
        "\t\tCAST([dim_st_marker_id] AS UNIQUEIDENTIFIER),\r\n",
        "\t\t[st_marker_id],\r\n",
        "\t\t[load_id],\r\n",
        "\t\t[loaded_on]\r\n",
        "\tFROM ext.[dim_st_marker];\r\n",
        "\r\n",
        "\r\n",
        "\t-- FACT TABLES\r\n",
        "\tDELETE FROM dbo.[fact_parking] WHERE load_id=@load_id;\r\n",
        "\tINSERT INTO dbo.[fact_parking]\r\n",
        "\tSELECT \r\n",
        "\t\t[dim_date_id],\r\n",
        "\t\t[dim_time_id],\r\n",
        "\t\tCAST([dim_parking_bay_id] AS UNIQUEIDENTIFIER),\r\n",
        "\t\tCAST([dim_location_id] AS UNIQUEIDENTIFIER),\r\n",
        "\t\tCAST([dim_st_marker_id] AS UNIQUEIDENTIFIER),\r\n",
        "\t\t[status],\r\n",
        "\t\t[load_id],\r\n",
        "\t\t[loaded_on]\r\n",
        "\tFROM ext.[fact_parking]\r\n",
        "\tWHERE load_id=@load_id;\r\n",
        "END"
      ]
    }
  ]
}
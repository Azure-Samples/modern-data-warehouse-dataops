{
  "cells": [
    {
      "cell_type": "markdown",
      "source": [
        "# 1. Get dynamic pipeline parameters"
      ],
      "metadata": {
        "nteract": {
          "transient": {
            "deleting": false
          }
        }
      }
    },
    {
      "cell_type": "code",
      "source": [
        "keyvaultlsname = 'Ls_KeyVault_01'"
      ],
      "outputs": [],
      "execution_count": null,
      "metadata": {
        "jupyter": {
          "source_hidden": false,
          "outputs_hidden": false
        },
        "nteract": {
          "transient": {
            "deleting": false
          }
        },
        "tags": [
          "parameters"
        ]
      }
    },
    {
      "cell_type": "markdown",
      "source": [
        "# 2. Get username password from keyvault"
      ],
      "metadata": {
        "nteract": {
          "transient": {
            "deleting": false
          }
        }
      }
    },
    {
      "cell_type": "code",
      "source": [
        "from pyspark.sql import SparkSession\r\n",
        "workspace_name=mssparkutils.env.getWorkspaceName()\r\n",
        "print(workspace_name)"
      ],
      "outputs": [],
      "execution_count": null,
      "metadata": {
        "jupyter": {
          "source_hidden": false,
          "outputs_hidden": false
        },
        "nteract": {
          "transient": {
            "deleting": false
          }
        }
      }
    },
    {
      "cell_type": "markdown",
      "source": [
        "# 3. Get username password from keyvault"
      ],
      "metadata": {
        "nteract": {
          "transient": {
            "deleting": false
          }
        }
      }
    },
    {
      "cell_type": "code",
      "source": [
        "# Make sure user has been created through create_db_user.sql before reading the data\r\n",
        "sc = SparkSession.builder.getOrCreate()\r\n",
        "token_library = sc._jvm.com.microsoft.azure.synapse.tokenlibrary.TokenLibrary\r\n",
        "username = token_library.getSecretWithLS(keyvaultlsname, \"sqlsrvUsername\")\r\n",
        "password = token_library.getSecretWithLS(keyvaultlsname, \"sqlsrvrPassword\")\r\n"
      ],
      "outputs": [],
      "execution_count": null,
      "metadata": {
        "jupyter": {
          "source_hidden": false,
          "outputs_hidden": false
        },
        "nteract": {
          "transient": {
            "deleting": false
          }
        }
      }
    },
    {
      "cell_type": "markdown",
      "source": [
        "# 4. Get Data from external Table"
      ],
      "metadata": {
        "nteract": {
          "transient": {
            "deleting": false
          }
        }
      }
    },
    {
      "cell_type": "code",
      "source": [
        "# Read Top 5 lines from the parking data\r\n",
        "hostname = f\"{workspace_name}-ondemand.sql.azuresynapse.net\"\r\n",
        "print(hostname)\r\n",
        "port = 1433\r\n",
        "database = \"external_db\" \r\n",
        "jdbcUrl = f\"jdbc:sqlserver://{hostname}:{port};database={database}\"\r\n",
        "dbtable = \"dbo.parking_bay_view\"\r\n",
        "\r\n",
        "#Parking Data\r\n",
        "parking_data = spark.read \\\r\n",
        "    .format(\"com.microsoft.sqlserver.jdbc.spark\") \\\r\n",
        "    .option(\"url\", jdbcUrl) \\\r\n",
        "    .option(\"dbtable\", dbtable) \\\r\n",
        "    .option(\"user\", username) \\\r\n",
        "    .option(\"password\", password) \\\r\n",
        "    .load()\r\n",
        "print(parking_data.count())\r\n",
        "parking_data.show(5)\r\n"
      ],
      "outputs": [],
      "execution_count": null,
      "metadata": {
        "jupyter": {
          "source_hidden": false,
          "outputs_hidden": false
        },
        "nteract": {
          "transient": {
            "deleting": false
          }
        }
      }
    },
    {
      "cell_type": "code",
      "source": [
        "# Read Top 5 lines from the sensor data\r\n",
        "dbtable = \"sensor_view\"\r\n",
        "sensor_data = spark.read \\\r\n",
        "    .format(\"com.microsoft.sqlserver.jdbc.spark\") \\\r\n",
        "    .option(\"url\", jdbcUrl) \\\r\n",
        "    .option(\"dbtable\", dbtable) \\\r\n",
        "    .option(\"user\", username) \\\r\n",
        "    .option(\"password\", password) \\\r\n",
        "    .load()\r\n",
        "print(sensor_data.count())\r\n",
        "sensor_data.show(5)"
      ],
      "outputs": [],
      "execution_count": null,
      "metadata": {
        "jupyter": {
          "source_hidden": false,
          "outputs_hidden": false
        },
        "nteract": {
          "transient": {
            "deleting": false
          }
        }
      }
    }
  ],
  "metadata": {
    "kernelspec": {
      "name": "synapse_pyspark",
      "language": "Python",
      "display_name": "Synapse PySpark"
    },
    "language_info": {
      "name": "python"
    },
    "kernel_info": {
      "name": "synapse_pyspark"
    },
    "description": null,
    "save_output": true,
    "synapse_widget": {
      "version": "0.1",
      "state": {}
    }
  },
  "nbformat": 4,
  "nbformat_minor": 2
}
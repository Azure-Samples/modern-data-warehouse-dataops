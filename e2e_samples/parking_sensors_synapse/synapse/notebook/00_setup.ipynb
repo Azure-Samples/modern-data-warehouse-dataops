{
  "cells": [
    {
      "cell_type": "markdown",
<<<<<<< HEAD
=======
      "source": [
        "# 1. Get variables"
      ],
>>>>>>> f06c799 (fix(parking_sensors_synapse): clarity in README in parking sensor synapse sample, add requirement for Synapse extension, comment out debugging in script by default, add general troubleshooting section (#466))
      "metadata": {
        "nteract": {
          "transient": {
            "deleting": false
          }
        }
<<<<<<< HEAD
      },
      "source": [
        "# 1. Get variables"
      ]
    },
    {
      "cell_type": "code",
      "execution_count": 2,
      "metadata": {
        "collapsed": true,
        "jupyter": {
          "outputs_hidden": false,
          "source_hidden": false
=======
      }
    },
    {
      "cell_type": "code",
      "source": [
        "keyvaultlsname = 'Ls_KeyVault_01'\r\n",
        "adls2lsname = 'Ls_AdlsGen2_01'"
      ],
      "outputs": [
        {
          "output_type": "display_data",
          "data": {
            "application/vnd.livy.statement-meta+json": {
              "spark_pool": "synspdevdep70",
              "session_id": 40,
              "statement_id": 2,
              "state": "finished",
              "livy_statement_state": "available",
              "queued_time": "2021-10-13T14:38:25.3704426Z",
              "session_start_time": null,
              "execution_start_time": "2021-10-13T14:38:25.4884854Z",
              "execution_finish_time": "2021-10-13T14:38:25.645304Z"
            },
            "text/plain": "StatementMeta(synspdevdep70, 40, 2, Finished, Available)"
          },
          "metadata": {}
        }
      ],
      "execution_count": 2,
      "metadata": {
        "jupyter": {
          "source_hidden": false,
          "outputs_hidden": false
>>>>>>> f06c799 (fix(parking_sensors_synapse): clarity in README in parking sensor synapse sample, add requirement for Synapse extension, comment out debugging in script by default, add general troubleshooting section (#466))
        },
        "nteract": {
          "transient": {
            "deleting": false
          }
        },
<<<<<<< HEAD
        "tags": [
          "parameters"
        ]
      },
      "outputs": [
        {
          "data": {
            "application/vnd.livy.statement-meta+json": {
              "execution_finish_time": "2021-10-13T14:38:25.645304Z",
              "execution_start_time": "2021-10-13T14:38:25.4884854Z",
              "livy_statement_state": "available",
              "queued_time": "2021-10-13T14:38:25.3704426Z",
              "session_id": 40,
              "session_start_time": null,
              "spark_pool": "synspdevdep70",
              "state": "finished",
              "statement_id": 2
            },
            "text/plain": [
              "StatementMeta(synspdevdep70, 40, 2, Finished, Available)"
            ]
          },
          "metadata": {},
          "output_type": "display_data"
        }
      ],
      "source": [
        "keyvaultlsname = 'Ls_KeyVault_01'\n",
        "adls2lsname = 'Ls_AdlsGen2_01'"
      ]
    },
    {
      "cell_type": "markdown",
      "metadata": {
        "nteract": {
          "transient": {
            "deleting": false
          }
        }
      },
      "source": [
        "# 2. Linked Services Setup: KV and ADLS Gen2"
      ]
    },
    {
      "cell_type": "code",
      "execution_count": 3,
      "metadata": {
        "collapsed": true,
        "jupyter": {
          "outputs_hidden": false,
          "source_hidden": false
        },
=======
        "collapsed": true,
        "tags": [
          "parameters"
        ]
      }
    },
    {
      "cell_type": "markdown",
      "source": [
        "# 2. Linked Services Setup: KV and ADLS Gen2"
      ],
      "metadata": {
>>>>>>> f06c799 (fix(parking_sensors_synapse): clarity in README in parking sensor synapse sample, add requirement for Synapse extension, comment out debugging in script by default, add general troubleshooting section (#466))
        "nteract": {
          "transient": {
            "deleting": false
          }
        }
<<<<<<< HEAD
      },
      "outputs": [
        {
          "data": {
            "application/vnd.livy.statement-meta+json": {
              "execution_finish_time": "2021-10-13T14:38:30.5527514Z",
              "execution_start_time": "2021-10-13T14:38:28.7210633Z",
              "livy_statement_state": "available",
              "queued_time": "2021-10-13T14:38:28.5537299Z",
              "session_id": 40,
              "session_start_time": null,
              "spark_pool": "synspdevdep70",
              "state": "finished",
              "statement_id": 3
            },
            "text/plain": [
              "StatementMeta(synspdevdep70, 40, 3, Finished, Available)"
            ]
          },
          "metadata": {},
          "output_type": "display_data"
        }
      ],
      "source": [
        "from pyspark.sql import SparkSession\n",
        "\n",
        "sc = SparkSession.builder.getOrCreate()\n",
        "token_library = sc._jvm.com.microsoft.azure.synapse.tokenlibrary.TokenLibrary\n",
        "storage_account = token_library.getSecretWithLS(keyvaultlsname, \"datalakeaccountname\")\n",
        "\n",
        "spark.conf.set(\"spark.storage.synapse.linkedServiceName\", adls2lsname)\n",
        "spark.conf.set(\"fs.azure.account.oauth.provider.type\", \"com.microsoft.azure.synapse.tokenlibrary.LinkedServiceBasedTokenProvider\")\n"
      ]
    },
    {
      "cell_type": "markdown",
      "metadata": {
=======
      }
    },
    {
      "cell_type": "code",
      "source": [
        "from pyspark.sql import SparkSession\r\n",
        "\r\n",
        "sc = SparkSession.builder.getOrCreate()\r\n",
        "token_library = sc._jvm.com.microsoft.azure.synapse.tokenlibrary.TokenLibrary\r\n",
        "storage_account = token_library.getSecretWithLS(keyvaultlsname, \"datalakeaccountname\")\r\n",
        "\r\n",
        "spark.conf.set(\"spark.storage.synapse.linkedServiceName\", adls2lsname)\r\n",
        "spark.conf.set(\"fs.azure.account.oauth.provider.type\", \"com.microsoft.azure.synapse.tokenlibrary.LinkedServiceBasedTokenProvider\")\r\n"
      ],
      "outputs": [
        {
          "output_type": "display_data",
          "data": {
            "application/vnd.livy.statement-meta+json": {
              "spark_pool": "synspdevdep70",
              "session_id": 40,
              "statement_id": 3,
              "state": "finished",
              "livy_statement_state": "available",
              "queued_time": "2021-10-13T14:38:28.5537299Z",
              "session_start_time": null,
              "execution_start_time": "2021-10-13T14:38:28.7210633Z",
              "execution_finish_time": "2021-10-13T14:38:30.5527514Z"
            },
            "text/plain": "StatementMeta(synspdevdep70, 40, 3, Finished, Available)"
          },
          "metadata": {}
        }
      ],
      "execution_count": 3,
      "metadata": {
        "jupyter": {
          "source_hidden": false,
          "outputs_hidden": false
        },
>>>>>>> f06c799 (fix(parking_sensors_synapse): clarity in README in parking sensor synapse sample, add requirement for Synapse extension, comment out debugging in script by default, add general troubleshooting section (#466))
        "nteract": {
          "transient": {
            "deleting": false
          }
<<<<<<< HEAD
        }
      },
      "source": [
        "# 3. Create Schemas"
      ]
    },
    {
      "cell_type": "code",
      "execution_count": 9,
      "metadata": {
        "collapsed": false,
        "jupyter": {
          "outputs_hidden": false,
          "source_hidden": false
        },
=======
        },
        "collapsed": true
      }
    },
    {
      "cell_type": "markdown",
      "source": [
        "# 3. Create Schemas"
      ],
      "metadata": {
>>>>>>> f06c799 (fix(parking_sensors_synapse): clarity in README in parking sensor synapse sample, add requirement for Synapse extension, comment out debugging in script by default, add general troubleshooting section (#466))
        "nteract": {
          "transient": {
            "deleting": false
          }
        }
<<<<<<< HEAD
      },
      "outputs": [
        {
          "data": {
            "application/vnd.livy.statement-meta+json": {
              "execution_finish_time": "2021-10-13T15:02:36.8076517Z",
              "execution_start_time": "2021-10-13T15:02:35.7403753Z",
              "livy_statement_state": "available",
              "queued_time": "2021-10-13T15:02:35.5548536Z",
              "session_id": 40,
              "session_start_time": null,
              "spark_pool": "synspdevdep70",
              "state": "finished",
              "statement_id": 9
            },
            "text/plain": [
              "StatementMeta(synspdevdep70, 40, 9, Finished, Available)"
            ]
          },
          "metadata": {},
          "output_type": "display_data"
        },
        {
          "data": {
            "text/plain": [
              "DataFrame[]"
            ]
          },
          "metadata": {},
          "output_type": "display_data"
        }
      ],
      "source": [
        "spark.sql(f\"CREATE SCHEMA IF NOT EXISTS dw LOCATION 'abfss://datalake@{storage_account}.dfs.core.windows.net/data'\")\n",
        "spark.sql(f\"CREATE SCHEMA IF NOT EXISTS lnd LOCATION 'abfss://datalake@{storage_account}.dfs.core.windows.net/data'\")\n",
        "spark.sql(f\"CREATE SCHEMA IF NOT EXISTS interim LOCATION 'abfss://datalake@{storage_account}.dfs.core.windows.net/data'\")\n",
        "spark.sql(f\"CREATE SCHEMA IF NOT EXISTS malformed LOCATION 'abfss://datalake@{storage_account}.dfs.core.windows.net/data'\")"
      ]
    },
    {
      "cell_type": "markdown",
      "metadata": {
=======
      }
    },
    {
      "cell_type": "code",
      "source": [
        "spark.sql(f\"CREATE SCHEMA IF NOT EXISTS dw LOCATION 'abfss://datalake@{storage_account}.dfs.core.windows.net/data'\")\r\n",
        "spark.sql(f\"CREATE SCHEMA IF NOT EXISTS lnd LOCATION 'abfss://datalake@{storage_account}.dfs.core.windows.net/data'\")\r\n",
        "spark.sql(f\"CREATE SCHEMA IF NOT EXISTS interim LOCATION 'abfss://datalake@{storage_account}.dfs.core.windows.net/data'\")\r\n",
        "spark.sql(f\"CREATE SCHEMA IF NOT EXISTS malformed LOCATION 'abfss://datalake@{storage_account}.dfs.core.windows.net/data'\")"
      ],
      "outputs": [
        {
          "output_type": "display_data",
          "data": {
            "application/vnd.livy.statement-meta+json": {
              "spark_pool": "synspdevdep70",
              "session_id": 40,
              "statement_id": 9,
              "state": "finished",
              "livy_statement_state": "available",
              "queued_time": "2021-10-13T15:02:35.5548536Z",
              "session_start_time": null,
              "execution_start_time": "2021-10-13T15:02:35.7403753Z",
              "execution_finish_time": "2021-10-13T15:02:36.8076517Z"
            },
            "text/plain": "StatementMeta(synspdevdep70, 40, 9, Finished, Available)"
          },
          "metadata": {}
        },
        {
          "output_type": "display_data",
          "data": {
            "text/plain": "DataFrame[]"
          },
          "metadata": {}
        }
      ],
      "execution_count": 9,
      "metadata": {
        "jupyter": {
          "source_hidden": false,
          "outputs_hidden": false
        },
>>>>>>> f06c799 (fix(parking_sensors_synapse): clarity in README in parking sensor synapse sample, add requirement for Synapse extension, comment out debugging in script by default, add general troubleshooting section (#466))
        "nteract": {
          "transient": {
            "deleting": false
          }
<<<<<<< HEAD
        }
      },
      "source": [
        "# 4. Create Fact Tables"
      ]
    },
    {
      "cell_type": "code",
      "execution_count": 4,
      "metadata": {
        "collapsed": false,
        "jupyter": {
          "outputs_hidden": false,
          "source_hidden": false
        },
=======
        },
        "collapsed": false
      }
    },
    {
      "cell_type": "markdown",
      "source": [
        "# 4. Create Fact Tables"
      ],
      "metadata": {
>>>>>>> f06c799 (fix(parking_sensors_synapse): clarity in README in parking sensor synapse sample, add requirement for Synapse extension, comment out debugging in script by default, add general troubleshooting section (#466))
        "nteract": {
          "transient": {
            "deleting": false
          }
        }
<<<<<<< HEAD
      },
      "outputs": [
        {
          "data": {
            "application/vnd.livy.statement-meta+json": {
              "execution_finish_time": "2021-10-13T14:39:01.171823Z",
              "execution_start_time": "2021-10-13T14:38:58.3874423Z",
              "livy_statement_state": "available",
              "queued_time": "2021-10-13T14:38:58.2071314Z",
              "session_id": 40,
              "session_start_time": null,
              "spark_pool": "synspdevdep70",
              "state": "finished",
              "statement_id": 4
            },
            "text/plain": [
              "StatementMeta(synspdevdep70, 40, 4, Finished, Available)"
            ]
          },
          "metadata": {},
          "output_type": "display_data"
        },
        {
          "data": {
            "text/plain": [
              "DataFrame[]"
            ]
          },
          "metadata": {},
          "output_type": "display_data"
        }
      ],
      "source": [
        "spark.sql(f\"DROP TABLE IF EXISTS dw.fact_parking\")\n",
        "\n",
        "spark.sql(f\"CREATE TABLE dw.fact_parking(dim_date_id STRING,dim_time_id STRING, dim_parking_bay_id STRING, dim_location_id STRING, dim_st_marker_id STRING, status STRING, load_id STRING, loaded_on TIMESTAMP) USING parquet LOCATION 'abfss://datalake@{storage_account}.dfs.core.windows.net/data/dw/fact_parking/'\")\n",
        " \n",
        "spark.sql(f\"REFRESH TABLE dw.fact_parking\")"
      ]
    },
    {
      "cell_type": "markdown",
      "metadata": {
=======
      }
    },
    {
      "cell_type": "code",
      "source": [
        "spark.sql(f\"DROP TABLE IF EXISTS dw.fact_parking\")\r\n",
        "\r\n",
        "spark.sql(f\"CREATE TABLE dw.fact_parking(dim_date_id STRING,dim_time_id STRING, dim_parking_bay_id STRING, dim_location_id STRING, dim_st_marker_id STRING, status STRING, load_id STRING, loaded_on TIMESTAMP) USING parquet LOCATION 'abfss://datalake@{storage_account}.dfs.core.windows.net/data/dw/fact_parking/'\")\r\n",
        " \r\n",
        "spark.sql(f\"REFRESH TABLE dw.fact_parking\")"
      ],
      "outputs": [
        {
          "output_type": "display_data",
          "data": {
            "application/vnd.livy.statement-meta+json": {
              "spark_pool": "synspdevdep70",
              "session_id": 40,
              "statement_id": 4,
              "state": "finished",
              "livy_statement_state": "available",
              "queued_time": "2021-10-13T14:38:58.2071314Z",
              "session_start_time": null,
              "execution_start_time": "2021-10-13T14:38:58.3874423Z",
              "execution_finish_time": "2021-10-13T14:39:01.171823Z"
            },
            "text/plain": "StatementMeta(synspdevdep70, 40, 4, Finished, Available)"
          },
          "metadata": {}
        },
        {
          "output_type": "display_data",
          "data": {
            "text/plain": "DataFrame[]"
          },
          "metadata": {}
        }
      ],
      "execution_count": 4,
      "metadata": {
        "jupyter": {
          "source_hidden": false,
          "outputs_hidden": false
        },
>>>>>>> f06c799 (fix(parking_sensors_synapse): clarity in README in parking sensor synapse sample, add requirement for Synapse extension, comment out debugging in script by default, add general troubleshooting section (#466))
        "nteract": {
          "transient": {
            "deleting": false
          }
<<<<<<< HEAD
        }
      },
      "source": [
        "# 5. Create Dimension Tables"
      ]
    },
    {
      "cell_type": "code",
      "execution_count": 5,
      "metadata": {
        "collapsed": false,
        "jupyter": {
          "outputs_hidden": false,
          "source_hidden": false
        },
=======
        },
        "collapsed": false
      }
    },
    {
      "cell_type": "markdown",
      "source": [
        "# 5. Create Dimension Tables"
      ],
      "metadata": {
>>>>>>> f06c799 (fix(parking_sensors_synapse): clarity in README in parking sensor synapse sample, add requirement for Synapse extension, comment out debugging in script by default, add general troubleshooting section (#466))
        "nteract": {
          "transient": {
            "deleting": false
          }
        }
<<<<<<< HEAD
      },
      "outputs": [
        {
          "data": {
            "application/vnd.livy.statement-meta+json": {
              "execution_finish_time": "2021-10-13T14:39:12.438811Z",
              "execution_start_time": "2021-10-13T14:39:03.8580484Z",
              "livy_statement_state": "available",
              "queued_time": "2021-10-13T14:39:03.7430402Z",
              "session_id": 40,
              "session_start_time": null,
              "spark_pool": "synspdevdep70",
              "state": "finished",
              "statement_id": 5
            },
            "text/plain": [
              "StatementMeta(synspdevdep70, 40, 5, Finished, Available)"
            ]
          },
          "metadata": {},
          "output_type": "display_data"
        },
        {
          "data": {
            "text/plain": [
              "DataFrame[]"
            ]
          },
          "metadata": {},
          "output_type": "display_data"
        }
      ],
      "source": [
        "spark.sql(f\"DROP TABLE IF EXISTS dw.dim_st_marker\")\n",
        "spark.sql(f\"CREATE TABLE dw.dim_st_marker(dim_st_marker_id STRING, st_marker_id STRING, load_id STRING, loaded_on TIMESTAMP) USING parquet LOCATION 'abfss://datalake@{storage_account}.dfs.core.windows.net/data/dw/dim_st_marker/'\")\n",
        "spark.sql(f\"REFRESH TABLE dw.dim_st_marker\")\n",
        " \n",
        "\n",
        "spark.sql(f\"DROP TABLE IF EXISTS dw.dim_location\")\n",
        "spark.sql(f\"CREATE TABLE dw.dim_location(dim_location_id STRING,lat FLOAT, lon FLOAT, load_id STRING, loaded_on TIMESTAMP) USING parquet LOCATION 'abfss://datalake@{storage_account}.dfs.core.windows.net/data/dw/dim_location/'\")\n",
        "spark.sql(f\"REFRESH TABLE dw.dim_location\")\n",
        " \n",
        "\n",
        "spark.sql(f\"DROP TABLE IF EXISTS dw.dim_parking_bay\")\n",
        "spark.sql(f\"CREATE TABLE dw.dim_parking_bay(dim_parking_bay_id STRING, bay_id INT,`marker_id` STRING, `meter_id` STRING, `rd_seg_dsc` STRING, `rd_seg_id` STRING, load_id STRING, loaded_on TIMESTAMP) USING parquet LOCATION 'abfss://datalake@{storage_account}.dfs.core.windows.net/data/dw/dim_parking_bay/'\")\n",
        "spark.sql(f\"REFRESH TABLE dw.dim_parking_bay\")"
      ]
    },
    {
      "cell_type": "markdown",
      "metadata": {
=======
      }
    },
    {
      "cell_type": "code",
      "source": [
        "spark.sql(f\"DROP TABLE IF EXISTS dw.dim_st_marker\")\r\n",
        "spark.sql(f\"CREATE TABLE dw.dim_st_marker(dim_st_marker_id STRING, st_marker_id STRING, load_id STRING, loaded_on TIMESTAMP) USING parquet LOCATION 'abfss://datalake@{storage_account}.dfs.core.windows.net/data/dw/dim_st_marker/'\")\r\n",
        "spark.sql(f\"REFRESH TABLE dw.dim_st_marker\")\r\n",
        " \r\n",
        "\r\n",
        "spark.sql(f\"DROP TABLE IF EXISTS dw.dim_location\")\r\n",
        "spark.sql(f\"CREATE TABLE dw.dim_location(dim_location_id STRING,lat FLOAT, lon FLOAT, load_id STRING, loaded_on TIMESTAMP) USING parquet LOCATION 'abfss://datalake@{storage_account}.dfs.core.windows.net/data/dw/dim_location/'\")\r\n",
        "spark.sql(f\"REFRESH TABLE dw.dim_location\")\r\n",
        " \r\n",
        "\r\n",
        "spark.sql(f\"DROP TABLE IF EXISTS dw.dim_parking_bay\")\r\n",
        "spark.sql(f\"CREATE TABLE dw.dim_parking_bay(dim_parking_bay_id STRING, bay_id INT,`marker_id` STRING, `meter_id` STRING, `rd_seg_dsc` STRING, `rd_seg_id` STRING, load_id STRING, loaded_on TIMESTAMP) USING parquet LOCATION 'abfss://datalake@{storage_account}.dfs.core.windows.net/data/dw/dim_parking_bay/'\")\r\n",
        "spark.sql(f\"REFRESH TABLE dw.dim_parking_bay\")"
      ],
      "outputs": [
        {
          "output_type": "display_data",
          "data": {
            "application/vnd.livy.statement-meta+json": {
              "spark_pool": "synspdevdep70",
              "session_id": 40,
              "statement_id": 5,
              "state": "finished",
              "livy_statement_state": "available",
              "queued_time": "2021-10-13T14:39:03.7430402Z",
              "session_start_time": null,
              "execution_start_time": "2021-10-13T14:39:03.8580484Z",
              "execution_finish_time": "2021-10-13T14:39:12.438811Z"
            },
            "text/plain": "StatementMeta(synspdevdep70, 40, 5, Finished, Available)"
          },
          "metadata": {}
        },
        {
          "output_type": "display_data",
          "data": {
            "text/plain": "DataFrame[]"
          },
          "metadata": {}
        }
      ],
      "execution_count": 5,
      "metadata": {
        "jupyter": {
          "source_hidden": false,
          "outputs_hidden": false
        },
>>>>>>> f06c799 (fix(parking_sensors_synapse): clarity in README in parking sensor synapse sample, add requirement for Synapse extension, comment out debugging in script by default, add general troubleshooting section (#466))
        "nteract": {
          "transient": {
            "deleting": false
          }
<<<<<<< HEAD
        }
      },
      "source": [
        "# 6. Create dim date and time"
      ]
    },
    {
      "cell_type": "code",
      "execution_count": 6,
      "metadata": {
        "collapsed": true,
        "jupyter": {
          "outputs_hidden": false,
          "source_hidden": false
        },
=======
        },
        "collapsed": false
      }
    },
    {
      "cell_type": "markdown",
      "source": [
        "# 6. Create dim date and time"
      ],
      "metadata": {
>>>>>>> f06c799 (fix(parking_sensors_synapse): clarity in README in parking sensor synapse sample, add requirement for Synapse extension, comment out debugging in script by default, add general troubleshooting section (#466))
        "nteract": {
          "transient": {
            "deleting": false
          }
        }
<<<<<<< HEAD
      },
      "outputs": [
        {
          "data": {
            "application/vnd.livy.statement-meta+json": {
              "execution_finish_time": "2021-10-13T14:39:49.1987436Z",
              "execution_start_time": "2021-10-13T14:39:15.5201846Z",
              "livy_statement_state": "available",
              "queued_time": "2021-10-13T14:39:15.4090129Z",
              "session_id": 40,
              "session_start_time": null,
              "spark_pool": "synspdevdep70",
              "state": "finished",
              "statement_id": 6
            },
            "text/plain": [
              "StatementMeta(synspdevdep70, 40, 6, Finished, Available)"
            ]
          },
          "metadata": {},
          "output_type": "display_data"
        }
      ],
      "source": [
        "from pyspark.sql.functions import col\n",
        "spark.sql(f\"DROP TABLE IF EXISTS dw.dim_date\")\n",
        "spark.sql(f\"DROP TABLE IF EXISTS dw.dim_time\")\n",
        "\n",
        "# DimDate\n",
        "dimdate = spark.read.csv(f\"abfss://datalake@{storage_account}.dfs.core.windows.net/data/seed/dim_date/dim_date.csv\", header=True)\n",
        "dimdate.write.saveAsTable(\"dw.dim_date\")\n",
        "\n",
        "# DimTime\n",
        "dimtime = spark.read.csv(f\"abfss://datalake@{storage_account}.dfs.core.windows.net/data/seed/dim_time/dim_time.csv\", header=True)\n",
        "dimtime.write.saveAsTable(\"dw.dim_time\")"
      ]
    },
    {
      "cell_type": "markdown",
=======
      }
    },
    {
      "cell_type": "markdown",
      "source": [],
>>>>>>> f06c799 (fix(parking_sensors_synapse): clarity in README in parking sensor synapse sample, add requirement for Synapse extension, comment out debugging in script by default, add general troubleshooting section (#466))
      "metadata": {
        "nteract": {
          "transient": {
            "deleting": false
          }
        }
<<<<<<< HEAD
      },
      "source": [
        "# 7. Create interim and error tables"
      ]
    },
    {
      "cell_type": "code",
      "execution_count": 8,
      "metadata": {
        "collapsed": false,
        "jupyter": {
          "outputs_hidden": false,
          "source_hidden": false
=======
      }
    },
    {
      "cell_type": "code",
      "source": [
        "from pyspark.sql.functions import col\r\n",
        "spark.sql(f\"DROP TABLE IF EXISTS dw.dim_date\")\r\n",
        "spark.sql(f\"DROP TABLE IF EXISTS dw.dim_time\")\r\n",
        "\r\n",
        "# DimDate\r\n",
        "dimdate = spark.read.csv(f\"abfss://datalake@{storage_account}.dfs.core.windows.net/data/seed/dim_date/dim_date.csv\", header=True)\r\n",
        "dimdate.write.saveAsTable(\"dw.dim_date\")\r\n",
        "\r\n",
        "# DimTime\r\n",
        "dimtime = spark.read.csv(f\"abfss://datalake@{storage_account}.dfs.core.windows.net/data/seed/dim_time/dim_time.csv\", header=True)\r\n",
        "dimtime.write.saveAsTable(\"dw.dim_time\")"
      ],
      "outputs": [
        {
          "output_type": "display_data",
          "data": {
            "application/vnd.livy.statement-meta+json": {
              "spark_pool": "synspdevdep70",
              "session_id": 40,
              "statement_id": 6,
              "state": "finished",
              "livy_statement_state": "available",
              "queued_time": "2021-10-13T14:39:15.4090129Z",
              "session_start_time": null,
              "execution_start_time": "2021-10-13T14:39:15.5201846Z",
              "execution_finish_time": "2021-10-13T14:39:49.1987436Z"
            },
            "text/plain": "StatementMeta(synspdevdep70, 40, 6, Finished, Available)"
          },
          "metadata": {}
        }
      ],
      "execution_count": 6,
      "metadata": {
        "jupyter": {
          "source_hidden": false,
          "outputs_hidden": false
>>>>>>> f06c799 (fix(parking_sensors_synapse): clarity in README in parking sensor synapse sample, add requirement for Synapse extension, comment out debugging in script by default, add general troubleshooting section (#466))
        },
        "nteract": {
          "transient": {
            "deleting": false
          }
<<<<<<< HEAD
        }
      },
      "outputs": [
        {
          "data": {
            "application/vnd.livy.statement-meta+json": {
              "execution_finish_time": "2021-10-13T14:40:26.1451789Z",
              "execution_start_time": "2021-10-13T14:40:15.5722577Z",
              "livy_statement_state": "available",
              "queued_time": "2021-10-13T14:40:15.4586215Z",
              "session_id": 40,
              "session_start_time": null,
              "spark_pool": "synspdevdep70",
              "state": "finished",
              "statement_id": 8
            },
            "text/plain": [
              "StatementMeta(synspdevdep70, 40, 8, Finished, Available)"
            ]
          },
          "metadata": {},
          "output_type": "display_data"
        },
        {
          "data": {
            "text/plain": [
              "DataFrame[]"
            ]
          },
          "metadata": {},
          "output_type": "display_data"
        }
      ],
      "source": [
        "spark.sql(f\"DROP TABLE IF EXISTS interim.parking_bay\")\n",
        "spark.sql(f\"CREATE TABLE interim.parking_bay(bay_id INT, `last_edit` TIMESTAMP, `marker_id` STRING, `meter_id` STRING, `rd_seg_dsc` STRING, `rd_seg_id` STRING, `the_geom` STRUCT<`coordinates`: ARRAY<ARRAY<ARRAY<ARRAY<DOUBLE>>>>, `type`: STRING>, load_id STRING, loaded_on TIMESTAMP) USING parquet LOCATION 'abfss://datalake@{storage_account}.dfs.core.windows.net/data/interim/interim.parking_bay/'\")\n",
        "spark.sql(f\"REFRESH TABLE interim.parking_bay\")\n",
        "\n",
        "spark.sql(f\"DROP TABLE IF EXISTS interim.sensor\")\n",
        "spark.sql(f\"CREATE TABLE  interim.sensor(bay_id INT, `st_marker_id` STRING, `lat` FLOAT, `lon` FLOAT, `location` STRUCT<`coordinates`: ARRAY<DOUBLE>, `type`: STRING>, `status` STRING, load_id STRING, loaded_on TIMESTAMP) USING parquet LOCATION 'abfss://datalake@{storage_account}.dfs.core.windows.net/data/interim/interim.sensor/'\")\n",
        "spark.sql(f\"REFRESH TABLE  interim.sensor\")\n",
        "   \n",
        "\n",
        "spark.sql(f\"DROP TABLE IF EXISTS malformed.parking_bay\")\n",
        "spark.sql(f\"CREATE TABLE malformed.parking_bay(bay_id INT, `last_edit` TIMESTAMP,`marker_id` STRING, `meter_id` STRING, `rd_seg_dsc` STRING, `rd_seg_id` STRING, `the_geom` STRUCT<`coordinates`: ARRAY<ARRAY<ARRAY<ARRAY<DOUBLE>>>>, `type`: STRING>, load_id STRING, loaded_on TIMESTAMP) USING parquet LOCATION 'abfss://datalake@{storage_account}.dfs.core.windows.net/data/malformed/malformed.parking_bay/'\")\n",
        "spark.sql(f\"REFRESH TABLE malformed.parking_bay\")\n",
        "\n",
        "spark.sql(f\"DROP TABLE IF EXISTS malformed.sensor\")\n",
        "spark.sql(f\"CREATE TABLE malformed.sensor(bay_id INT,`st_marker_id` STRING,`lat` FLOAT,`lon` FLOAT,`location` STRUCT<`coordinates`: ARRAY<DOUBLE>, `type`: STRING>,`status` STRING, load_id STRING, loaded_on TIMESTAMP) USING parquet LOCATION 'abfss://datalake@{storage_account}.dfs.core.windows.net/data/malformed/malformed.parking_bay/'\")\n",
        "spark.sql(f\"REFRESH TABLE malformed.sensor\")"
      ]
    }
  ],
  "metadata": {
    "kernel_info": {
      "name": "synapse_pyspark"
    },
    "kernelspec": {
      "display_name": "Synapse PySpark",
      "language": "Python",
      "name": "synapse_pyspark"
=======
        },
        "collapsed": true
      }
    },
    {
      "cell_type": "markdown",
      "source": [
        "# 7. Create interim and error tables"
      ],
      "metadata": {
        "nteract": {
          "transient": {
            "deleting": false
          }
        }
      }
    },
    {
      "cell_type": "code",
      "source": [
        "spark.sql(f\"DROP TABLE IF EXISTS interim.parking_bay\")\r\n",
        "spark.sql(f\"CREATE TABLE interim.parking_bay(bay_id INT, `last_edit` TIMESTAMP, `marker_id` STRING, `meter_id` STRING, `rd_seg_dsc` STRING, `rd_seg_id` STRING, `the_geom` STRUCT<`coordinates`: ARRAY<ARRAY<ARRAY<ARRAY<DOUBLE>>>>, `type`: STRING>, load_id STRING, loaded_on TIMESTAMP) USING parquet LOCATION 'abfss://datalake@{storage_account}.dfs.core.windows.net/data/interim/interim.parking_bay/'\")\r\n",
        "spark.sql(f\"REFRESH TABLE interim.parking_bay\")\r\n",
        "\r\n",
        "spark.sql(f\"DROP TABLE IF EXISTS interim.sensor\")\r\n",
        "spark.sql(f\"CREATE TABLE  interim.sensor(bay_id INT, `st_marker_id` STRING, `lat` FLOAT, `lon` FLOAT, `location` STRUCT<`coordinates`: ARRAY<DOUBLE>, `type`: STRING>, `status` STRING, load_id STRING, loaded_on TIMESTAMP) USING parquet LOCATION 'abfss://datalake@{storage_account}.dfs.core.windows.net/data/interim/interim.sensor/'\")\r\n",
        "spark.sql(f\"REFRESH TABLE  interim.sensor\")\r\n",
        "   \r\n",
        "\r\n",
        "spark.sql(f\"DROP TABLE IF EXISTS malformed.parking_bay\")\r\n",
        "spark.sql(f\"CREATE TABLE malformed.parking_bay(bay_id INT, `last_edit` TIMESTAMP,`marker_id` STRING, `meter_id` STRING, `rd_seg_dsc` STRING, `rd_seg_id` STRING, `the_geom` STRUCT<`coordinates`: ARRAY<ARRAY<ARRAY<ARRAY<DOUBLE>>>>, `type`: STRING>, load_id STRING, loaded_on TIMESTAMP) USING parquet LOCATION 'abfss://datalake@{storage_account}.dfs.core.windows.net/data/malformed/malformed.parking_bay/'\")\r\n",
        "spark.sql(f\"REFRESH TABLE malformed.parking_bay\")\r\n",
        "\r\n",
        "spark.sql(f\"DROP TABLE IF EXISTS malformed.sensor\")\r\n",
        "spark.sql(f\"CREATE TABLE malformed.sensor(bay_id INT,`st_marker_id` STRING,`lat` FLOAT,`lon` FLOAT,`location` STRUCT<`coordinates`: ARRAY<DOUBLE>, `type`: STRING>,`status` STRING, load_id STRING, loaded_on TIMESTAMP) USING parquet LOCATION 'abfss://datalake@{storage_account}.dfs.core.windows.net/data/malformed/malformed.parking_bay/'\")\r\n",
        "spark.sql(f\"REFRESH TABLE malformed.sensor\")"
      ],
      "outputs": [
        {
          "output_type": "display_data",
          "data": {
            "application/vnd.livy.statement-meta+json": {
              "spark_pool": "synspdevdep70",
              "session_id": 40,
              "statement_id": 8,
              "state": "finished",
              "livy_statement_state": "available",
              "queued_time": "2021-10-13T14:40:15.4586215Z",
              "session_start_time": null,
              "execution_start_time": "2021-10-13T14:40:15.5722577Z",
              "execution_finish_time": "2021-10-13T14:40:26.1451789Z"
            },
            "text/plain": "StatementMeta(synspdevdep70, 40, 8, Finished, Available)"
          },
          "metadata": {}
        },
        {
          "output_type": "display_data",
          "data": {
            "text/plain": "DataFrame[]"
          },
          "metadata": {}
        }
      ],
      "execution_count": 8,
      "metadata": {
        "jupyter": {
          "source_hidden": false,
          "outputs_hidden": false
        },
        "nteract": {
          "transient": {
            "deleting": false
          }
        },
        "collapsed": false
      }
    }
  ],
  "metadata": {
    "kernelspec": {
      "name": "synapse_pyspark",
      "language": "Python",
      "display_name": "Synapse PySpark"
>>>>>>> f06c799 (fix(parking_sensors_synapse): clarity in README in parking sensor synapse sample, add requirement for Synapse extension, comment out debugging in script by default, add general troubleshooting section (#466))
    },
    "language_info": {
      "name": "python"
    },
<<<<<<< HEAD
    "save_output": true,
    "synapse_widget": {
      "state": {},
      "version": "0.1"
=======
    "kernel_info": {
      "name": "synapse_pyspark"
    },
    "save_output": true,
    "synapse_widget": {
      "version": "0.1",
      "state": {}
>>>>>>> f06c799 (fix(parking_sensors_synapse): clarity in README in parking sensor synapse sample, add requirement for Synapse extension, comment out debugging in script by default, add general troubleshooting section (#466))
    }
  },
  "nbformat": 4,
  "nbformat_minor": 2
<<<<<<< HEAD
}
=======
}
>>>>>>> f06c799 (fix(parking_sensors_synapse): clarity in README in parking sensor synapse sample, add requirement for Synapse extension, comment out debugging in script by default, add general troubleshooting section (#466))

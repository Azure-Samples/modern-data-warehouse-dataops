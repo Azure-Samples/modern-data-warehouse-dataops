{
  "cells": [
    {
      "cell_type": "markdown",
      "metadata": {
        "nteract": {
          "transient": {
            "deleting": false
          }
        }
      },
      "source": [
        "# 1. Get dynamic pipeline parameters"
      ]
    },
    {
      "cell_type": "code",
      "execution_count": null,
      "metadata": {
        "collapsed": true,
        "jupyter": {
          "outputs_hidden": false,
          "source_hidden": false
        },
        "nteract": {
          "transient": {
            "deleting": false
          }
        },
        "tags": [
          "parameters"
        ]
      },
      "outputs": [],
      "source": [
        "# Get folder where the REST downloads were placed\n",
        "infilefolder = '2021_10_05_07_58_15/'\n",
        "\n",
        "# Get pipeline name\n",
        "pipelinename = 'P_Ingest_MelbParkingData'\n",
        "\n",
        "# Get pipeline run id\n",
        "loadid = ''\n",
        "\n",
        "# Get keyvault linked service name\n",
        "keyvaultlsname = 'Ls_KeyVault_01'"
      ]
    },
    {
      "cell_type": "markdown",
      "metadata": {
        "nteract": {
          "transient": {
            "deleting": false
          }
        }
      },
      "source": [
        "# 2. Load file path variables"
      ]
    },
    {
      "cell_type": "code",
      "execution_count": null,
      "metadata": {
        "collapsed": true,
        "jupyter": {
          "outputs_hidden": false,
          "source_hidden": false
        },
        "nteract": {
          "transient": {
            "deleting": false
          }
        },
        "tags": []
      },
      "outputs": [],
      "source": [
        "import os\n",
        "import datetime\n",
        "\n",
        "token_library = sc._jvm.com.microsoft.azure.synapse.tokenlibrary.TokenLibrary\n",
        "\n",
        "# Primary storage info \n",
        "account_name = token_library.getSecretWithLS( keyvaultlsname, \"datalakeaccountname\")\n",
        "container_name = 'datalake' # fill in your container name \n",
        "relative_path = 'data/lnd/' # fill in your relative folder path \n",
        "\n",
        "adls_path = 'abfss://%s@%s.dfs.core.windows.net/%s' % (container_name, account_name, relative_path) \n",
        "print('Primary storage account path: ' + adls_path) \n",
        "load_id = loadid\n",
        "loaded_on = datetime.datetime.now()\n",
        "base_path = os.path.join(adls_path, infilefolder)\n",
        "\n",
        "parkingbay_filepath = os.path.join(base_path, \"MelbParkingBayData.json\")\n",
        "print(parkingbay_filepath)\n",
        "sensors_filepath = os.path.join(base_path, \"MelbParkingSensorData.json\")\n",
        "print(sensors_filepath)"
      ]
    },
    {
      "cell_type": "markdown",
      "metadata": {
        "nteract": {
          "transient": {
            "deleting": false
          }
        }
      },
      "source": [
        "# 3. Transform: Standardize"
      ]
    },
    {
      "cell_type": "code",
      "execution_count": null,
      "metadata": {
        "collapsed": true,
        "jupyter": {
          "outputs_hidden": false,
          "source_hidden": false
        },
        "nteract": {
          "transient": {
            "deleting": false
          }
        }
      },
      "outputs": [],
      "source": [
        "import ddo_transform.standardize as s\n",
        "\n",
        "# Retrieve schema\n",
        "parkingbay_schema = s.get_schema(\"in_parkingbay_schema\")\n",
        "sensordata_schema = s.get_schema(\"in_sensordata_schema\")\n",
        "\n",
        "# Read data\n",
        "parkingbay_sdf = spark.read\\\n",
        "  .schema(parkingbay_schema)\\\n",
        "  .option(\"badRecordsPath\", os.path.join(base_path, \"__corrupt\", \"MelbParkingBayData\"))\\\n",
        "  .json(parkingbay_filepath)\n",
        "sensordata_sdf = spark.read\\\n",
        "  .schema(sensordata_schema)\\\n",
        "  .option(\"badRecordsPath\", os.path.join(base_path, \"__corrupt\", \"MelbParkingSensorData\"))\\\n",
        "  .json(sensors_filepath)\n",
        "\n",
        "# Standardize\n",
        "t_parkingbay_sdf, t_parkingbay_malformed_sdf = s.standardize_parking_bay(parkingbay_sdf, load_id, loaded_on)\n",
        "t_sensordata_sdf, t_sensordata_malformed_sdf = s.standardize_sensordata(sensordata_sdf, load_id, loaded_on)\n",
        "\n",
        "# Insert new rows\n",
        "t_parkingbay_sdf.write.mode(\"append\").insertInto(\"interim.parking_bay\")\n",
        "t_sensordata_sdf.write.mode(\"append\").insertInto(\"interim.sensor\")\n",
        "\n",
        "# Insert bad rows\n",
        "t_parkingbay_malformed_sdf.write.mode(\"append\").insertInto(\"malformed.parking_bay\")\n",
        "t_sensordata_malformed_sdf.write.mode(\"append\").insertInto(\"malformed.sensor\")\n",
        "\n",
        "# Recording record counts for logging purpose\n",
        "parkingbay_count = t_parkingbay_sdf.count()\n",
        "sensordata_count = t_sensordata_sdf.count()\n",
        "parkingbay_malformed_count = t_parkingbay_malformed_sdf.count()\n",
        "sensordata_malformed_count = t_sensordata_malformed_sdf.count()"
      ]
    },
    {
      "cell_type": "markdown",
      "metadata": {
        "nteract": {
          "transient": {
            "deleting": false
          }
        }
      },
      "source": [
        "# 4. Observability: Logging to Azure Application Insights using OpenCensus Library"
      ]
    },
    {
      "cell_type": "code",
      "execution_count": null,
      "metadata": {
        "collapsed": true,
        "jupyter": {
          "outputs_hidden": false,
          "source_hidden": false
        },
        "nteract": {
          "transient": {
            "deleting": false
          }
        }
      },
      "outputs": [],
      "source": [
        "import logging\n",
        "import os\n",
        "from opencensus.ext.azure.log_exporter import AzureLogHandler\n",
        "from opencensus.ext.azure.log_exporter import AzureEventHandler\n",
        "from datetime import datetime\n",
        "\n",
        "# Getting Application Insights instrumentation key\n",
        "appi_key = token_library.getSecretWithLS(keyvaultlsname,\"applicationInsightsKey\")\n",
        "\n",
        "# Enable App Insights\n",
        "aiLogger = logging.getLogger(__name__)\n",
        "aiLogger.addHandler(AzureEventHandler(connection_string = 'InstrumentationKey=' + appi_key))\n",
        "\n",
        "aiLogger.setLevel(logging.INFO)\n",
        "\n",
        "aiLogger.info(\"Standardize (ai): Started at \" + datetime.now().strftime(\"%Y-%m-%d %H:%M:%S\"))\n",
        "properties = {\"custom_dimensions\": {\"pipeline\": pipelinename, \"run_id\": loadid, \"parkingbay_count\": parkingbay_count, \"sensordata_count\": sensordata_count, \"parkingbay_malformed_count\": parkingbay_malformed_count, \"sensordata_malformed_count\": sensordata_malformed_count}}\n",
        "aiLogger.info(\"Standardize (ai): Completed at \" + datetime.now().strftime(\"%Y-%m-%d %H:%M:%S\"), extra=properties)\n",
        "\n",
        "# To query this log, go to the Azure Monitor and run the following kusto query (Scope: Application Insights instance):\n",
        "#customEvents\n",
        "#| order by timestamp desc\n",
        "#| project timestamp, appName, name,\n",
        "#    pipelineName             = customDimensions.pipeline,\n",
        "#    pipelineRunId            = customDimensions.run_id,\n",
        "#    parkingbayCount          = customDimensions.parkingbay_count,\n",
        "#    sensordataCount          = customDimensions.sensordata_count,\n",
        "#    parkingbayMalformedCount = customDimensions.parkingbay_malformed_count,\n",
        "#    sensordataMalformedCount = customDimensions.sensordata_malformed_count,\n",
        "#    dimParkingbayCount       = customDimensions.new_parkingbay_count\n"
      ]
    },
    {
      "cell_type": "markdown",
      "metadata": {
        "nteract": {
          "transient": {
            "deleting": false
          }
        }
      },
      "source": [
        "# 5. Observability: Logging to Log Analytics workspace using log4j"
      ]
    },
    {
      "cell_type": "code",
      "execution_count": null,
      "metadata": {
        "collapsed": true,
        "jupyter": {
          "outputs_hidden": false,
          "source_hidden": false
        },
        "nteract": {
          "transient": {
            "deleting": false
          }
        }
      },
      "outputs": [],
      "source": [
        "import logging\n",
        "import sys\n",
        "\n",
        "# Enable Log Analytics using log4j\n",
        "log4jLogger = sc._jvm.org.apache.log4j\n",
        "logger = log4jLogger.LogManager.getLogger(\"ParkingSensorLogs\")\n",
        "\n",
        "def log(msg = ''):\n",
        "    env = mssparkutils.env\n",
        "    formatted_msg = f'Standardize (log4j): {msg}~{pipelinename}~{env.getJobId()}~{env.getPoolName()}~{env.getWorkspaceName()}~{env.getUserId()}'\n",
        "    logger.info(formatted_msg)\n",
        "\n",
        "log(\"Started at \" + datetime.now().strftime(\"%Y-%m-%d %H:%M:%S\"))\n",
        "\n",
        "log(f'parkingbay_count: {parkingbay_count}')\n",
        "log(f'sensordata_count: {sensordata_count}')\n",
        "log(f'parkingbay_malformed_count: {parkingbay_malformed_count}')\n",
        "log(f'sensordata_malformed_count: {sensordata_malformed_count}')\n",
        "\n",
        "log(\"Completed at \" + datetime.now().strftime(\"%Y-%m-%d %H:%M:%S\"))\n",
        "\n",
        "# To query this log, go to the log analytics workspace and run the following kusto query (Scope: Log Analytics Workspace):\n",
        "#SparkLoggingEvent_CL\n",
        "#| where logger_name_s == \"ParkingSensorLogs\"\n",
        "#| order by TimeGenerated desc\n",
        "#| project TimeGenerated, workspaceName_s, Level,\n",
        "#    message         = split(Message, '~', 0),\n",
        "#    pipelineName    = split(Message, '~', 1),\n",
        "#    jobId           = split(Message, '~', 2),\n",
        "#    SparkPoolName   = split(Message, '~', 3),\n",
        "#    UserId          = split(Message, '~', 5)"
      ]
    }
  ],
  "metadata": {
    "description": null,
    "kernel_info": {
      "name": "synapse_pyspark"
    },
    "kernelspec": {
      "display_name": "Synapse PySpark",
      "language": "Python",
      "name": "synapse_pyspark"
    },
    "language_info": {
      "name": "python"
    },
    "save_output": true,
    "synapse_widget": {
      "state": {},
      "version": "0.1"
    }
  },
  "nbformat": 4,
  "nbformat_minor": 2
}

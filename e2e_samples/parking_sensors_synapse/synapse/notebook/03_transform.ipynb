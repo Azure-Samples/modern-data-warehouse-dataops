{
  "nbformat": 4,
  "nbformat_minor": 2,
  "metadata": {
    "kernelspec": {
      "name": "synapse_pyspark",
      "display_name": "Synapse PySpark"
    },
    "language_info": {
      "name": "python"
    },
    "description": null,
    "save_output": true,
    "synapse_widget": {
      "version": "0.1",
      "state": {}
    }
  },
  "cells": [
    {
      "cell_type": "markdown",
      "metadata": {
        "nteract": {
          "transient": {
            "deleting": false
          }
        }
      },
      "source": [
        "# 1. Get dynamic pipeline parameters"
      ]
    },
    {
      "cell_type": "code",
      "execution_count": null,
      "outputs": [],
      "metadata": {
        "jupyter": {
          "source_hidden": false,
          "outputs_hidden": false
        },
        "nteract": {
          "transient": {
            "deleting": false
          }
        },
        "collapsed": true,
        "tags": [
          "parameters"
        ]
      },
      "source": [
        "# Get pipeline name\r\n",
        "pipelinename = 'pipeline_name'\r\n",
        "\r\n",
        "# Get pipeline run id\r\n",
        "loadid = ''\r\n",
        "\r\n",
        "# Get keyvault linked service name\r\n",
        "keyvaultlsname = 'Ls_KeyVault_01'"
      ]
    },
    {
      "cell_type": "markdown",
      "metadata": {
        "nteract": {
          "transient": {
            "deleting": false
          }
        }
      },
      "source": [
        "# 2. Transform and load Dimension tables\r\n",
        ""
      ]
    },
    {
      "cell_type": "code",
      "execution_count": null,
      "outputs": [],
      "metadata": {},
      "source": [
        "import datetime\r\n",
        "import os\r\n",
        "from pyspark.sql.functions import col, lit\r\n",
        "import ddo_transform.transform as t\r\n",
        "import ddo_transform.util as util\r\n",
        "\r\n",
        "load_id = loadid\r\n",
        "loaded_on = datetime.datetime.now()\r\n",
        "\r\n",
        "token_library = sc._jvm.com.microsoft.azure.synapse.tokenlibrary.TokenLibrary\r\n",
        "\r\n",
        "# Primary storage info \r\n",
        "account_name = token_library.getSecretWithLS(keyvaultlsname,\"datalakeaccountname\")\r\n",
        "container_name = 'datalake' # fill in your container name \r\n",
        "relative_path = 'data/dw/' # fill in your relative folder path \r\n",
        "\r\n",
        "base_path = 'abfss://%s@%s.dfs.core.windows.net/%s' % (container_name, account_name, relative_path) \r\n",
        "\r\n",
        "# Read interim cleansed data\r\n",
        "parkingbay_sdf = spark.read.table(\"interim.parking_bay\").filter(col('load_id') == lit(load_id))\r\n",
        "sensordata_sdf = spark.read.table(\"interim.sensor\").filter(col('load_id') == lit(load_id))\r\n",
        "\r\n",
        "# Read existing Dimensions\r\n",
        "dim_parkingbay_sdf = spark.read.table(\"dw.dim_parking_bay\")\r\n",
        "dim_location_sdf = spark.read.table(\"dw.dim_location\")\r\n",
        "dim_st_marker = spark.read.table(\"dw.dim_st_marker\")\r\n",
        "\r\n",
        "# Transform\r\n",
        "new_dim_parkingbay_sdf = t.process_dim_parking_bay(parkingbay_sdf, dim_parkingbay_sdf, load_id, loaded_on).cache()\r\n",
        "new_dim_location_sdf = t.process_dim_location(sensordata_sdf, dim_location_sdf, load_id, loaded_on).cache()\r\n",
        "new_dim_st_marker_sdf = t.process_dim_st_marker(sensordata_sdf, dim_st_marker, load_id, loaded_on).cache()\r\n",
        "\r\n",
        "# Load\r\n",
        "util.save_overwrite_unmanaged_table(spark, new_dim_parkingbay_sdf, table_name=\"dw.dim_parking_bay\", path=os.path.join(base_path, \"dim_parking_bay\"))\r\n",
        "util.save_overwrite_unmanaged_table(spark, new_dim_location_sdf, table_name=\"dw.dim_location\", path=os.path.join(base_path, \"dim_location\"))\r\n",
        "util.save_overwrite_unmanaged_table(spark, new_dim_st_marker_sdf, table_name=\"dw.dim_st_marker\", path=os.path.join(base_path, \"dim_st_marker\"))"
      ]
    },
    {
      "cell_type": "markdown",
      "metadata": {
        "nteract": {
          "transient": {
            "deleting": false
          }
        }
      },
      "source": [
        "# 3. Transform and load Fact tables"
      ]
    },
    {
      "cell_type": "code",
      "execution_count": null,
      "outputs": [],
      "metadata": {
        "jupyter": {
          "source_hidden": false,
          "outputs_hidden": false
        },
        "nteract": {
          "transient": {
            "deleting": false
          }
        },
        "collapsed": true
      },
      "source": [
        "# Read existing Dimensions\r\n",
        "dim_parkingbay_sdf = spark.read.table(\"dw.dim_parking_bay\")\r\n",
        "dim_location_sdf = spark.read.table(\"dw.dim_location\")\r\n",
        "dim_st_marker = spark.read.table(\"dw.dim_st_marker\")\r\n",
        "\r\n",
        "# Process\r\n",
        "new_fact_parking = t.process_fact_parking(sensordata_sdf, dim_parkingbay_sdf, dim_location_sdf, dim_st_marker, load_id, loaded_on)\r\n",
        "\r\n",
        "# Insert new rows\r\n",
        "new_fact_parking.write.mode(\"append\").insertInto(\"dw.fact_parking\")\r\n",
        "\r\n",
        "# Recording record counts for logging purpose\r\n",
        "new_dim_parkingbay_count = spark.read.table(\"dw.dim_parking_bay\").count()\r\n",
        "new_dim_location_count = spark.read.table(\"dw.dim_location\").count()\r\n",
        "new_dim_st_marker_count = spark.read.table(\"dw.dim_st_marker\").count()\r\n",
        "new_fact_parking_count = new_fact_parking.count()"
      ]
    },
    {
      "cell_type": "markdown",
      "metadata": {
        "nteract": {
          "transient": {
            "deleting": false
          }
        }
      },
      "source": [
        "# 4. Observability: Logging to Azure Application Insights using OpenCensus Library"
      ]
    },
    {
      "cell_type": "code",
      "execution_count": null,
      "outputs": [],
      "metadata": {
        "jupyter": {
          "source_hidden": false,
          "outputs_hidden": false
        },
        "nteract": {
          "transient": {
            "deleting": false
          }
        },
        "collapsed": true
      },
      "source": [
        "import logging\r\n",
        "import os\r\n",
        "from opencensus.ext.azure.log_exporter import AzureLogHandler\r\n",
        "from opencensus.ext.azure.log_exporter import AzureEventHandler\r\n",
        "from datetime import datetime\r\n",
        "\r\n",
        "# Getting Application Insights instrumentation key\r\n",
        "appi_key = token_library.getSecretWithLS(keyvaultlsname,\"applicationInsightsKey\")\r\n",
        "\r\n",
        "# Enable App Insights\r\n",
        "aiLogger = logging.getLogger(__name__)\r\n",
        "aiLogger.addHandler(AzureEventHandler(connection_string = 'InstrumentationKey=' + appi_key))\r\n",
        "#logger.addHandler(AzureLogHandler(connection_string = 'InstrumentationKey=' + appi_key))\r\n",
        "\r\n",
        "aiLogger.setLevel(logging.INFO)\r\n",
        "#aiLogger.setLevel(logging.WARNING)\r\n",
        "\r\n",
        "aiLogger.info(\"Transform (ai): Started at \" + datetime.now().strftime(\"%Y-%m-%d %H:%M:%S\"))\r\n",
        "properties = {\"custom_dimensions\": {\"pipeline\": pipelinename, \"run_id\": loadid, \"new_parkingbay_count\": new_dim_parkingbay_count}}\r\n",
        "aiLogger.info(\"Transform (ai): Completed at \" + datetime.now().strftime(\"%Y-%m-%d %H:%M:%S\"), extra=properties)\r\n",
        "\r\n",
        "# To query this log go to the Azure Monitor and run the following kusto query (if you are using the EventHandler)\r\n",
        "#customEvents\r\n",
        "#|order by timestamp desc\r\n",
        "# To query this log go to the Azure Monitor and run the following kusto query (if you are using the LogHandler)\r\n",
        "# traces\r\n",
        "#|order by timestamp desc"
      ]
    },
    {
      "cell_type": "markdown",
      "metadata": {
        "nteract": {
          "transient": {
            "deleting": false
          }
        }
      },
      "source": [
        "# 5. Observability: Logging to Log Analytics workspace using log4j"
      ]
    },
    {
      "cell_type": "code",
      "execution_count": null,
      "outputs": [],
      "metadata": {
        "jupyter": {
          "source_hidden": false,
          "outputs_hidden": false
        },
        "nteract": {
          "transient": {
            "deleting": false
          }
        },
        "collapsed": true
      },
      "source": [
        "import logging\r\n",
        "import sys\r\n",
        "\r\n",
        "# Enable Log Analytics using log4j\r\n",
        "log4jLogger = sc._jvm.org.apache.log4j\r\n",
        "logger = log4jLogger.LogManager.getLogger(\"ParkingSensorLogs\")\r\n",
        "\r\n",
        "def log(msg = ''):\r\n",
        "    env = mssparkutils.env\r\n",
        "    formatted_msg = f'Transform (log4j): {msg}~{pipelinename}~{env.getJobId()}~{env.getPoolName()}~{env.getWorkspaceName()}~{env.getUserId()}'\r\n",
        "    logger.info(formatted_msg)\r\n",
        "\r\n",
        "log(\"Started at \" + datetime.now().strftime(\"%Y-%m-%d %H:%M:%S\"))\r\n",
        "\r\n",
        "log(f'new_dim_parkingbay_count: {new_dim_parkingbay_count}')\r\n",
        "log(f'new_dim_location_count: {new_dim_location_count}')\r\n",
        "log(f'new_dim_st_marker_count: {new_dim_st_marker_count}')\r\n",
        "log(f'new_fact_parking_count: {new_fact_parking_count}')\r\n",
        "\r\n",
        "log(\"Completed at \" + datetime.now().strftime(\"%Y-%m-%d %H:%M:%S\"))\r\n",
        "# To query this log go to the log analytics workspace and run the following kusto query:\r\n",
        "# SparkLoggingEvent_CL\r\n",
        "# | where logger_name_s == \"ParkingSensorLogs\""
      ]
    }
  ]
}
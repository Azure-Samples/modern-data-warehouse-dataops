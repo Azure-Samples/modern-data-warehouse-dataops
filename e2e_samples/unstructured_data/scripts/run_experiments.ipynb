{
 "cells": [
  {
   "cell_type": "code",
   "execution_count": null,
   "metadata": {},
   "outputs": [],
   "source": [
    "%pip install -r ../src/requirements.txt\n",
    "%restart_python"
   ]
  },
  {
   "cell_type": "code",
   "execution_count": null,
   "metadata": {},
   "outputs": [],
   "source": [
    "import logging\n",
    "import os\n",
    "import sys\n",
    "\n",
    "from dotenv import load_dotenv\n",
    "\n",
    "module_path = os.path.abspath(os.path.join(\"..\", \"src\"))\n",
    "if module_path not in sys.path:\n",
    "    sys.path.append(module_path)\n",
    "\n",
    "from common.path_utils import RepoPaths  # noqa: E402\n",
    "from orchestrator.run_experiment import run_experiments  # noqa: E402\n",
    "from orchestrator.telemetry_utils import configure_telemetry  # noqa: E402\n",
    "\n",
    "load_dotenv(override=True)\n",
    "\n",
    "logging.basicConfig()\n",
    "logger = logging.getLogger(__name__)\n",
    "logger.setLevel(logging.INFO)"
   ]
  },
  {
   "cell_type": "code",
   "execution_count": null,
   "metadata": {},
   "outputs": [],
   "source": [
    "# These are the defaults for experiment parameters, update them as needed\n",
    "experiment_name = \"llm_citation_generator\"\n",
    "variants = None\n",
    "run_id = None\n",
    "data_filename = \"test-data.jsonl\"\n",
    "telemetry = None"
   ]
  },
  {
   "cell_type": "code",
   "execution_count": null,
   "metadata": {},
   "outputs": [],
   "source": [
    "if variants is None:\n",
    "    variants = [\"questions/total-revenue/1.yaml\"]\n",
    "\n",
    "telemetry = telemetry.upper() if telemetry is not None else None\n",
    "configure_telemetry(telemetry)\n",
    "\n",
    "data_path = RepoPaths.data_path(data_filename)\n",
    "experiment_config = RepoPaths.experiment_config_path(experiment_name)\n",
    "\n",
    "run_results = run_experiments(\n",
    "    config_filepath=experiment_config,\n",
    "    variants=variants,\n",
    "    run_id=run_id,\n",
    "    data_path=data_path,\n",
    "    output_dir=RepoPaths.run_outputs,\n",
    "    is_eval_data=True,\n",
    ")\n",
    "\n",
    "for r in run_results.results:\n",
    "    logger.info(r)\n",
    "    print(r)\n",
    "\n",
    "logger.info(f\"Run ID: {run_results.run_id}\")\n",
    "print(run_results)"
   ]
  }
 ],
 "metadata": {
  "kernelspec": {
   "display_name": "Python 3",
   "language": "python",
   "name": "python3"
  },
  "language_info": {
   "codemirror_mode": {
    "name": "ipython",
    "version": 3
   },
   "file_extension": ".py",
   "mimetype": "text/x-python",
   "name": "python",
   "nbconvert_exporter": "python",
   "pygments_lexer": "ipython3",
   "version": "3.10.12"
  }
 },
 "nbformat": 4,
 "nbformat_minor": 4
}

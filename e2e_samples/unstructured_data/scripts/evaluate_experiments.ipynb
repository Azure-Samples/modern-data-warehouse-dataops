{
 "cells": [
  {
   "cell_type": "code",
   "execution_count": null,
   "metadata": {},
   "outputs": [],
   "source": [
    "%pip install -r ../src/requirements.txt\n",
    "%restart_python"
   ]
  },
  {
   "cell_type": "code",
   "execution_count": null,
   "metadata": {},
   "outputs": [],
   "source": [
    "import logging\n",
    "import os\n",
    "import sys\n",
    "from typing import Optional\n",
    "\n",
    "module_path = os.path.abspath(os.path.join(\"..\", \"src\"))\n",
    "if module_path not in sys.path:\n",
    "    sys.path.append(module_path)\n",
    "\n",
    "from common.path_utils import RepoPaths  # noqa: E402\n",
    "from dotenv import load_dotenv  # noqa: E402\n",
    "from orchestrator.evaluate import (  # noqa: E402\n",
    "    EvaluationOutput,\n",
    "    evaluate_experiment_results_by_run_id,\n",
    "    evaluate_experiment_results_from_metadata,\n",
    ")\n",
    "\n",
    "load_dotenv(override=True)\n",
    "\n",
    "logging.basicConfig()\n",
    "logger = logging.getLogger(__name__)\n",
    "logger.setLevel(logging.INFO)"
   ]
  },
  {
   "cell_type": "code",
   "execution_count": null,
   "metadata": {},
   "outputs": [],
   "source": [
    "# This notebook can evaluate experiment results by run_id or metadata_paths\n",
    "# Update the variables below to use the desired method\n",
    "metadata_paths = None\n",
    "run_id = None\n",
    "\n",
    "new_metadata_paths = None\n",
    "output: Optional[EvaluationOutput] = None"
   ]
  },
  {
   "cell_type": "code",
   "execution_count": null,
   "metadata": {},
   "outputs": [],
   "source": [
    "if metadata_paths is not None:\n",
    "    new_metadata_paths = []\n",
    "    for p in metadata_paths:\n",
    "        new_metadata_paths.append(RepoPaths.run_outputs.joinpath(p))\n",
    "\n",
    "    output = evaluate_experiment_results_from_metadata(\n",
    "        metadata_paths=new_metadata_paths,\n",
    "        write_to_file=True,\n",
    "    )\n",
    "\n",
    "if run_id is not None:\n",
    "    output = evaluate_experiment_results_by_run_id(\n",
    "        run_id=run_id,\n",
    "        write_to_file=True,\n",
    "    )\n",
    "\n",
    "if output is not None:\n",
    "    for r in output.results:\n",
    "        logger.info(r)\n",
    "\n",
    "    logger.info(f\"Eval Run ID: {output.eval_run_id}\")"
   ]
  }
 ],
 "metadata": {
  "kernelspec": {
   "display_name": "Python 3",
   "language": "python",
   "name": "python3"
  },
  "language_info": {
   "codemirror_mode": {
    "name": "ipython",
    "version": 3
   },
   "file_extension": ".py",
   "mimetype": "text/x-python",
   "name": "python",
   "nbconvert_exporter": "python",
   "pygments_lexer": "ipython3",
   "version": "3.10.12"
  }
 },
 "nbformat": 4,
 "nbformat_minor": 2
}

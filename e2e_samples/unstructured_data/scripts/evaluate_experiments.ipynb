{
 "cells": [
  {
   "cell_type": "code",
   "execution_count": null,
   "metadata": {},
   "outputs": [],
   "source": [
    "%pip install -r ../src/requirements.txt\n",
    "%restart_python"
   ]
  },
  {
   "cell_type": "code",
   "execution_count": null,
   "metadata": {},
   "outputs": [],
   "source": [
    "import logging\n",
    "import os\n",
    "import sys\n",
    "from typing import Optional\n",
    "\n",
    "module_path = os.path.abspath(os.path.join(\"..\", \"src\"))\n",
    "if module_path not in sys.path:\n",
    "    sys.path.append(module_path)\n",
    "\n",
    "from dotenv import load_dotenv  # noqa: E402\n",
    "from orchestrator.config import Config  # noqa: E402\n",
    "from orchestrator.evaluate import (  # noqa: E402\n",
    "    EvaluationResults,\n",
    "    evaluate_experiment_results_by_run_id,\n",
    "    evaluate_experiment_results_from_metadata,\n",
    ")\n",
    "from orchestrator.store_results import MlflowType  # noqa: E402\n",
    "\n",
    "load_dotenv(override=True)\n",
    "\n",
    "logging.basicConfig()\n",
    "logger = logging.getLogger(__name__)\n",
    "logger.setLevel(logging.INFO)"
   ]
  },
  {
   "cell_type": "code",
   "execution_count": null,
   "metadata": {},
   "outputs": [],
   "source": [
    "# This notebook can evaluate experiment results by run_id or metadata_paths\n",
    "# Update the variables below to use the desired method\n",
    "\n",
    "# Only set one of these variables\n",
    "metadata_paths = None\n",
    "run_id = None\n",
    "\n",
    "output: Optional[EvaluationResults] = None\n",
    "\n",
    "# set MlflowType.DATABRICKS if using Databricks\n",
    "mlflow_type = MlflowType.DATABRICKS\n",
    "mlflow_type = None"
   ]
  },
  {
   "cell_type": "code",
   "execution_count": null,
   "metadata": {},
   "outputs": [],
   "source": [
    "if metadata_paths is not None:\n",
    "    new_metadata_paths = []\n",
    "    for p in metadata_paths:\n",
    "        new_metadata_paths.append(Config.run_outputs_dir.joinpath(p))\n",
    "\n",
    "    output = evaluate_experiment_results_from_metadata(\n",
    "        metadata_paths=new_metadata_paths,\n",
    "        write_to_file=True,\n",
    "        mlflow_type=mlflow_type,\n",
    "    )\n",
    "elif run_id is not None:\n",
    "    output = evaluate_experiment_results_by_run_id(\n",
    "        run_id=run_id,\n",
    "        write_to_file=True,\n",
    "        mlflow_type=mlflow_type,\n",
    "    )\n",
    "\n",
    "if output is not None:\n",
    "    for r in output.results:\n",
    "        logger.info(r)\n",
    "\n",
    "    logger.info(f\"Eval Run ID: {output.eval_run_id}\")"
   ]
  }
 ],
 "metadata": {
  "kernelspec": {
   "display_name": "Python 3",
   "language": "python",
   "name": "python3"
  },
  "language_info": {
   "codemirror_mode": {
    "name": "ipython",
    "version": 3
   },
   "file_extension": ".py",
   "mimetype": "text/x-python",
   "name": "python",
   "nbconvert_exporter": "python",
   "pygments_lexer": "ipython3",
   "version": "3.10.12"
  }
 },
 "nbformat": 4,
 "nbformat_minor": 2
}

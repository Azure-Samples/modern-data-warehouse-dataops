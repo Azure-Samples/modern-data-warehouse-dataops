{
 "cells": [
  {
   "cell_type": "code",
   "execution_count": null,
   "metadata": {},
   "outputs": [],
   "source": [
    "upload_to_aml = None\n",
    "metatdata_paths = None\n",
    "metadata_paths = None\n",
    "run_id = \"20250214011034\"\n"
   ]
  },
  {
   "cell_type": "code",
   "execution_count": null,
   "metadata": {},
   "outputs": [],
   "source": [
    "import os\n",
    "import sys\n",
    "\n",
    "from dotenv import load_dotenv\n",
    "\n",
    "module_path = os.path.abspath(os.path.join(\"..\", \"src\"))\n",
    "if module_path not in sys.path:\n",
    "    sys.path.append(module_path)\n",
    "load_dotenv(override=True)\n",
    "\n",
    "import logging\n",
    "\n",
    "from common.path_utils import RepoPaths\n",
    "from orchestrator.aml import AMLWorkspace\n",
    "from orchestrator.evaluate import evaluate_experiment_results_by_run_id, evaluate_experiment_results_from_metadata\n",
    "\n",
    "logging.basicConfig()\n",
    "logger = logging.getLogger(__name__)\n",
    "logger.setLevel(logging.INFO)"
   ]
  },
  {
   "cell_type": "code",
   "execution_count": null,
   "metadata": {},
   "outputs": [],
   "source": [
    "aml_workspace = None\n",
    "if upload_to_aml:\n",
    "    aml_workspace = AMLWorkspace(\n",
    "        os.getenv(\"SUBSCRIPTION_ID\"),\n",
    "        os.getenv(\"RESOURCE_GROUP\"),\n",
    "        os.getenv(\"WORKSPACE_NAME\"),\n",
    "    )\n",
    "\n",
    "metatdata_paths = None\n",
    "if metadata_paths is not None:\n",
    "    metatdata_paths = []\n",
    "    for p in metadata_paths:\n",
    "        metatdata_paths.append(RepoPaths.run_outputs.joinpath(p))\n",
    "\n",
    "    output = evaluate_experiment_results_from_metadata(\n",
    "        metadata_paths=metatdata_paths,\n",
    "        aml_workspace=aml_workspace,\n",
    "        write_to_file=True,\n",
    "    )\n",
    "\n",
    "elif run_id is not None:\n",
    "    output = evaluate_experiment_results_by_run_id(\n",
    "        run_id=run_id,\n",
    "        aml_workspace=aml_workspace,\n",
    "        write_to_file=True,\n",
    "    )\n",
    "\n",
    "for r in output.results:\n",
    "    logger.info(r)\n",
    "\n",
    "logger.info(f\"Eval Run ID: {output.eval_run_id}\")\n"
   ]
  }
 ],
 "metadata": {
  "kernelspec": {
   "display_name": "Python 3",
   "language": "python",
   "name": "python3"
  },
  "language_info": {
   "codemirror_mode": {
    "name": "ipython",
    "version": 3
   },
   "file_extension": ".py",
   "mimetype": "text/x-python",
   "name": "python",
   "nbconvert_exporter": "python",
   "pygments_lexer": "ipython3",
   "version": "3.10.12"
  }
 },
 "nbformat": 4,
 "nbformat_minor": 2
}

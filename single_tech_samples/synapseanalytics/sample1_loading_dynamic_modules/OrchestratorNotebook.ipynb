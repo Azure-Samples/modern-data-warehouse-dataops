{
  "cells": [
    {
      "cell_type": "code",
      "execution_count": 2,
      "metadata": {
        "tags": [
          "parameters"
        ]
      },
      "outputs": [
        {
          "data": {
            "application/vnd.livy.statement-meta+json": {
              "execution_finish_time": "2021-11-29T06:44:29.2940207Z",
              "execution_start_time": "2021-11-29T06:44:29.2939124Z",
              "livy_statement_state": "available",
              "queued_time": "2021-11-29T06:44:29.1893377Z",
              "session_id": 13,
              "session_start_time": null,
              "spark_pool": "SparkPool1",
              "state": "finished",
              "statement_id": 2
            },
            "text/plain": [
              "StatementMeta(SparkPool1, 13, 2, Finished, Available)"
            ]
          },
          "metadata": {},
          "output_type": "display_data"
        }
      ],
      "source": [
        "base_path = ''\n",
        "filename = ''\n",
        "storage_account_name = ''\n",
        "container_name = ''\n",
        "database = ''\n",
        "target_table = ''\n",
        "module_name = ''\n",
        "module_config = ''\n",
        "pipeline_run_id = ''"
      ]
    },
    {
      "cell_type": "code",
      "execution_count": null,
      "metadata": {},
      "outputs": [],
      "source": [
        "spark.conf.set(\"spark.storage.synapse.linkedServiceName\", 'adls-linkedservice')\n",
        "spark.conf.set(\"fs.azure.account.oauth.provider.type\", \"com.microsoft.azure.synapse.tokenlibrary.LinkedServiceBasedTokenProvider\") \n"
      ]
    },
    {
      "cell_type": "code",
      "execution_count": 3,
      "metadata": {
        "jupyter": {
          "outputs_hidden": false,
          "source_hidden": false
        },
        "nteract": {
          "transient": {
            "deleting": false
          }
        }
      },
      "outputs": [
        {
          "data": {
            "application/vnd.livy.statement-meta+json": {
              "execution_finish_time": "2021-11-29T06:45:15.0386624Z",
              "execution_start_time": "2021-11-29T06:44:29.5672342Z",
              "livy_statement_state": "available",
              "queued_time": "2021-11-29T06:44:29.4639432Z",
              "session_id": 13,
              "session_start_time": null,
              "spark_pool": "SparkPool1",
              "state": "finished",
              "statement_id": 3
            },
            "text/plain": [
              "StatementMeta(SparkPool1, 13, 3, Finished, Available)"
            ]
          },
          "metadata": {},
          "output_type": "display_data"
        },
        {
          "name": "stdout",
          "output_type": "stream",
          "text": [
            "ExitValue: country_list.csv"
          ]
        }
      ],
      "source": [
        "import importlib\n",
        "import json\n",
        "import logging\n",
        "\n",
        "logger = sc._jvm.org.apache.log4j.LogManager.getLogger(\"edm-log4j-logger\") \n",
        "\n",
        "tranformer_module = importlib.import_module(module_name)\n",
        "\n",
        "# log input parameters\n",
        "logger.info(f\"Pipeline Run ID : {pipeline_run_id}\")\n",
        "logger.debug(f\"Base path parameter value {base_path}\")\n",
        "logger.debug(f\"File name parameter value {filename}\")\n",
        "logger.debug(f\"Storage account name parameter value {storage_account_name}\")\n",
        "logger.debug(f\"Container Name parameter value {container_name}\")\n",
        "logger.debug(f\"Database name parameter value {database}\")\n",
        "logger.debug(f\"Target table parameter value {target_table}\")\n",
        "logger.debug(f\"Module name parameter value {module_name}\")\n",
        "logger.debug(f\"Target table parameter value {module_config}\")\n",
        "\n",
        "target_table_config = json.loads(target_table)\n",
        "tranformation_config = json.loads(module_config)\n",
        "# Parse\n",
        "destination_table = target_table_config[\"name\"]\n",
        "external_table_path = target_table_config[\"path\"]\n",
        "\n",
        "\n",
        "# Read data from source, filename empty means data will be read by transformers internally directly from tables.  # noqa: E501\n",
        "if (filename):\n",
        "    adlsUri = f\"abfss://{container_name}@{storage_account_name}.dfs.core.windows.net/\"  # noqa: E501\n",
        "    full_path = adlsUri + base_path    \n",
        "    sourcedf = spark.read.option(\"header\",\"true\").csv(full_path + \"/\" + filename)\n",
        "else:\n",
        "    sourcedf = []\n",
        "\n",
        "# Tranform the data\n",
        "finaldf = tranformer_module.transform(spark, sourcedf, tranformation_config)\n",
        "# Check for table existence\n",
        "spark_tables = spark.catalog.listTables()\n",
        "is_table_exists = any(x.name == destination_table for x in spark_tables)\n",
        "if is_table_exists:\n",
        "    finaldf.write.mode(\"append\").insertInto(database + '.' + destination_table)\n",
        "    logger.info(f\"Data appended to table: {destination_table} after {module_name} transformation\")\n",
        "else:\n",
        "    finaldf.write.mode(\"overwrite\").option(\"path\",external_table_path).saveAsTable(database + '.' + destination_table);\n",
        "    logger.info(f\"New table {destination_table} created after {module_name} transformation!\")\n",
        "\n",
        "mssparkutils.notebook.exit(filename)"
      ]
    }
  ],
  "metadata": {
    "description": null,
    "kernelspec": {
      "display_name": "Synapse PySpark",
      "name": "synapse_pyspark"
    },
    "language_info": {
      "name": "python"
    },
    "save_output": true,
    "synapse_widget": {
      "state": {},
      "version": "0.1"
    }
  },
  "nbformat": 4,
  "nbformat_minor": 2
}

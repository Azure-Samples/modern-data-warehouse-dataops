{
  "cells": [
    {
      "cell_type": "markdown",
      "metadata": {
        "nteract": {
          "transient": {
            "deleting": false
          }
        }
      },
      "source": [
        "# Parameters passed from Pipeline"
      ]
    },
    {
      "cell_type": "code",
      "execution_count": 25,
      "metadata": {
        "tags": [
          "parameters"
        ]
      },
      "outputs": [
        {
          "data": {
            "application/vnd.livy.statement-meta+json": {
              "execution_finish_time": "2023-02-07T20:43:02.9953123Z",
              "execution_start_time": "2023-02-07T20:43:02.777322Z",
              "livy_statement_state": "available",
              "queued_time": "2023-02-07T20:39:24.4613986Z",
              "session_id": "89",
              "session_start_time": "2023-02-07T20:39:24.5108698Z",
              "spark_jobs": null,
              "spark_pool": "sysparkpoolyd10",
              "state": "finished",
              "statement_id": 1
            },
            "text/plain": [
              "StatementMeta(sysparkpoolyd10, 89, 1, Finished, Available)"
            ]
          },
          "metadata": {},
          "output_type": "display_data"
        }
      ],
      "source": [
        "dynamicyear = \"\"\n",
        "dynamicmonth = \"\"\n",
        "stgAccountName = \"\"\n",
        "retentionDate = \"\"\n",
        "retentionTimeInYears = 2"
      ]
    },
    {
      "cell_type": "markdown",
      "metadata": {
        "nteract": {
          "transient": {
            "deleting": false
          }
        }
      },
      "source": [
        "# Delete data no longer needed on the retention policy in the Data Lake (2 years in our example)"
      ]
    },
    {
      "cell_type": "code",
      "execution_count": null,
      "metadata": {
        "jupyter": {
          "outputs_hidden": false,
          "source_hidden": false
        },
        "nteract": {
          "transient": {
            "deleting": false
          }
        }
      },
      "outputs": [],
      "source": [
        "from delta.tables import *\n",
        "from pyspark.sql.functions import *\n",
        "\n",
        "adls2_account_name = stgAccountName\n",
        "adls2_container_name = \"datalake\"\n",
        "adls2_folderyear = dynamicyear\n",
        "adls2_foldermonth = dynamicmonth\n",
        "\n",
        "spark.sql(\"SET spark.databricks.delta.retentionDurationCheck.enabled = false\")  \n",
        "delta_table_path = 'abfss://{0}@{1}.dfs.core.windows.net/{2}/{3}/'.format(adls2_container_name, adls2_account_name, adls2_folderyear, adls2_foldermonth)\n",
        "\n",
        "# Create Delta Table Object\n",
        "deltaTableLake = DeltaTable.forPath(spark, delta_table_path )\n",
        "\n",
        "# Delete data according to the company police (2 years on our example)\n",
        "deleteStatement = '{0}'.format(retentionDate)\n",
        "deltaTableLake.delete(\"tpep_pickup_datetime < '{0}'\".format(deleteStatement)) \n",
        "# Vacuum files that will no longer be referenced\n",
        "spark.sql(\"SET spark.databricks.delta.retentionDurationCheck.enabled = false\") \n",
        "# zero refers to no retention time for this files, so it means they will be deleted immediately\n",
        "deltaTableLake.vacuum(0)\n",
        "\n"
      ]
    },
    {
      "cell_type": "markdown",
      "metadata": {
        "nteract": {
          "transient": {
            "deleting": false
          }
        }
      },
      "source": [
        "# Update configuration file (deleting data no covered by retention, so is not re-ingested)"
      ]
    },
    {
      "cell_type": "markdown",
      "metadata": {
        "nteract": {
          "transient": {
            "deleting": false
          }
        }
      },
      "source": [
        "## Import Libraries"
      ]
    },
    {
      "cell_type": "code",
      "execution_count": 32,
      "metadata": {
        "jupyter": {
          "outputs_hidden": false,
          "source_hidden": false
        },
        "nteract": {
          "transient": {
            "deleting": false
          }
        }
      },
      "outputs": [
        {
          "data": {
            "application/vnd.livy.statement-meta+json": {
              "execution_finish_time": "2023-02-07T20:48:31.9216432Z",
              "execution_start_time": "2023-02-07T20:48:31.7248257Z",
              "livy_statement_state": "available",
              "queued_time": "2023-02-07T20:48:31.570058Z",
              "session_id": "89",
              "session_start_time": null,
              "spark_jobs": null,
              "spark_pool": "sysparkpoolyd10",
              "state": "finished",
              "statement_id": 8
            },
            "text/plain": [
              "StatementMeta(sysparkpoolyd10, 89, 8, Finished, Available)"
            ]
          },
          "metadata": {},
          "output_type": "display_data"
        }
      ],
      "source": [
        "import json\n",
        "from notebookutils import mssparkutils\n",
        "from datetime import datetime\n",
        "from adlsaccess.synadlsaccess import ADLSOps"
      ]
    },
    {
      "cell_type": "markdown",
      "metadata": {
        "nteract": {
          "transient": {
            "deleting": false
          }
        }
      },
      "source": [
        "## Define constants, variables and fetch secret values"
      ]
    },
    {
      "cell_type": "code",
      "execution_count": 27,
      "metadata": {
        "jupyter": {
          "outputs_hidden": false,
          "source_hidden": false
        },
        "nteract": {
          "transient": {
            "deleting": false
          }
        }
      },
      "outputs": [
        {
          "data": {
            "application/vnd.livy.statement-meta+json": {
              "execution_finish_time": "2023-02-07T20:43:35.7262624Z",
              "execution_start_time": "2023-02-07T20:43:33.8155501Z",
              "livy_statement_state": "available",
              "queued_time": "2023-02-07T20:43:33.683034Z",
              "session_id": "89",
              "session_start_time": null,
              "spark_jobs": null,
              "spark_pool": "sysparkpoolyd10",
              "state": "finished",
              "statement_id": 3
            },
            "text/plain": [
              "StatementMeta(sysparkpoolyd10, 89, 3, Finished, Available)"
            ]
          },
          "metadata": {},
          "output_type": "display_data"
        }
      ],
      "source": [
        "# Constants\n",
        "keyvault_ls_name = \"Ls_NYCTaxi_KeyVault\"\n",
        "storage_key_name = \"datalakeKey\"\n",
        "data_container = \"datalake\"\n",
        "config_container = \"config\"\n",
        "config_file_name = \"datalake_config.json\"\n",
        "config_file_path = \"/\"\n",
        "\n",
        "# Variables\n",
        "current_year = datetime.utcnow().strftime(\"%Y\")\n",
        "current_month = int(datetime.utcnow().strftime(\"%m\"))\n",
        "retention_year = int(current_year)-int(retentionTimeInYears)\n",
        "current_ts = datetime.utcnow().strftime(\"%Y-%m-%dT%H:%M:%SZ\")\n",
        "\n",
        "# Secrets based values\n",
        "storage_access_key = mssparkutils.credentials.getSecretWithLS(keyvault_ls_name, storage_key_name)\n",
        "storage_acct_connection = f\"DefaultEndpointsProtocol=https;AccountName={stgAccountName};AccountKey={storage_access_key};EndpointSuffix=core.windows.net\"\n"
      ]
    },
    {
      "cell_type": "markdown",
      "metadata": {
        "nteract": {
          "transient": {
            "deleting": false
          }
        }
      },
      "source": [
        "## Get configuration file, and delete entries that are no longer in the retention period"
      ]
    },
    {
      "cell_type": "code",
      "execution_count": null,
      "metadata": {
        "jupyter": {
          "outputs_hidden": false,
          "source_hidden": false
        },
        "nteract": {
          "transient": {
            "deleting": false
          }
        }
      },
      "outputs": [],
      "source": [
        "adls_ops = ADLSOps(stgAccountName, keyvault_ls_name, storage_key_name)\n",
        "adls_ops.initialize_storage_account(storage_access_key)\n",
        "config = adls_ops.read_config_from_adls()\n",
        "configDeleteFinal=adls_ops.update_datalake_config_with_retention(config,retention_year,current_month)\n",
        "\n",
        "# mssparkutils.fs.help()\n",
        "source_config = f\"abfss://{adls_ops.config_container}@{stgAccountName}.dfs.core.windows.net{adls_ops.config_file_path}{adls_ops.config_file_name}\"\n",
        "backup_config = f\"abfss://{adls_ops.config_container}@{stgAccountName}.dfs.core.windows.net{adls_ops.config_file_path}{adls_ops.config_file_name}_{current_ts}\"\n",
        "\n",
        "mssparkutils.fs.mv(source_config, backup_config, overwrite=True)\n",
        "jsonResult=json.dumps(configDeleteFinal,indent=2, default=str)   \n",
        "mssparkutils.fs.put(source_config, jsonResult, overwrite=True)\n"
      ]
    }
  ],
  "metadata": {
    "description": null,
    "kernel_info": {
      "name": "synapse_pyspark"
    },
    "kernelspec": {
      "display_name": "Python 3",
      "language": "python",
      "name": "python3"
    },
    "language_info": {
      "name": "python",
      "version": "3.10.9 (tags/v3.10.9:1dd9be6, Dec  6 2022, 20:01:21) [MSC v.1934 64 bit (AMD64)]"
    },
    "save_output": true,
    "synapse_widget": {
      "state": {},
      "version": "0.1"
    },
    "vscode": {
      "interpreter": {
        "hash": "13a507f1b7e58130c01c2759096d339f2133b6331e760f59296e0922521e11c8"
      }
    }
  },
  "nbformat": 4,
  "nbformat_minor": 2
}

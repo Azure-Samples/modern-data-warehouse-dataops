{
  "cells": [
    {
      "attachments": {},
      "cell_type": "markdown",
      "source": [
        "## Install Required Python Modules\n"
      ],
      "metadata": {
        "nteract": {
          "transient": {
            "deleting": false
          }
        }
      }
    },
    {
      "cell_type": "markdown",
      "source": [
        "\n",
        "*`az synapse spark pool update` with --library-requirements requirements.txt* - *Concern: Long time(~ 20 mins) for the statement to return status*\n",
        "\n",
        "*In this implementation a consolidated wheel file was used as a workspace package. - Concern - even this is taking ~15 mins for Spark pool to get updated*"
      ],
      "metadata": {
        "nteract": {
          "transient": {
            "deleting": false
          }
        }
      }
    },
    {
      "cell_type": "markdown",
      "source": [
        "# Import Libraries"
      ],
      "metadata": {
        "nteract": {
          "transient": {
            "deleting": false
          }
        }
      }
    },
    {
      "cell_type": "code",
      "source": [
        "# pip install azure-storage-file-datalake\n",
        "import json\n",
        "from collections import defaultdict\n",
        "from datetime import datetime\n",
        "from notebookutils import mssparkutils\n",
        "from adlsaccess.synadlsaccess import ADLSOps"
      ],
      "outputs": [],
      "execution_count": null,
      "metadata": {
        "jupyter": {
          "outputs_hidden": false,
          "source_hidden": false
        },
        "nteract": {
          "transient": {
            "deleting": false
          }
        }
      }
    },
    {
      "cell_type": "markdown",
      "source": [
        "## Define Parameters to Enable connection to Storage"
      ],
      "metadata": {
        "nteract": {
          "transient": {
            "deleting": false
          }
        }
      }
    },
    {
      "cell_type": "code",
      "source": [
        "\n",
        "# Read from pipeline\n",
        "storage_acct = \"\"\n",
        "\n",
        "# Mostly constant\n",
        "\n",
        "keyvault_ls_name = \"Ls_NYCTaxi_KeyVault\"\n",
        "storage_key_name = \"datalakeKey\"\n",
        "\n",
        "adls_ops = ADLSOps(storage_acct, keyvault_ls_name, storage_key_name)\n",
        "current_ts = adls_ops.get_current_ts()\n",
        "\n",
        "# Secrets based values\n",
        "storage_access_key = mssparkutils.credentials.getSecretWithLS(keyvault_ls_name, storage_key_name)\n",
        "storage_acct_connection = f\"DefaultEndpointsProtocol=https;AccountName={storage_acct};AccountKey={storage_access_key};EndpointSuffix=core.windows.net\"\n"
      ],
      "outputs": [],
      "execution_count": null,
      "metadata": {
        "jupyter": {
          "outputs_hidden": false,
          "source_hidden": false
        },
        "nteract": {
          "transient": {
            "deleting": false
          }
        },
        "tags": [
          "parameters"
        ]
      }
    },
    {
      "cell_type": "markdown",
      "source": [
        "## Read Config from ADLS"
      ],
      "metadata": {
        "nteract": {
          "transient": {
            "deleting": false
          }
        }
      }
    },
    {
      "cell_type": "code",
      "source": [
        "adls_ops = ADLSOps(storage_acct, keyvault_ls_name, storage_key_name)\n",
        "adls_ops.initialize_storage_account(storage_access_key)\n",
        "config = adls_ops.read_config_from_adls()"
      ],
      "outputs": [],
      "execution_count": null,
      "metadata": {
        "jupyter": {
          "outputs_hidden": false,
          "source_hidden": false
        },
        "nteract": {
          "transient": {
            "deleting": false
          }
        }
      }
    },
    {
      "cell_type": "markdown",
      "source": [
        "## Evaluate overall ACLs needed in short form"
      ],
      "metadata": {
        "nteract": {
          "transient": {
            "deleting": false
          }
        }
      }
    },
    {
      "cell_type": "code",
      "source": [
        "\n",
        "ad_perms = adls_ops.evaluate_ad_acl_perms(config, current_ts)\n",
        "\n",
        "# Gather list of ADs and their ids - ids are needed for granting ACLs\n",
        "# One Option - Requires APP ID - https://github.com/AzureAD/microsoft-authentication-library-for-python\n",
        "# for now reading from Vault\n",
        "try:\n",
        "    ad_map = { ad: mssparkutils.credentials.getSecretWithLS(keyvault_ls_name, ad) for ad in adls_ops.ad_set}\n",
        "except Exception as e:\n",
        "    config_check_errors.append(f\"No ID returned for given Active directory name. error is {e}\")\n",
        "    \n",
        "print(ad_map)"
      ],
      "outputs": [],
      "execution_count": null,
      "metadata": {
        "jupyter": {
          "outputs_hidden": false,
          "source_hidden": false
        },
        "nteract": {
          "transient": {
            "deleting": false
          }
        }
      }
    },
    {
      "cell_type": "markdown",
      "source": [
        "## Grant ACLs Recursively"
      ],
      "metadata": {
        "nteract": {
          "transient": {
            "deleting": false
          }
        }
      }
    },
    {
      "cell_type": "code",
      "source": [
        "adls_ops.update_parent_folder_acls(ad_perms, ad_map)\n",
        "adls_ops.update_ad_acls(ad_perms, ad_map)\n",
        "adls_ops.check_config_errors()\n"
      ],
      "outputs": [],
      "execution_count": null,
      "metadata": {
        "jupyter": {
          "outputs_hidden": false,
          "source_hidden": false
        },
        "nteract": {
          "transient": {
            "deleting": false
          }
        }
      }
    },
    {
      "cell_type": "markdown",
      "source": [
        "## Update Config file with latest run time\n",
        "- rename with timestamp and create a new config file to reflect lastUpdatedDatalake timestamp"
      ],
      "metadata": {
        "nteract": {
          "transient": {
            "deleting": false
          }
        }
      }
    },
    {
      "cell_type": "code",
      "source": [
        "# mssparkutils.fs.help()\n",
        "source_config = f\"abfss://{adls_ops.config_container}@{storage_acct}.dfs.core.windows.net{adls_ops.config_file_path}{adls_ops.config_file_name}\"\n",
        "backup_config = f\"abfss://{adls_ops.config_container}@{storage_acct}.dfs.core.windows.net{adls_ops.config_file_path}{adls_ops.config_file_name}_{current_ts}\"\n",
        "mssparkutils.fs.mv(source_config, backup_config, overwrite=True)\n",
        "mssparkutils.fs.put(source_config, json.dumps(config, indent=2, default=str), overwrite=True)\n"
      ],
      "outputs": [],
      "execution_count": null,
      "metadata": {
        "jupyter": {
          "outputs_hidden": false,
          "source_hidden": false
        },
        "nteract": {
          "transient": {
            "deleting": false
          }
        }
      }
    }
  ],
  "metadata": {
    "kernelspec": {
      "name": "synapse_pyspark",
      "display_name": "python"
    },
    "language_info": {
      "name": "python"
    },
    "description": null,
    "save_output": true,
    "synapse_widget": {
      "version": "0.1",
      "state": {}
    }
  },
  "nbformat": 4,
  "nbformat_minor": 2
}
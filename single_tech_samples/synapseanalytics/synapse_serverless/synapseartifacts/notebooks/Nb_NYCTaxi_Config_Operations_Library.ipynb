{
  "cells": [
    {
      "attachments": {},
      "cell_type": "markdown",
      "metadata": {
        "nteract": {
          "transient": {
            "deleting": false
          }
        }
      },
      "source": [
        "## Install Required Python Modules\n"
      ]
    },
    {
      "cell_type": "markdown",
      "metadata": {
        "nteract": {
          "transient": {
            "deleting": false
          }
        }
      },
      "source": [
        "\n",
        "*`az synapse spark pool update` with --library-requirements requirements.txt* - *Concern: Long time(~ 20 mins) for the statement to return status*\n",
        "\n",
        "*In this implementation a consolidated wheel file was used as a workspace package. - Concern - even this is taking ~15 mins for Spark pool to get updated*"
      ]
    },
    {
      "cell_type": "markdown",
      "metadata": {
        "nteract": {
          "transient": {
            "deleting": false
          }
        }
      },
      "source": [
        "# Import Libraries"
      ]
    },
    {
      "cell_type": "code",
      "execution_count": null,
      "metadata": {
        "jupyter": {
          "outputs_hidden": false,
          "source_hidden": false
        },
        "nteract": {
          "transient": {
            "deleting": false
          }
        }
      },
      "outputs": [],
      "source": [
        "# pip install azure-storage-file-datalake\n",
        "import json\n",
        "from collections import defaultdict\n",
        "from datetime import datetime\n",
        "from notebookutils import mssparkutils\n",
        "from adlsaccess.synadlsaccess import ADLSOps"
      ]
    },
    {
      "cell_type": "markdown",
      "metadata": {
        "nteract": {
          "transient": {
            "deleting": false
          }
        }
      },
      "source": [
        "## Define Parameters to Enable connection to Storage"
      ]
    },
    {
      "cell_type": "code",
      "execution_count": null,
      "metadata": {
        "jupyter": {
          "outputs_hidden": false,
          "source_hidden": false
        },
        "nteract": {
          "transient": {
            "deleting": false
          }
        },
        "tags": [
          "parameters"
        ]
      },
      "outputs": [],
      "source": [
        "\n",
        "# Read from pipeline\n",
        "storage_acct = \"\"\n",
        "\n",
        "# Mostly constant\n",
        "\n",
        "keyvault_ls_name = \"Ls_NYCTaxi_KeyVault\"\n",
        "storage_key_name = \"datalakeKey\"\n",
        "\n",
        "adls_ops = ADLSOps(storage_acct, keyvault_ls_name, storage_key_name)\n",
        "current_ts = adls_ops.get_current_ts()\n",
        "\n",
        "# Secrets based values\n",
        "storage_access_key = mssparkutils.credentials.getSecretWithLS(keyvault_ls_name, storage_key_name)\n",
        "storage_acct_connection = f\"DefaultEndpointsProtocol=https;AccountName={storage_acct};AccountKey={storage_access_key};EndpointSuffix=core.windows.net\"\n"
      ]
    },
    {
      "cell_type": "markdown",
      "metadata": {
        "nteract": {
          "transient": {
            "deleting": false
          }
        }
      },
      "source": [
        "## Read Config from ADLS"
      ]
    },
    {
      "cell_type": "code",
      "execution_count": null,
      "metadata": {
        "jupyter": {
          "outputs_hidden": false,
          "source_hidden": false
        },
        "nteract": {
          "transient": {
            "deleting": false
          }
        }
      },
      "outputs": [],
      "source": [
        "adls_ops = ADLSOps(storage_acct, keyvault_ls_name, storage_key_name)\n",
        "adls_ops.initialize_storage_account(storage_access_key)\n",
        "config = adls_ops.read_config_from_adls()"
      ]
    },
    {
      "cell_type": "markdown",
      "metadata": {
        "nteract": {
          "transient": {
            "deleting": false
          }
        }
      },
      "source": [
        "## Evaluate overall ACLs needed in short form"
      ]
    },
    {
      "cell_type": "code",
      "execution_count": null,
      "metadata": {
        "jupyter": {
          "outputs_hidden": false,
          "source_hidden": false
        },
        "nteract": {
          "transient": {
            "deleting": false
          }
        }
      },
      "outputs": [],
      "source": [
        "\n",
        "ad_perms = adls_ops.evaluate_ad_acl_perms(config, current_ts)\n",
        "\n",
        "# Gather list of ADs and their ids - ids are needed for granting ACLs\n",
        "# One Option - Requires APP ID - https://github.com/AzureAD/microsoft-authentication-library-for-python\n",
        "# for now reading from Vault\n",
        "try:\n",
        "    ad_map = { ad: mssparkutils.credentials.getSecretWithLS(keyvault_ls_name, ad) for ad in adls_ops.ad_set}\n",
        "except Exception as e:\n",
        "    config_check_errors.append(f\"No ID returned for given Microsoft Entra ID name. error is {e}\")\n",
        "    \n",
        "print(ad_map)"
      ]
    },
    {
      "cell_type": "markdown",
      "metadata": {
        "nteract": {
          "transient": {
            "deleting": false
          }
        }
      },
      "source": [
        "## Grant ACLs Recursively"
      ]
    },
    {
      "cell_type": "code",
      "execution_count": null,
      "metadata": {
        "jupyter": {
          "outputs_hidden": false,
          "source_hidden": false
        },
        "nteract": {
          "transient": {
            "deleting": false
          }
        }
      },
      "outputs": [],
      "source": [
        "adls_ops.update_parent_folder_acls(ad_perms, ad_map)\n",
        "adls_ops.update_ad_acls(ad_perms, ad_map)\n",
        "adls_ops.check_config_errors()\n"
      ]
    },
    {
      "cell_type": "markdown",
      "metadata": {
        "nteract": {
          "transient": {
            "deleting": false
          }
        }
      },
      "source": [
        "## Update Config file with latest run time\n",
        "- rename with timestamp and create a new config file to reflect lastUpdatedDatalake timestamp"
      ]
    },
    {
      "cell_type": "code",
      "execution_count": null,
      "metadata": {
        "jupyter": {
          "outputs_hidden": false,
          "source_hidden": false
        },
        "nteract": {
          "transient": {
            "deleting": false
          }
        }
      },
      "outputs": [],
      "source": [
        "# mssparkutils.fs.help()\n",
        "source_config = f\"abfss://{adls_ops.config_container}@{storage_acct}.dfs.core.windows.net{adls_ops.config_file_path}{adls_ops.config_file_name}\"\n",
        "backup_config = f\"abfss://{adls_ops.config_container}@{storage_acct}.dfs.core.windows.net{adls_ops.config_file_path}{adls_ops.config_file_name}_{current_ts}\"\n",
        "mssparkutils.fs.mv(source_config, backup_config, overwrite=True)\n",
        "mssparkutils.fs.put(source_config, json.dumps(config, indent=2, default=str), overwrite=True)\n"
      ]
    }
  ],
  "metadata": {
    "description": null,
    "kernelspec": {
      "display_name": "python",
      "name": "synapse_pyspark"
    },
    "language_info": {
      "name": "python"
    },
    "save_output": true,
    "synapse_widget": {
      "state": {},
      "version": "0.1"
    }
  },
  "nbformat": 4,
  "nbformat_minor": 2
}

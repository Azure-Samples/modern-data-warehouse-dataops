{
 "cells": [
  {
   "cell_type": "markdown",
   "id": "cc86929d-e563-43f4-8a9f-9567100f3381",
   "metadata": {
    "nteract": {
     "transient": {
      "deleting": false
     }
    }
   },
   "source": [
    "### Parameter Setup"
   ]
  },
  {
   "cell_type": "code",
   "execution_count": null,
   "id": "d60b6aa9-2f23-497c-a2df-a82ca1b0cea9",
   "metadata": {
    "jupyter": {
     "outputs_hidden": false,
     "source_hidden": false
    },
    "nteract": {
     "transient": {
      "deleting": false
     }
    },
    "tags": [
     "parameters"
    ]
   },
   "outputs": [],
   "source": [
    "fabric_tenant = spark.conf.get(\"spark.fsd.fabric.tenant\")\n"
   ]
  },
  {
   "cell_type": "markdown",
   "id": "2525717a-a04d-43eb-9a95-20c10abfd29c",
   "metadata": {
    "nteract": {
     "transient": {
      "deleting": false
     }
    }
   },
   "source": [
    "### Load cleaned data from standardization zone"
   ]
  },
  {
   "cell_type": "code",
   "execution_count": null,
   "id": "0e3b7f39-343d-4898-9896-7357dc6466b7",
   "metadata": {},
   "outputs": [],
   "source": [
    "import pandas as pd\n",
    "import numpy as np\n",
    "\n",
    "# Load cleaned Yellow Taxi Trip Records parquet file from standardization zone to pandas dataframe\n",
    "year = \"2022\"\n",
    "standard_path = \"03_standard\"\n",
    "\n",
    "pd_df = pd.read_parquet(f\"/lakehouse/default/Files/{standard_path}/cleaned_yellow_taxi_tripdata_{year}.parquet\", engine=\"pyarrow\")\n",
    "pd_df.head()\n"
   ]
  },
  {
   "cell_type": "code",
   "execution_count": null,
   "id": "181f1756-cec4-4f6f-a35d-4fe1568b5f65",
   "metadata": {
    "jupyter": {
     "outputs_hidden": false,
     "source_hidden": false
    },
    "nteract": {
     "transient": {
      "deleting": false
     }
    }
   },
   "outputs": [],
   "source": [
    "# Load cleansed NYC weather data from standardization zone\n",
    "weather_df = pd.read_parquet(f\"/lakehouse/default/Files/{standard_path}/cleaned_nyc_weather_{year}.parquet\")\n",
    "weather_df.head()\n"
   ]
  },
  {
   "cell_type": "code",
   "execution_count": null,
   "id": "29a12eaf-098f-46b8-93ed-fbb82789a1c1",
   "metadata": {
    "jupyter": {
     "outputs_hidden": false,
     "source_hidden": false
    },
    "nteract": {
     "transient": {
      "deleting": false
     }
    }
   },
   "outputs": [],
   "source": [
    "# Load location zones data from standardization zone\n",
    "zones_df = pd.read_parquet(f\"/lakehouse/default/Files/{standard_path}/nyc_zones.parquet\")\n",
    "zones_df.head()\n"
   ]
  },
  {
   "cell_type": "markdown",
   "id": "2f99d28d-ca94-423b-853c-a7ce0c867d96",
   "metadata": {
    "nteract": {
     "transient": {
      "deleting": false
     }
    }
   },
   "source": [
    "### Data transformation"
   ]
  },
  {
   "cell_type": "code",
   "execution_count": null,
   "id": "12a0b630-7ef2-469b-9989-2f50a1d21d71",
   "metadata": {
    "jupyter": {
     "outputs_hidden": false,
     "source_hidden": false
    },
    "nteract": {
     "transient": {
      "deleting": false
     }
    }
   },
   "outputs": [],
   "source": [
    "# Derive month columns from pickup and dropoff datetime columns\n",
    "pd_df[\"month_pickup\"] = pd_df[\"tpep_pickup_datetime\"].dt.month.astype(np.uint8)\n",
    "pd_df[\"month_dropoff\"] = pd_df[\"tpep_dropoff_datetime\"].dt.month.astype(np.uint8)\n",
    "\n",
    "# Derive day columns\n",
    "pd_df[\"day_pickup\"] = pd_df[\"tpep_pickup_datetime\"].dt.day.astype(np.uint8)\n",
    "pd_df[\"day_dropoff\"] = pd_df[\"tpep_dropoff_datetime\"].dt.day.astype(np.uint8)\n",
    "\n",
    "# Derive weekday columns\n",
    "pd_df[\"weekday_pickup\"] = pd_df[\"tpep_pickup_datetime\"].dt.weekday.astype(np.uint8)\n",
    "pd_df[\"weekday_dropoff\"] = pd_df[\"tpep_dropoff_datetime\"].dt.weekday.astype(np.uint8)\n",
    "\n",
    "# Derive hour of day columns\n",
    "pd_df[\"hour_pickup\"] = pd_df[\"tpep_pickup_datetime\"].dt.hour.astype(np.uint8)\n",
    "pd_df[\"hour_dropoff\"] = pd_df[\"tpep_dropoff_datetime\"].dt.hour.astype(np.uint8)\n",
    "\n",
    "pd_df.head()\n"
   ]
  },
  {
   "cell_type": "code",
   "execution_count": null,
   "id": "ccb9064a-b34c-4bce-b865-924730ca751c",
   "metadata": {
    "jupyter": {
     "outputs_hidden": false,
     "source_hidden": false
    },
    "nteract": {
     "transient": {
      "deleting": false
     }
    }
   },
   "outputs": [],
   "source": [
    "# Join location zones data with trip data\n",
    "pd_df = pd_df.join(zones_df.set_index(\"LocationID\"), on=\"PULocationID\")\n",
    "pd_df.head()\n"
   ]
  },
  {
   "cell_type": "code",
   "execution_count": null,
   "id": "a7772656-f515-4fc9-84f9-2ec2d7269aa7",
   "metadata": {
    "jupyter": {
     "outputs_hidden": false,
     "source_hidden": false
    },
    "nteract": {
     "transient": {
      "deleting": false
     }
    }
   },
   "outputs": [],
   "source": [
    "# Aggregate taxi demand by hour_pickup, day_pickup, weekday_pickup and borough columns\n",
    "transformed_df = pd_df.groupby([\"hour_pickup\", \"day_pickup\", \"weekday_pickup\", \"month_pickup\", \"Borough\"]).agg(\n",
    "    demand=('hour_pickup', 'size'),\n",
    "    pickup_timestamp=('tpep_pickup_datetime', 'first')\n",
    ").reset_index()\n"
   ]
  },
  {
   "cell_type": "code",
   "execution_count": null,
   "id": "8cc29368-dac9-45c0-b4fe-67a4cb779776",
   "metadata": {
    "jupyter": {
     "outputs_hidden": false,
     "source_hidden": false
    },
    "nteract": {
     "transient": {
      "deleting": false
     }
    }
   },
   "outputs": [],
   "source": [
    "# Encoding Borough columns\n",
    "borough_array = zones_df[\"Borough\"].unique()\n",
    "\n",
    "transformed_df[\"borough_id\"] = list(map(lambda x: list(borough_array).index(x), transformed_df[\"Borough\"]))\n"
   ]
  },
  {
   "cell_type": "code",
   "execution_count": null,
   "id": "533b3098-4b7b-4541-b846-32f9b67c002b",
   "metadata": {
    "jupyter": {
     "outputs_hidden": false,
     "source_hidden": false
    },
    "nteract": {
     "transient": {
      "deleting": false
     }
    }
   },
   "outputs": [],
   "source": [
    "# Convert `time` column to datetime \n",
    "weather_df['time'] = pd.to_datetime(weather_df['time'])\n",
    "\n",
    "# Derive year column from time column of the NYC weather data\n",
    "weather_df[\"year\"] = weather_df[\"time\"].dt.year\n",
    "\n",
    "# Derive weekday column\n",
    "weather_df[\"month\"] = weather_df[\"time\"].dt.month.astype(np.uint8)\n",
    "\n",
    "# Derive weekday column\n",
    "weather_df[\"day\"] = weather_df[\"time\"].dt.day.astype(np.uint8)\n",
    "\n",
    "# Derive hour of day column\n",
    "weather_df[\"hour\"] = weather_df[\"time\"].dt.hour.astype(np.uint8)\n",
    "\n",
    "# Derive ID column\n",
    "weather_df[\"id\"] = weather_df[\"time\"].dt.strftime('%Y%m%d%H')\n",
    "\n",
    "weather_df.head()\n"
   ]
  },
  {
   "cell_type": "markdown",
   "id": "3c7ce6b4-9722-45a9-9826-3cbd27a6847c",
   "metadata": {
    "nteract": {
     "transient": {
      "deleting": false
     }
    }
   },
   "source": [
    "### Sink transformed data to standardization zone"
   ]
  },
  {
   "cell_type": "code",
   "execution_count": null,
   "id": "879de3de-ff44-49c5-957f-d1b6c102794b",
   "metadata": {
    "jupyter": {
     "outputs_hidden": false,
     "source_hidden": false
    },
    "nteract": {
     "transient": {
      "deleting": false
     }
    }
   },
   "outputs": [],
   "source": [
    "# Sink transformed trip and weather records to 03_standard path of Fabric OneLake\n",
    "mssparkutils.fs.mkdirs(f\"Files/{standard_path}\")\n",
    "\n",
    "transformed_df.to_csv(f\"/lakehouse/default/Files/{standard_path}/transformed_yellow_taxi_tripdata_{year}.csv\", index=False)\n",
    "weather_df.to_csv(f\"/lakehouse/default/Files/{standard_path}/transformed_nyc_weather_{year}.csv\", index=False)\n"
   ]
  },
  {
   "cell_type": "markdown",
   "id": "39427db2-95a7-4e2b-ba82-5c4b5607b4e0",
   "metadata": {
    "nteract": {
     "transient": {
      "deleting": false
     }
    }
   },
   "source": [
    "### Register data assets and lineage of target data pipeline to Purview"
   ]
  },
  {
   "cell_type": "code",
   "execution_count": null,
   "id": "4aaae441-9c3d-4bfa-82ea-d5ba54da7ec8",
   "metadata": {
    "jupyter": {
     "outputs_hidden": false,
     "source_hidden": false
    },
    "nteract": {
     "transient": {
      "deleting": false
     }
    }
   },
   "outputs": [],
   "source": [
    "%run data_catalog_and_lineage"
   ]
  },
  {
   "cell_type": "code",
   "execution_count": null,
   "id": "08f9e7a6-5e16-43f4-ac05-a84645d6e6f7",
   "metadata": {
    "jupyter": {
     "outputs_hidden": false,
     "source_hidden": false
    },
    "nteract": {
     "transient": {
      "deleting": false
     }
    }
   },
   "outputs": [],
   "source": [
    "%run utils"
   ]
  },
  {
   "cell_type": "code",
   "execution_count": null,
   "id": "6026aa9c-7a8a-4866-b9d2-f28ed924a765",
   "metadata": {
    "collapsed": false,
    "jupyter": {
     "outputs_hidden": false,
     "source_hidden": false
    },
    "nteract": {
     "transient": {
      "deleting": false
     }
    }
   },
   "outputs": [],
   "source": [
    "purview_data_catalog = PurviewDataCatalog()\n",
    "\n",
    "fabric_onelake_tenant, fabric_workspace_id, fabric_lakehouse_id = get_onelake_info()\n",
    "onelake_base_path = f\"abfss://{fabric_workspace_id}@{fabric_onelake_tenant}.dfs.fabric.microsoft.com/{fabric_lakehouse_id}/Files\"\n",
    "\n",
    "# Create source data assets list\n",
    "source_data_assets = []\n",
    "trip_data_source_file = f\"cleaned_yellow_taxi_tripdata_{year}.parquet\"\n",
    "source_data_asset_1 = DataAsset(trip_data_source_file,\n",
    "                                \"parquet\",\n",
    "                                f\"{onelake_base_path}/{standard_path}/{trip_data_source_file}\")\n",
    "\n",
    "zones_data_source_file = \"nyc_zones.parquet\"                         \n",
    "source_data_asset_2 = DataAsset(zones_data_source_file,\n",
    "                                \"parquet\",\n",
    "                                f\"{onelake_base_path}/{standard_path}/{zones_data_source_file}\")\n",
    "\n",
    "nycweather_data_source_file = f\"cleaned_nyc_weather_{year}.parquet\"\n",
    "source_data_asset_3 = DataAsset(nycweather_data_source_file,\n",
    "                                \"parquet\",\n",
    "                                f\"{onelake_base_path}/{standard_path}/{nycweather_data_source_file}\")\n",
    "source_data_assets.append(source_data_asset_1)\n",
    "source_data_assets.append(source_data_asset_2)\n",
    "source_data_assets.append(source_data_asset_3)\n",
    "\n",
    "# Create sink data assets list\n",
    "sink_data_assets = []\n",
    "transformed_trip_data_file = f\"transformed_yellow_taxi_tripdata_{year}.csv\"\n",
    "sink_data_asset_1 = DataAsset(transformed_trip_data_file,\n",
    "                            \"csv\",\n",
    "                            f\"{onelake_base_path}/{standard_path}/{transformed_trip_data_file}\")\n",
    "\n",
    "transformed_nycweather_data_file = f\"transformed_nyc_weather_{year}.csv\"\n",
    "sink_data_asset_2 = DataAsset(transformed_nycweather_data_file,\n",
    "                            \"csv\",\n",
    "                            f\"{onelake_base_path}/{standard_path}/{transformed_nycweather_data_file}\")\n",
    "sink_data_assets.append(sink_data_asset_1)\n",
    "sink_data_assets.append(sink_data_asset_2)\n",
    "\n",
    "# Create process data asset\n",
    "current_notebook_context = mssparkutils.notebook.nb.context\n",
    "notebook_id = current_notebook_context[\"currentNotebookId\"]\n",
    "# notebook_name = current_notebook_context[\"currentNotebookName\"]\n",
    "process_data_asset = DataAsset(\"data_transformation (Fabric notebook)\",\n",
    "                               \"process\",\n",
    "                               f\"https://{fabric_tenant}.powerbi.com/groups/{fabric_workspace_id}/synapsenotebooks/{notebook_id}\")\n",
    "\n",
    "# Create lineage for data pipeline\n",
    "data_pipeline_lineage = DataLineage(source_data_assets, sink_data_assets, process_data_asset)\n",
    "\n",
    "# Register lineage of data pipeline to Purview\n",
    "purview_data_catalog.register_lineage(data_pipeline_lineage)\n"
   ]
  }
 ],
 "metadata": {
  "kernel_info": {
   "name": "synapse_pyspark"
  },
  "kernelspec": {
   "display_name": "Synapse PySpark",
   "language": "Python",
   "name": "synapse_pyspark"
  },
  "language_info": {
   "name": "python"
  },
  "microsoft": {
   "host": {
    "synapse_widget": {
     "state": {
      "717f6291-5587-44a3-ba9e-a68dfaf12ee7": {
       "persist_state": {
        "view": {
         "chartOptions": {
          "aggregationType": "count",
          "binsNumber": 10,
          "categoryFieldKeys": [
           "0"
          ],
          "chartType": "bar",
          "isStacked": false,
          "seriesFieldKeys": [
           "0"
          ],
          "wordFrequency": "-1"
         },
         "tableOptions": {},
         "type": "details"
        }
       },
       "sync_state": {
        "isSummary": false,
        "language": "scala",
        "table": {
         "rows": [
          {
           "0": "/lakehouse/default",
           "1": "/default",
           "2": "default_lh",
           "3": "abfss://c00e0c38-7f35-4552-b370-85146e0b0ae6@msit-onelake.dfs.fabric.microsoft.com/534f7892-f95e-4924-b26d-6c9dd94a37b7",
           "4": "Lakehouse",
           "index": 1
          },
          {
           "0": "/synfs/nb_resource/builtin",
           "1": "/nb_resource/builtin",
           "2": "nb_resource",
           "3": "Notebook Working Directory",
           "4": "Notebook Working Directory",
           "index": 2
          }
         ],
         "schema": [
          {
           "key": "0",
           "name": "localPath",
           "type": "string"
          },
          {
           "key": "1",
           "name": "mountPoint",
           "type": "string"
          },
          {
           "key": "2",
           "name": "scope",
           "type": "string"
          },
          {
           "key": "3",
           "name": "source",
           "type": "string"
          },
          {
           "key": "4",
           "name": "storageType",
           "type": "string"
          }
         ],
         "truncated": false
        }
       },
       "type": "Synapse.DataFrame"
      }
     },
     "token": "1bb2ad3f-e25e-4ab4-9bc8-174e440b865d"
    }
   },
   "language": "python",
   "ms_spell_check": {
    "ms_spell_check_language": "en"
   }
  },
  "notebook_environment": {},
  "nteract": {
   "version": "nteract-front-end@1.0.0"
  },
  "save_output": true,
  "spark_compute": {
   "compute_id": "/trident/default",
   "session_options": {
    "conf": {},
    "enableDebugMode": false
   }
  },
  "synapse_widget": {
   "state": {
    "717f6291-5587-44a3-ba9e-a68dfaf12ee7": {
     "persist_state": {
      "view": {
       "chartOptions": {
        "aggregationType": "count",
        "binsNumber": 10,
        "categoryFieldKeys": [
         "0"
        ],
        "chartType": "bar",
        "isStacked": false,
        "seriesFieldKeys": [
         "0"
        ],
        "wordFrequency": "-1"
       },
       "tableOptions": {},
       "type": "details"
      }
     },
     "sync_state": {
      "isSummary": false,
      "language": "scala",
      "table": {
       "rows": [
        {
         "0": "/lakehouse/default",
         "1": "/default",
         "2": "default_lh",
         "3": "abfss://c00e0c38-7f35-4552-b370-85146e0b0ae6@msit-onelake.dfs.fabric.microsoft.com/534f7892-f95e-4924-b26d-6c9dd94a37b7",
         "4": "Lakehouse",
         "index": 1
        },
        {
         "0": "/synfs/nb_resource/builtin",
         "1": "/nb_resource/builtin",
         "2": "nb_resource",
         "3": "Notebook Working Directory",
         "4": "Notebook Working Directory",
         "index": 2
        }
       ],
       "schema": [
        {
         "key": "0",
         "name": "localPath",
         "type": "string"
        },
        {
         "key": "1",
         "name": "mountPoint",
         "type": "string"
        },
        {
         "key": "2",
         "name": "scope",
         "type": "string"
        },
        {
         "key": "3",
         "name": "source",
         "type": "string"
        },
        {
         "key": "4",
         "name": "storageType",
         "type": "string"
        }
       ],
       "truncated": false
      }
     },
     "type": "Synapse.DataFrame"
    }
   },
   "version": "0.1"
  },
  "widgets": {
   "application/vnd.jupyter.widget-state+json": {
    "state": {
     "103e4d3f57aa43b48ffec95a5c209e7d": {
      "model_module": "@jupyter-widgets/base",
      "model_module_version": "2.0.0",
      "model_name": "LayoutModel",
      "state": {}
     },
     "1378e2f09b11456b86667ad38ac5b9a2": {
      "model_module": "@jupyter-widgets/controls",
      "model_module_version": "2.0.0",
      "model_name": "ProgressStyleModel",
      "state": {
       "description_width": ""
      }
     },
     "2d20296ba6454bc3a392cf5a138e3b18": {
      "model_module": "@jupyter-widgets/base",
      "model_module_version": "2.0.0",
      "model_name": "LayoutModel",
      "state": {}
     },
     "2d7f6c5cfd1f498482e706a9077784ff": {
      "model_module": "@jupyter-widgets/controls",
      "model_module_version": "2.0.0",
      "model_name": "HTMLModel",
      "state": {
       "layout": "IPY_MODEL_969ca933742e427d87ac4653f4242996",
       "style": "IPY_MODEL_53950cc1c7d04f3fbc517d8d254dbb52",
       "value": " 5/5 [00:00&lt;00:00,  9.25it/s]"
      }
     },
     "311bde02777c4a719daa6c87e701ed25": {
      "model_module": "@jupyter-widgets/controls",
      "model_module_version": "2.0.0",
      "model_name": "HTMLStyleModel",
      "state": {
       "description_width": "",
       "font_size": null,
       "text_color": null
      }
     },
     "53950cc1c7d04f3fbc517d8d254dbb52": {
      "model_module": "@jupyter-widgets/controls",
      "model_module_version": "2.0.0",
      "model_name": "HTMLStyleModel",
      "state": {
       "description_width": "",
       "font_size": null,
       "text_color": null
      }
     },
     "969ca933742e427d87ac4653f4242996": {
      "model_module": "@jupyter-widgets/base",
      "model_module_version": "2.0.0",
      "model_name": "LayoutModel",
      "state": {}
     },
     "a4050e0d9db744e8b24e49b5812fd518": {
      "model_module": "@jupyter-widgets/controls",
      "model_module_version": "2.0.0",
      "model_name": "HTMLModel",
      "state": {
       "layout": "IPY_MODEL_103e4d3f57aa43b48ffec95a5c209e7d",
       "style": "IPY_MODEL_311bde02777c4a719daa6c87e701ed25",
       "value": "Downloading artifacts: 100%"
      }
     },
     "ccff2a6bd07b462f9c1ae66de11612be": {
      "model_module": "@jupyter-widgets/base",
      "model_module_version": "2.0.0",
      "model_name": "LayoutModel",
      "state": {}
     },
     "e5b1b3e72b75477395bc43c06e9a95ad": {
      "model_module": "@jupyter-widgets/controls",
      "model_module_version": "2.0.0",
      "model_name": "FloatProgressModel",
      "state": {
       "bar_style": "success",
       "layout": "IPY_MODEL_ccff2a6bd07b462f9c1ae66de11612be",
       "max": 5,
       "style": "IPY_MODEL_1378e2f09b11456b86667ad38ac5b9a2",
       "value": 5
      }
     },
     "eba00b68a7e14ae2b741dfacb8aeb51d": {
      "model_module": "@jupyter-widgets/controls",
      "model_module_version": "2.0.0",
      "model_name": "HBoxModel",
      "state": {
       "children": [
        "IPY_MODEL_a4050e0d9db744e8b24e49b5812fd518",
        "IPY_MODEL_e5b1b3e72b75477395bc43c06e9a95ad",
        "IPY_MODEL_2d7f6c5cfd1f498482e706a9077784ff"
       ],
       "layout": "IPY_MODEL_2d20296ba6454bc3a392cf5a138e3b18"
      }
     }
    },
    "version_major": 2,
    "version_minor": 0
   }
  }
 },
 "nbformat": 4,
 "nbformat_minor": 5
}

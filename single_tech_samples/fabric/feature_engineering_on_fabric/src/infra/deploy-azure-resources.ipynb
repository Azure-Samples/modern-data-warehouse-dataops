{
 "cells": [
  {
   "cell_type": "markdown",
   "metadata": {},
   "source": [
    "# Setup Environment"
   ]
  },
  {
   "cell_type": "markdown",
   "metadata": {},
   "source": [
    "Follow this notebook to deploy the Azure Resources for running the project. This notebook will:\n",
    "- Create a resource group\n",
    "- Create an Azure Purview Account under the resource group\n",
    "- Create an Azure ML Managed Feature Store under the resource group\n",
    "- Create a Service Principal\n",
    "- Assign the Service Principal with following roles\n",
    "  - `AzureML Data Scientist` role to the Azure ML Managed Feature Store\n",
    "  - `Contributor` role to the Azure Purview Account\n",
    "    - *Note: This notebook doesn't assign Purview's `Data Curator` role to the service principal. For manually assigning this role, refer to [Microsoft documentation](https://learn.microsoft.com/purview/how-to-create-and-manage-collections#add-role-assignments)*."
   ]
  },
  {
   "cell_type": "markdown",
   "metadata": {},
   "source": [
    "The notebook uses Azure's python SDK as well as Azure CLI to create the resources. Make sure you have required permissions to install these packages in your notebook environment. "
   ]
  },
  {
   "cell_type": "markdown",
   "metadata": {},
   "source": [
    "### Prerequisites"
   ]
  },
  {
   "cell_type": "code",
   "execution_count": null,
   "metadata": {},
   "outputs": [],
   "source": [
    "# Decide the target subscript and its tenant where the resources will be deployed\n",
    "subscription_id = \"\"\n",
    "tenant_id = \"\""
   ]
  },
  {
   "cell_type": "code",
   "execution_count": null,
   "metadata": {},
   "outputs": [],
   "source": [
    "# Decide Prefix for the name of the environment. Try to keep it short and UNIQUE.\n",
    "#   the prefix is used to identify/name the resources\n",
    "#   i.e., resource group will be named <prefix>rg\n",
    "#   i.e., storage account will be named <prefix>sa\n",
    "#   i.e., purview will be named <prefix>pv\n",
    "# etc.\n",
    "prefix = \"\"\n",
    "\n",
    "# Decide the location of the resources.\n",
    "location = \"westeurope\""
   ]
  },
  {
   "cell_type": "code",
   "execution_count": null,
   "metadata": {},
   "outputs": [],
   "source": [
    "resource_group_name = f\"{prefix}rg\" # name of the resource group\n",
    "featurestore_name = f\"{prefix}fs\" # name of feature store\n",
    "storage_account_name = f\"{prefix}sa\" # name of the storage account\n",
    "purview_name = f\"{prefix}pv\" # The purview name. !It must be globally unique!\n",
    "sp_name=f\"{prefix}sp\" # name of the service principal"
   ]
  },
  {
   "cell_type": "code",
   "execution_count": null,
   "metadata": {},
   "outputs": [],
   "source": [
    "# install necessary packages. skip those you have already installed.\n",
    "!pip install azure-cli\n",
    "!pip install azure-identity\n",
    "!pip install azure-mgmt-purview\n",
    "!pip install azureml-featurestore\n",
    "!pip install azure-mgmt-resource\n",
    "!pip install azure-mgmt-storage"
   ]
  },
  {
   "cell_type": "markdown",
   "metadata": {},
   "source": [
    "### Obtain Azure Credential"
   ]
  },
  {
   "cell_type": "markdown",
   "metadata": {},
   "source": [
    "The following cell will help you to gain Azure credential of your AAD account:"
   ]
  },
  {
   "cell_type": "code",
   "execution_count": null,
   "metadata": {},
   "outputs": [],
   "source": [
    "# obtain credential \n",
    "# This method will automatically open a browser window and ask you to login to your azure account\n",
    "# (it will not open the browser window immediately when you run this cell, but will whenever trying to get a new token)\n",
    "from azure.identity import InteractiveBrowserCredential\n",
    "default_credential = InteractiveBrowserCredential(tenant_id=tenant_id)"
   ]
  },
  {
   "cell_type": "code",
   "execution_count": null,
   "metadata": {},
   "outputs": [],
   "source": [
    "# [Optinal] Another way of obtaining credentail\n",
    "# If your browser tab of authentication can not pop up correcty, try to use following way to authenticate.\n",
    "from azure.identity import DeviceCodeCredential\n",
    "default_credential = DeviceCodeCredential(tenant_id=tenant_id)"
   ]
  },
  {
   "cell_type": "markdown",
   "metadata": {},
   "source": [
    "### Create a Resource Group"
   ]
  },
  {
   "cell_type": "markdown",
   "metadata": {},
   "source": [
    "The following cell defined a python function which will create a resource group if not exists yet:"
   ]
  },
  {
   "cell_type": "code",
   "execution_count": null,
   "metadata": {},
   "outputs": [],
   "source": [
    "from azure.mgmt.resource import ResourceManagementClient\n",
    "\n",
    "# this function will create a resource group if it does not exist using `subscription_id`, `resource_group_name`, `location\n",
    "def check_or_create_resource_group(subscription_id, resource_group_name, location):\n",
    "\n",
    "    # Initialize the ResourceManagementClient\n",
    "    resource_client = ResourceManagementClient(default_credential, subscription_id)\n",
    "\n",
    "    # Check if the resource group already exists\n",
    "    try:\n",
    "        resource_group = resource_client.resource_groups.get(resource_group_name)\n",
    "        print(f\"Resource group '{resource_group_name}' already exists.\")\n",
    "    except:\n",
    "        # If it doesn't exist, create a new one\n",
    "        print(f\"Resource group '{resource_group_name}' does not exist. Creating...\")\n",
    "        resource_group_params = {'location': location}\n",
    "        resource_group = resource_client.resource_groups.create_or_update(\n",
    "            resource_group_name, resource_group_params\n",
    "        )\n",
    "        print(f\"Resource group '{resource_group_name}' created.\")"
   ]
  },
  {
   "cell_type": "markdown",
   "metadata": {},
   "source": [
    "Run the function to create the resource group:"
   ]
  },
  {
   "cell_type": "code",
   "execution_count": null,
   "metadata": {},
   "outputs": [],
   "source": [
    "# create the resource group\n",
    "# ! this action may open your browser to login to azure portal. Follow the instruction to login.\n",
    "check_or_create_resource_group(subscription_id, resource_group_name, location)"
   ]
  },
  {
   "cell_type": "markdown",
   "metadata": {},
   "source": [
    "### Create an Azure Purview Account"
   ]
  },
  {
   "cell_type": "markdown",
   "metadata": {},
   "source": [
    "The following cell will create an Azure Purview Account under the resource group created above:"
   ]
  },
  {
   "cell_type": "code",
   "execution_count": null,
   "metadata": {},
   "outputs": [],
   "source": [
    "from azure.mgmt.purview import PurviewManagementClient\n",
    "from azure.mgmt.purview.models import *\n",
    "import time\n",
    "\n",
    "purview_client = PurviewManagementClient(default_credential, subscription_id)\n",
    "\n",
    "# create a purview account\n",
    "# notice: if you meet error 2005 which specifies quota limit, you can try to use a different location.\n",
    "identity = Identity(type= \"SystemAssigned\")\n",
    "sku = AccountSku(name= 'Standard', capacity= 4)\n",
    "purview_resource = Account(identity=identity,sku=sku,location=location)\n",
    "\n",
    "       \n",
    "try:\n",
    "\tpa = (purview_client.accounts.begin_create_or_update(resource_group_name, purview_name, purview_resource)).result()\n",
    "\tprint(\"location:\", pa.location, \" Microsoft Purview Account Name: \", purview_name, \" Id: \" , pa.id ,\" tags: \" , pa.tags) \n",
    "except Exception as e:\n",
    "\tprint(f\"Error in submitting job to create account: {e}\")\n",
    " \n",
    "while (getattr(pa,'provisioning_state')) != \"Succeeded\" :\n",
    "    pa = (purview_client.accounts.get(resource_group_name, purview_name))  \n",
    "    print(getattr(pa,'provisioning_state'))\n",
    "    if getattr(pa,'provisioning_state') == \"Failed\" :\n",
    "        print(\"Error in creating Microsoft Purview account\")\n",
    "        break\n",
    "    time.sleep(30)"
   ]
  },
  {
   "cell_type": "markdown",
   "metadata": {},
   "source": [
    "### Create an Azure ML Managed Feature Store"
   ]
  },
  {
   "cell_type": "markdown",
   "metadata": {},
   "source": [
    "The following cell will create an Azure ML Managed Feature Store under the resource group created above:"
   ]
  },
  {
   "cell_type": "code",
   "execution_count": null,
   "metadata": {},
   "outputs": [],
   "source": [
    "from azure.ai.ml import MLClient\n",
    "from azure.ai.ml.entities import FeatureStore\n",
    "\n",
    "fs_client = MLClient(\n",
    "    default_credential,\n",
    "    subscription_id,\n",
    "    resource_group_name,\n",
    "    featurestore_name,\n",
    ")\n",
    "\n",
    "fs = FeatureStore(name=featurestore_name, location=location)\n",
    "# wait for featurestore creation\n",
    "fs_poller = fs_client.feature_stores.begin_create(fs, update_dependent_resources=True)\n",
    "print(fs_poller.result())"
   ]
  },
  {
   "cell_type": "markdown",
   "metadata": {},
   "source": [
    "### Create a Service Principal"
   ]
  },
  {
   "cell_type": "code",
   "execution_count": null,
   "metadata": {},
   "outputs": [],
   "source": [
    "sp_name=f\"{prefix}sp\""
   ]
  },
  {
   "cell_type": "markdown",
   "metadata": {},
   "source": [
    "The following cell will run a Azure CLI command to create a Service Principal named `sp_name` under tenant of `tenant_id`."
   ]
  },
  {
   "cell_type": "code",
   "execution_count": null,
   "metadata": {},
   "outputs": [],
   "source": [
    "# create the service principal\n",
    "sp_creation_output = !az ad sp create-for-rbac --name $sp_name"
   ]
  },
  {
   "cell_type": "markdown",
   "metadata": {},
   "source": [
    "!**Notice**: Make a memo of the following cell output. The `password` here is the `client_secret` of the Service Principal. You will need it when setting up the data pipeline parameter in Fabric workspace."
   ]
  },
  {
   "cell_type": "code",
   "execution_count": null,
   "metadata": {},
   "outputs": [],
   "source": [
    "# analyze the output to get the service principal information\n",
    "import json\n",
    "import re\n",
    "\n",
    "sp_creation_output_str = ''.join(sp_creation_output)\n",
    "\n",
    "match = re.search(r'\\{.*\\}', sp_creation_output_str)\n",
    "\n",
    "if match:\n",
    "    sp_dict = json.loads(match.group())\n",
    "    print(sp_dict)"
   ]
  },
  {
   "cell_type": "code",
   "execution_count": null,
   "metadata": {},
   "outputs": [],
   "source": [
    "# app_id/client_id of the service principal\n",
    "app_id = sp_dict['appId']"
   ]
  },
  {
   "cell_type": "markdown",
   "metadata": {},
   "source": [
    "### Assign Roles"
   ]
  },
  {
   "cell_type": "markdown",
   "metadata": {},
   "source": [
    "Allow the Service Principal to access feature store. It should be assigned to the role `AzureML Data Scientist` so that it can act to registrate/retrieve feature sets to the store."
   ]
  },
  {
   "cell_type": "code",
   "execution_count": null,
   "metadata": {},
   "outputs": [],
   "source": [
    "featurestore_arm_id = f\"/subscriptions/{subscription_id}/resourceGroups/{resource_group_name}/providers/Microsoft.MachineLearningServices/workspaces/{featurestore_name}\""
   ]
  },
  {
   "cell_type": "code",
   "execution_count": null,
   "metadata": {},
   "outputs": [],
   "source": [
    "!az role assignment create \\\n",
    "    --assignee $app_id  \\\n",
    "    --role \"AzureML Data Scientist\" \\\n",
    "    --scope $featurestore_arm_id"
   ]
  },
  {
   "cell_type": "markdown",
   "metadata": {},
   "source": [
    "Allow the Service Principal to access Purview. It should be assigned to the role `Contributor` and `Data curators` so that it can act to registrate/scan the data assets."
   ]
  },
  {
   "cell_type": "code",
   "execution_count": null,
   "metadata": {},
   "outputs": [],
   "source": [
    "purview_arm_id = f\"/subscriptions/{subscription_id}/resourceGroups/{resource_group_name}/providers/Microsoft.Purview/accounts/{purview_name}\""
   ]
  },
  {
   "cell_type": "code",
   "execution_count": null,
   "metadata": {},
   "outputs": [],
   "source": [
    "!az role assignment create \\\n",
    "    --assignee $app_id  \\\n",
    "    --role \"Contributor\" \\\n",
    "    --scope $purview_arm_id"
   ]
  },
  {
   "cell_type": "markdown",
   "metadata": {},
   "source": [
    "### Output the Reources Details for Later Use"
   ]
  },
  {
   "cell_type": "markdown",
   "metadata": {},
   "source": [
    "You will later need to setup the Fabric workspace Environment by uploading [src/environment/sparkProperties.yml](./../environment/sparkProperties.yml) in one of the steps. The `sparkProperties.yml` requires the details of the resources created above. Run the following cell to get most of the values.\n",
    "\n",
    "*Note: You still need to provide the `<fabric-tenant-name>` manually.*"
   ]
  },
  {
   "cell_type": "code",
   "execution_count": null,
   "metadata": {},
   "outputs": [],
   "source": [
    "env_props = f\"\"\"\n",
    "runtime_version: '1.1'\n",
    "spark_conf:\n",
    "  - spark.fsd.client_id: {sp_dict['appId']}\n",
    "  - spark.fsd.tenant_id: {sp_dict['tenant']}\n",
    "  - spark.fsd.subscription_id: {subscription_id}\n",
    "  - spark.fsd.rg_name: {resource_group_name}\n",
    "  - spark.fsd.name: {featurestore_name}\n",
    "  - spark.fsd.fabric.tenant: <fabric-tenant-name> # Fetch from Fabric base URL, like https://<fabric-tenant-name>.powerbi.com/\n",
    "  - spark.fsd.purview.account: {purview_name}\n",
    "\"\"\"\n",
    "\n",
    "print(env_props)"
   ]
  }
 ],
 "metadata": {
  "kernelspec": {
   "display_name": "Python 3",
   "language": "python",
   "name": "python3"
  },
  "language_info": {
   "codemirror_mode": {
    "name": "ipython",
    "version": 3
   },
   "file_extension": ".py",
   "mimetype": "text/x-python",
   "name": "python",
   "nbconvert_exporter": "python",
   "pygments_lexer": "ipython3",
   "version": "3.9.13"
  }
 },
 "nbformat": 4,
 "nbformat_minor": 2
}

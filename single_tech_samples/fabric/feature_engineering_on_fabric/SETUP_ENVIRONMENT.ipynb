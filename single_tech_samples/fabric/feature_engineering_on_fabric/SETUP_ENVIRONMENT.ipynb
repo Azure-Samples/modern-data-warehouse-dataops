{
 "cells": [
  {
   "cell_type": "markdown",
   "metadata": {},
   "source": [
    "# Setup Environment"
   ]
  },
  {
   "cell_type": "markdown",
   "metadata": {},
   "source": [
    "Follow this notebook to setup the environment for running the project. This notebook should be run in any local or Azure service which allows you to,\n",
    "- run jupyter notebooks\n",
    "- authenticate with credential of the target tenant"
   ]
  },
  {
   "cell_type": "markdown",
   "metadata": {},
   "source": [
    "## Step 1. Create Azure Resources"
   ]
  },
  {
   "cell_type": "code",
   "execution_count": null,
   "metadata": {},
   "outputs": [],
   "source": [
    "# Prequisites:\n",
    "subscription_id = \"\"\n",
    "tenant_id = \"\""
   ]
  },
  {
   "cell_type": "code",
   "execution_count": null,
   "metadata": {},
   "outputs": [],
   "source": [
    "# Decide Prefix for the name of the environment. Try to keep it short and UNIQUE.\n",
    "#   the prefix is used to identify/name the resources\n",
    "#   i.e., resource group will be named <prefix>rg\n",
    "#   i.e., storage account will be named <prefix>sa\n",
    "#   i.e., purview will be named <prefix>pv\n",
    "# etc.\n",
    "prefix = \"\"\n",
    "\n",
    "# Decide the location of the resources.\n",
    "location = \"westeurope\""
   ]
  },
  {
   "cell_type": "code",
   "execution_count": null,
   "metadata": {},
   "outputs": [],
   "source": [
    "resource_group_name = f\"{prefix}rg\" # name of the resource group\n",
    "featurestore_name = f\"{prefix}fs\" # name of feature store\n",
    "storage_account_name = f\"{prefix}sa\" # name of the storage account\n",
    "purview_name = f\"{prefix}pv\" # The purview name. !It must be globally unique!\n",
    "sp_name=f\"{prefix}sp\" # name of the service principal"
   ]
  },
  {
   "cell_type": "code",
   "execution_count": null,
   "metadata": {},
   "outputs": [],
   "source": [
    "# install necessary packages. skip those you have already installed.\n",
    "!pip install azure-cli\n",
    "!pip install azure-identity\n",
    "!pip install azure-mgmt-purview\n",
    "!pip install azureml-featurestore\n",
    "!pip install azure-mgmt-resource\n",
    "!pip install azure-mgmt-storage"
   ]
  },
  {
   "cell_type": "code",
   "execution_count": null,
   "metadata": {},
   "outputs": [],
   "source": [
    "# obtain credential to create the resources\n",
    "from azure.identity import InteractiveBrowserCredential\n",
    "default_credential = InteractiveBrowserCredential(tenant_id=tenant_id)"
   ]
  },
  {
   "cell_type": "markdown",
   "metadata": {},
   "source": [
    "### Create a Resource Group"
   ]
  },
  {
   "cell_type": "code",
   "execution_count": null,
   "metadata": {},
   "outputs": [],
   "source": [
    "from azure.mgmt.resource import ResourceManagementClient\n",
    "\n",
    "def check_or_create_resource_group(subscription_id, resource_group_name, location):\n",
    "\n",
    "    # Initialize the ResourceManagementClient\n",
    "    resource_client = ResourceManagementClient(default_credential, subscription_id)\n",
    "\n",
    "    # Check if the resource group already exists\n",
    "    try:\n",
    "        resource_group = resource_client.resource_groups.get(resource_group_name)\n",
    "        print(f\"Resource group '{resource_group_name}' already exists.\")\n",
    "    except:\n",
    "        # If it doesn't exist, create a new one\n",
    "        print(f\"Resource group '{resource_group_name}' does not exist. Creating...\")\n",
    "        resource_group_params = {'location': location}\n",
    "        resource_group = resource_client.resource_groups.create_or_update(\n",
    "            resource_group_name, resource_group_params\n",
    "        )\n",
    "        print(f\"Resource group '{resource_group_name}' created.\")"
   ]
  },
  {
   "cell_type": "code",
   "execution_count": null,
   "metadata": {},
   "outputs": [],
   "source": [
    "# create the resource group\n",
    "# ! this action may open your browser to login to azure portal. Follow the instruction to login.\n",
    "check_or_create_resource_group(subscription_id, resource_group_name, location)"
   ]
  },
  {
   "cell_type": "markdown",
   "metadata": {},
   "source": [
    "### Create a Purview Account"
   ]
  },
  {
   "cell_type": "code",
   "execution_count": null,
   "metadata": {},
   "outputs": [],
   "source": [
    "from azure.mgmt.purview import PurviewManagementClient\n",
    "from azure.mgmt.purview.models import *\n",
    "import time\n",
    "\n",
    "purview_client = PurviewManagementClient(default_credential, subscription_id)\n",
    "\n",
    "# create a purview account\n",
    "# notice: if you meet error 2005 which specifies quota limit, you can try to use a different location.\n",
    "identity = Identity(type= \"SystemAssigned\")\n",
    "sku = AccountSku(name= 'Standard', capacity= 4)\n",
    "purview_resource = Account(identity=identity,sku=sku,location=location)\n",
    "\n",
    "       \n",
    "try:\n",
    "\tpa = (purview_client.accounts.begin_create_or_update(resource_group_name, purview_name, purview_resource)).result()\n",
    "\tprint(\"location:\", pa.location, \" Microsoft Purview Account Name: \", purview_name, \" Id: \" , pa.id ,\" tags: \" , pa.tags) \n",
    "except Exception as e:\n",
    "\tprint(f\"Error in submitting job to create account: {e}\")\n",
    " \n",
    "while (getattr(pa,'provisioning_state')) != \"Succeeded\" :\n",
    "    pa = (purview_client.accounts.get(resource_group_name, purview_name))  \n",
    "    print(getattr(pa,'provisioning_state'))\n",
    "    if getattr(pa,'provisioning_state') == \"Failed\" :\n",
    "        print(\"Error in creating Microsoft Purview account\")\n",
    "        break\n",
    "    time.sleep(30)"
   ]
  },
  {
   "cell_type": "markdown",
   "metadata": {},
   "source": [
    "### Create a Azure ML Managed Feature Store"
   ]
  },
  {
   "cell_type": "code",
   "execution_count": null,
   "metadata": {},
   "outputs": [],
   "source": [
    "from azure.ai.ml import MLClient\n",
    "from azure.ai.ml.entities import FeatureStore\n",
    "\n",
    "fs_client = MLClient(\n",
    "    default_credential,\n",
    "    subscription_id,\n",
    "    resource_group_name,\n",
    "    featurestore_name,\n",
    ")\n",
    "\n",
    "fs = FeatureStore(name=featurestore_name, location=location)\n",
    "# wait for featurestore creation\n",
    "fs_poller = fs_client.feature_stores.begin_create(fs, update_dependent_resources=True)\n",
    "print(fs_poller.result())"
   ]
  },
  {
   "cell_type": "markdown",
   "metadata": {},
   "source": [
    "### Create a Service Principal"
   ]
  },
  {
   "cell_type": "code",
   "execution_count": null,
   "metadata": {},
   "outputs": [],
   "source": [
    "sp_name=f\"{prefix}sp\""
   ]
  },
  {
   "cell_type": "code",
   "execution_count": null,
   "metadata": {},
   "outputs": [],
   "source": [
    "# create the service principal\n",
    "sp_creation_output = !az ad sp create-for-rbac --name $sp_name"
   ]
  },
  {
   "cell_type": "markdown",
   "metadata": {},
   "source": [
    "!**Notice**: Make a memo of the following cell output. The `password` here is the `client_secret` of the Service Principal. You will need it when setting up the data pipeline parameter in Fabric workspace."
   ]
  },
  {
   "cell_type": "code",
   "execution_count": null,
   "metadata": {},
   "outputs": [],
   "source": [
    "# analyze the output to get the service principal information\n",
    "import json\n",
    "import re\n",
    "\n",
    "sp_creation_output_str = ''.join(sp_creation_output)\n",
    "\n",
    "match = re.search(r'\\{.*\\}', sp_creation_output_str)\n",
    "\n",
    "if match:\n",
    "    sp_dict = json.loads(match.group())\n",
    "    print(sp_dict)"
   ]
  },
  {
   "cell_type": "code",
   "execution_count": null,
   "metadata": {},
   "outputs": [],
   "source": [
    "# app_id/client_id of the service principal\n",
    "app_id = sp_dict['appId']"
   ]
  },
  {
   "cell_type": "markdown",
   "metadata": {},
   "source": [
    "### Assign Roles"
   ]
  },
  {
   "cell_type": "markdown",
   "metadata": {},
   "source": [
    "Allow the Service Principal to access feature store. It should be assigned to the role `AzureML Data Scientist` so that it can act to registrate/retrieve feature sets to the store."
   ]
  },
  {
   "cell_type": "code",
   "execution_count": null,
   "metadata": {},
   "outputs": [],
   "source": [
    "featurestore_arm_id = f\"/subscriptions/{subscription_id}/resourceGroups/{resource_group_name}/providers/Microsoft.MachineLearningServices/workspaces/{featurestore_name}\""
   ]
  },
  {
   "cell_type": "code",
   "execution_count": null,
   "metadata": {},
   "outputs": [],
   "source": [
    "!az role assignment create \\\n",
    "    --assignee $app_id  \\\n",
    "    --role \"AzureML Data Scientist\" \\\n",
    "    --scope $featurestore_arm_id"
   ]
  },
  {
   "cell_type": "markdown",
   "metadata": {},
   "source": [
    "Allow the Service Principal to access Purview. It should be assigned to the role `Data Curator` so that it can act to register/scan the data assets."
   ]
  },
  {
   "cell_type": "code",
   "execution_count": null,
   "metadata": {},
   "outputs": [],
   "source": [
    "purview_arm_id = f\"/subscriptions/{subscription_id}/resourceGroups/{resource_group_name}/providers/Microsoft.Purview/accounts/{purview_name}\""
   ]
  },
  {
   "cell_type": "code",
   "execution_count": null,
   "metadata": {},
   "outputs": [],
   "source": [
    "!az role assignment create \\\n",
    "    --assignee $app_id  \\\n",
    "    --role \"Contributor\" \\\n",
    "    --scope $purview_arm_id"
   ]
  },
  {
   "cell_type": "markdown",
   "metadata": {},
   "source": [
    "You will need to assign the Service Principal to the role `Data Curator` in the Purview root collection manually. Check more details in [README.md](./README.md) and search for \"Data Lineage Setup\"."
   ]
  },
  {
   "cell_type": "markdown",
   "metadata": {},
   "source": [
    "## Step 2. Create Fabric Workspace"
   ]
  },
  {
   "cell_type": "markdown",
   "metadata": {},
   "source": [
    "Follow steps in the [README.md](./README.md) (search for \"Microsoft Fabric Setup Steps\") to create a new Fabric workspace."
   ]
  },
  {
   "cell_type": "markdown",
   "metadata": {},
   "source": [
    "After workspace created, follow steps in the [README.md](./README.md) (search for \"Fabric Environment Setup\") to create the Fabric Environment.\n",
    "\n",
    "You will need to edit the Spark properties. Find the properties list yaml template in this repo `./src/environment/sparkProperties.yaml`. Replace the value with your created resources of Azure Managed Feature Store and Service Principle. Run the following cell to get most of the information. However, for `<fabric-tenant-name>`, `<fabric-workspace>`, `<fabric-lakehouse>` you need to provide the information manually."
   ]
  },
  {
   "cell_type": "code",
   "execution_count": null,
   "metadata": {},
   "outputs": [],
   "source": [
    "env_props = f\"\"\"\n",
    "runtime_version: '1.1'\n",
    "spark_conf:\n",
    "  - spark.fsd.client_id: {sp_dict['appId']}\n",
    "  - spark.fsd.tenant_id: {sp_dict['tenant']}\n",
    "  - spark.fsd.subscription_id: {subscription_id}\n",
    "  - spark.fsd.rg_name: {resource_group_name}\n",
    "  - spark.fsd.name: {featurestore_name}\n",
    "  - spark.fsd.fabric.tenant: <fabric-tenant-name> # Fetch from Fabric base URL, like https://<fabric-tenant-name>.powerbi.com/\n",
    "  - spark.fsd.purview.account: {purview_name}\n",
    "\"\"\"\n",
    "\n",
    "print(env_props)"
   ]
  },
  {
   "cell_type": "markdown",
   "metadata": {},
   "source": [
    "Save and Publish the Environment. To apply the environment, set the newly created environment as 'default' in the Fabric workspace settings page. This will take several minutes to complete."
   ]
  },
  {
   "cell_type": "markdown",
   "metadata": {},
   "source": [
    "## Step 3. Set up the Data Pipeline"
   ]
  },
  {
   "cell_type": "markdown",
   "metadata": {},
   "source": [
    "Follow steps in the [README.md](./README.md) (search for \"Data Pipeline Setup\") to setup the pipeline."
   ]
  }
 ],
 "metadata": {
  "kernelspec": {
   "display_name": "Python 3",
   "language": "python",
   "name": "python3"
  },
  "language_info": {
   "codemirror_mode": {
    "name": "ipython",
    "version": 3
   },
   "file_extension": ".py",
   "mimetype": "text/x-python",
   "name": "python",
   "nbconvert_exporter": "python",
   "pygments_lexer": "ipython3",
   "version": "3.9.13"
  }
 },
 "nbformat": 4,
 "nbformat_minor": 2
}

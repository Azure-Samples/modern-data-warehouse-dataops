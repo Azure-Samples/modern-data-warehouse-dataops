{
 "cells": [
  {
   "cell_type": "markdown",
   "id": "23ecd0f8-8bfe-48f9-8697-8c5ca47d354c",
   "metadata": {
    "nteract": {
     "transient": {
      "deleting": false
     }
    }
   },
   "source": [
    "# Parameters Setup"
   ]
  },
  {
   "cell_type": "code",
   "execution_count": null,
   "id": "5c3df160-0c42-49a0-8c71-f8fc0b121525",
   "metadata": {
    "jupyter": {
     "outputs_hidden": false,
     "source_hidden": false
    },
    "nteract": {
     "transient": {
      "deleting": false
     }
    },
    "tags": [
     "parameters"
    ]
   },
   "outputs": [],
   "source": [
    "featurestore_subscription_id = spark.conf.get(\"spark.fsd.subscription_id\")\n",
    "featurestore_resource_group_name = spark.conf.get(\"spark.fsd.rg_name\")\n",
    "featurestore_name = spark.conf.get(\"spark.fsd.name\")\n",
    "\n",
    "year = \"2022\"\n",
    "standard_path = \"03_standard\"\n",
    "\n",
    "# the service principle should be albe to access feature store\n",
    "client_id = spark.conf.get(\"spark.fsd.client_id\")\n",
    "tenant_id = spark.conf.get(\"spark.fsd.tenant_id\")\n",
    "client_secret = \"\""
   ]
  },
  {
   "cell_type": "code",
   "execution_count": null,
   "id": "45952099-d76a-42c5-91c4-019384080b0b",
   "metadata": {
    "jupyter": {
     "outputs_hidden": false,
     "source_hidden": false
    },
    "nteract": {
     "transient": {
      "deleting": false
     }
    }
   },
   "outputs": [],
   "source": [
    "%run utils"
   ]
  },
  {
   "cell_type": "code",
   "execution_count": null,
   "id": "73c5305d-5916-4439-806c-fa96032229fa",
   "metadata": {
    "collapsed": false,
    "jupyter": {
     "outputs_hidden": false,
     "source_hidden": false
    },
    "nteract": {
     "transient": {
      "deleting": false
     }
    }
   },
   "outputs": [],
   "source": [
    "fabric_onelake_tenant, fabric_workspace_id, fabric_lakehouse_id = get_onelake_info()\n"
   ]
  },
  {
   "cell_type": "markdown",
   "id": "9b1ea2c7-a16d-46e1-bdda-ebd81bd86a1d",
   "metadata": {
    "nteract": {
     "transient": {
      "deleting": false
     }
    }
   },
   "source": [
    "# Obtain Credential and Initiate Clients "
   ]
  },
  {
   "cell_type": "code",
   "execution_count": null,
   "id": "53fb0203-3a1e-4528-a58b-cdcd8794d692",
   "metadata": {
    "jupyter": {
     "outputs_hidden": false,
     "source_hidden": false
    },
    "nteract": {
     "transient": {
      "deleting": false
     }
    }
   },
   "outputs": [],
   "source": [
    "from azure.identity import ClientSecretCredential\n",
    "\n",
    "credential = ClientSecretCredential(\n",
    "    tenant_id=tenant_id,\n",
    "    client_id=client_id,\n",
    "    client_secret=client_secret\n",
    ")"
   ]
  },
  {
   "cell_type": "code",
   "execution_count": null,
   "id": "32181201-1be6-46ad-88e4-b979d571e966",
   "metadata": {
    "jupyter": {
     "outputs_hidden": false,
     "source_hidden": false
    },
    "nteract": {
     "transient": {
      "deleting": false
     }
    }
   },
   "outputs": [],
   "source": [
    "# feature store client\n",
    "from azureml.featurestore import FeatureStoreClient\n",
    "from azure.ai.ml import MLClient\n",
    "from azure.ai.ml.entities import (\n",
    "    FeatureStore,\n",
    "    FeatureStoreEntity,\n",
    "    FeatureSet,\n",
    ")\n",
    "\n",
    "featurestore = FeatureStoreClient(\n",
    "    credential=credential,\n",
    "    subscription_id=featurestore_subscription_id,\n",
    "    resource_group_name=featurestore_resource_group_name,\n",
    "    name=featurestore_name,\n",
    ")\n",
    "\n",
    "\n",
    "fs_client = MLClient(\n",
    "    credential,\n",
    "    featurestore_subscription_id,\n",
    "    featurestore_resource_group_name,\n",
    "    featurestore_name,\n",
    ")"
   ]
  },
  {
   "cell_type": "markdown",
   "id": "229854e3-a017-4269-982e-55d7c008df5b",
   "metadata": {
    "nteract": {
     "transient": {
      "deleting": false
     }
    }
   },
   "source": [
    "# Create Entities & Feature Sets"
   ]
  },
  {
   "cell_type": "markdown",
   "id": "2a519f66-583a-4c54-b7a2-6f05811ec544",
   "metadata": {
    "nteract": {
     "transient": {
      "deleting": false
     }
    }
   },
   "source": [
    "### Create tmp folder"
   ]
  },
  {
   "cell_type": "code",
   "execution_count": null,
   "id": "b7999fe3-0575-4402-86e1-bae64b7f5db1",
   "metadata": {
    "editable": true,
    "jupyter": {
     "outputs_hidden": false,
     "source_hidden": false
    },
    "nteract": {
     "transient": {
      "deleting": false
     }
    },
    "run_control": {
     "frozen": false
    }
   },
   "outputs": [],
   "source": [
    "import time\n",
    "import os\n",
    "\n",
    "nyctaxi_featureset_version = str(int(time.time()))\n",
    "\n",
    "featureset_folder = f\"featuresets/nyctaxi_fs_1/{nyctaxi_featureset_version}\"\n",
    "os.makedirs(f\"{featureset_folder}/spec\", exist_ok=True)\n",
    "\n",
    "print(f\"the version is: {nyctaxi_featureset_version}\")\n",
    "print(f\"feature set folder is {featureset_folder}\")"
   ]
  },
  {
   "cell_type": "code",
   "execution_count": null,
   "id": "29f881b5-e5f4-47c6-bd03-a107e6b05d2e",
   "metadata": {
    "jupyter": {
     "outputs_hidden": false,
     "source_hidden": false
    },
    "nteract": {
     "transient": {
      "deleting": false
     }
    }
   },
   "outputs": [],
   "source": [
    "# Create NYC weather featureset folder\n",
    "nycweather_featureset_version = str(int(time.time()))\n",
    "nycweather_featureset_folder = f\"featuresets/nycweather_fs_1/{nycweather_featureset_version}\"\n",
    "os.makedirs(f\"{nycweather_featureset_folder}/spec\", exist_ok=True)\n"
   ]
  },
  {
   "cell_type": "markdown",
   "id": "91c3f9d5-d666-4137-ba0f-7e9da9d3ae81",
   "metadata": {
    "nteract": {
     "transient": {
      "deleting": false
     }
    }
   },
   "source": [
    "### Create FeatureSetSpec.yaml"
   ]
  },
  {
   "cell_type": "code",
   "execution_count": null,
   "id": "60d4f0fe-2ed3-4827-b25a-08842a59a896",
   "metadata": {
    "jupyter": {
     "outputs_hidden": false,
     "source_hidden": false
    },
    "nteract": {
     "transient": {
      "deleting": false
     }
    },
    "tags": []
   },
   "outputs": [],
   "source": [
    "nyctaxi_table_path = f\"abfss://{fabric_workspace_id}@{fabric_onelake_tenant}.dfs.fabric.microsoft.com/{fabric_lakehouse_id}/Files/{standard_path}/transformed_yellow_taxi_tripdata_{year}.csv\"\n",
    "nycweather_table_path = f\"abfss://{fabric_workspace_id}@{fabric_onelake_tenant}.dfs.fabric.microsoft.com/{fabric_lakehouse_id}/Files/{standard_path}/transformed_nyc_weather_{year}.csv\"\n"
   ]
  },
  {
   "cell_type": "code",
   "execution_count": null,
   "id": "647d42fb-47b4-42b6-9359-e11f53b70561",
   "metadata": {
    "jupyter": {
     "outputs_hidden": false,
     "source_hidden": false
    },
    "nteract": {
     "transient": {
      "deleting": false
     }
    }
   },
   "outputs": [],
   "source": [
    "with open(f\"{featureset_folder}/spec/FeatureSetSpec.yaml\", \"w\") as spec_yaml:\n",
    "    spec_yaml.write(f\"\"\"\n",
    "$schema: http://azureml/sdk-2-0/FeatureSetSpec.json\n",
    "\n",
    "source:\n",
    "  type: csv\n",
    "  path: {nyctaxi_table_path}\n",
    "  timestamp_column: \n",
    "    name: pickup_timestamp\n",
    "features: \n",
    "  - name: hour_pickup\n",
    "    type: integer\n",
    "  - name: day_pickup\n",
    "    type: integer\n",
    "  - name: weekday_pickup\n",
    "    type: integer\n",
    "  - name: month_pickup\n",
    "    type: integer\n",
    "  - name: demand\n",
    "    type: integer\n",
    "index_columns:\n",
    "  - name: borough_id\n",
    "    type: integer\n",
    "    \"\"\")"
   ]
  },
  {
   "cell_type": "code",
   "execution_count": null,
   "id": "2c069a94-690b-4597-bb1b-d3dea16f4edc",
   "metadata": {
    "jupyter": {
     "outputs_hidden": false,
     "source_hidden": false
    },
    "nteract": {
     "transient": {
      "deleting": false
     }
    }
   },
   "outputs": [],
   "source": [
    "with open(f\"{featureset_folder}/spec/FeatureSetSpec.yaml\", \"r\") as spec_yaml:\n",
    "    print(spec_yaml.read())"
   ]
  },
  {
   "cell_type": "code",
   "execution_count": null,
   "id": "798eb05d-1699-4210-82f4-32f2605473f5",
   "metadata": {
    "jupyter": {
     "outputs_hidden": false,
     "source_hidden": false
    },
    "nteract": {
     "transient": {
      "deleting": false
     }
    }
   },
   "outputs": [],
   "source": [
    "# Create featureset spec yaml for NYC weather features\n",
    "with open(f\"{nycweather_featureset_folder}/spec/FeatureSetSpec.yaml\", \"w\") as spec_yaml:\n",
    "    spec_yaml.write(f\"\"\"\n",
    "$schema: http://azureml/sdk-2-0/FeatureSetSpec.json\n",
    "\n",
    "source:\n",
    "  type: csv\n",
    "  path: {nycweather_table_path}\n",
    "  timestamp_column: \n",
    "    name: time\n",
    "features:\n",
    "  - name: hour\n",
    "    type: integer\n",
    "  - name: day\n",
    "    type: integer\n",
    "  - name: month\n",
    "    type: integer\n",
    "  - name: year\n",
    "    type: integer\n",
    "  - name: temperature_2m_c\n",
    "    type: double\n",
    "  - name: precipitation_mm\n",
    "    type: double\n",
    "  - name: cloudcover_percentage\n",
    "    type: integer\n",
    "  - name: windspeed_10m_km_per_hour\n",
    "    type: double\n",
    "index_columns:\n",
    "  - name: id\n",
    "    type: integer\n",
    "    \"\"\")\n"
   ]
  },
  {
   "cell_type": "markdown",
   "id": "3a422f80-eaea-4a13-946a-984960830c19",
   "metadata": {
    "nteract": {
     "transient": {
      "deleting": false
     }
    }
   },
   "source": [
    "### Register Entities"
   ]
  },
  {
   "cell_type": "code",
   "execution_count": null,
   "id": "b22daee4-8418-4bef-bba7-a0d11b1809ae",
   "metadata": {
    "jupyter": {
     "outputs_hidden": false,
     "source_hidden": false
    },
    "nteract": {
     "transient": {
      "deleting": false
     }
    }
   },
   "outputs": [],
   "source": [
    "from azure.ai.ml.entities import DataColumn, DataColumnType\n",
    "\n",
    "vendor_entity_config = FeatureStoreEntity(\n",
    "    name=\"borough\",\n",
    "    version=nyctaxi_featureset_version,\n",
    "    index_columns=[DataColumn(name=\"borough_id\", type=DataColumnType.INTEGER)],\n",
    "    stage=\"Development\",\n",
    "    description=\"This entity represents index key of Boroughs.\",\n",
    "    tags={\"data_typ\": \"nonPII\"},\n",
    ")\n",
    "\n",
    "poller = fs_client.feature_store_entities.begin_create_or_update(vendor_entity_config)\n",
    "print(poller.result())"
   ]
  },
  {
   "cell_type": "code",
   "execution_count": null,
   "id": "b3ec013e-ae08-46b8-90a0-79fbdc34d998",
   "metadata": {
    "jupyter": {
     "outputs_hidden": false,
     "source_hidden": false
    },
    "nteract": {
     "transient": {
      "deleting": false
     }
    }
   },
   "outputs": [],
   "source": [
    "# Create entity config for NYC weather features\n",
    "nycweather_entity_config = FeatureStoreEntity(\n",
    "    name=\"nycweather_id\",\n",
    "    version=nycweather_featureset_version,\n",
    "    index_columns=[DataColumn(name=\"id\", type=DataColumnType.INTEGER)],\n",
    "    stage=\"Development\",\n",
    "    description=\"This entity represents index key of NYC weather data.\",\n",
    "    tags={\"data_typ\": \"nonPII\"},\n",
    ")\n",
    "\n",
    "poller = fs_client.feature_store_entities.begin_create_or_update(nycweather_entity_config)\n",
    "print(poller.result())\n"
   ]
  },
  {
   "cell_type": "markdown",
   "id": "de8d438e-9d42-4dcd-96e5-6fa438f1779d",
   "metadata": {
    "nteract": {
     "transient": {
      "deleting": false
     }
    }
   },
   "source": [
    "### Register Feature Sets"
   ]
  },
  {
   "cell_type": "code",
   "execution_count": null,
   "id": "e3764e77-8ac6-4887-bfe7-a4b692cc5c7c",
   "metadata": {
    "jupyter": {
     "outputs_hidden": false,
     "source_hidden": false
    },
    "nteract": {
     "transient": {
      "deleting": false
     }
    }
   },
   "outputs": [],
   "source": [
    "from azure.ai.ml.entities import FeatureSetSpecification\n",
    "\n",
    "nyctaxi_featureset_spec_folder = f\"{featureset_folder}/spec\"\n",
    "\n",
    "nyctaxi_fset_config = FeatureSet(\n",
    "    name=\"nyctaxi\",\n",
    "    version=nyctaxi_featureset_version,\n",
    "    description=\"nyc taxi data\",\n",
    "    entities=[f\"azureml:borough:{nyctaxi_featureset_version}\"],\n",
    "    stage=\"Development\",\n",
    "    specification=FeatureSetSpecification(path=nyctaxi_featureset_spec_folder),\n",
    "    tags={\"data_type\": \"nonPII\"},\n",
    ")\n",
    "\n",
    "poller = fs_client.feature_sets.begin_create_or_update(nyctaxi_fset_config)\n",
    "print(poller.result())"
   ]
  },
  {
   "cell_type": "code",
   "execution_count": null,
   "id": "90462e8f-f326-4531-8b17-3015c0c1e3c6",
   "metadata": {
    "jupyter": {
     "outputs_hidden": false,
     "source_hidden": false
    },
    "nteract": {
     "transient": {
      "deleting": false
     }
    }
   },
   "outputs": [],
   "source": [
    "# Register featureset for NYC weather features\n",
    "nycweather_featureset_spec_folder = f\"{nycweather_featureset_folder}/spec\"\n",
    "\n",
    "nycweather_fset_config = FeatureSet(\n",
    "    name=\"nycweather\",\n",
    "    version=nycweather_featureset_version,\n",
    "    description=\"nyc weather data\",\n",
    "    entities=[f\"azureml:nycweather_id:{nycweather_featureset_version}\"],\n",
    "    stage=\"Development\",\n",
    "    specification=FeatureSetSpecification(path=nycweather_featureset_spec_folder),\n",
    ")\n",
    "\n",
    "poller = fs_client.feature_sets.begin_create_or_update(nycweather_fset_config)\n",
    "print(poller.result())\n"
   ]
  },
  {
   "cell_type": "markdown",
   "id": "05263dc4-8b32-4cfb-ac3c-63f3ec7917ae",
   "metadata": {
    "nteract": {
     "transient": {
      "deleting": false
     }
    }
   },
   "source": [
    "### Try to Retrieve Features"
   ]
  },
  {
   "cell_type": "code",
   "execution_count": null,
   "id": "2da0b434-8aae-4347-89d5-758d45688f91",
   "metadata": {
    "jupyter": {
     "outputs_hidden": false,
     "source_hidden": false
    },
    "nteract": {
     "transient": {
      "deleting": false
     }
    }
   },
   "outputs": [],
   "source": [
    "nyctaxi_fset = featurestore.feature_sets.get(\"nyctaxi\", nyctaxi_featureset_version)\n",
    "nyctaxi_fset.features"
   ]
  },
  {
   "cell_type": "code",
   "execution_count": null,
   "id": "97284e79-fa8b-4b9c-bd5b-b26c215abf6f",
   "metadata": {
    "collapsed": false,
    "jupyter": {
     "outputs_hidden": false,
     "source_hidden": false
    },
    "nteract": {
     "transient": {
      "deleting": false
     }
    }
   },
   "outputs": [],
   "source": [
    "df = nyctaxi_fset.to_spark_dataframe().head(5)\n",
    "display(df)"
   ]
  },
  {
   "cell_type": "code",
   "execution_count": null,
   "id": "2883887a-42b5-4a15-8358-48e0b39d88cb",
   "metadata": {
    "jupyter": {
     "outputs_hidden": false,
     "source_hidden": false
    },
    "nteract": {
     "transient": {
      "deleting": false
     }
    }
   },
   "outputs": [],
   "source": [
    "nycweather_fset = featurestore.feature_sets.get(\"nycweather\", nycweather_featureset_version)\n",
    "nycweather_fset.features\n"
   ]
  },
  {
   "cell_type": "code",
   "execution_count": null,
   "id": "8fef4a10-514d-4ab5-b437-b2adbecac5bb",
   "metadata": {
    "collapsed": false,
    "jupyter": {
     "outputs_hidden": false,
     "source_hidden": false
    },
    "nteract": {
     "transient": {
      "deleting": false
     }
    }
   },
   "outputs": [],
   "source": [
    "df = nycweather_fset.to_spark_dataframe().head(5)\n",
    "display(df)\n"
   ]
  },
  {
   "cell_type": "markdown",
   "id": "3b1ddb90-5052-4bf4-9a95-fe7dc31f74a8",
   "metadata": {
    "nteract": {
     "transient": {
      "deleting": false
     }
    }
   },
   "source": [
    "### Register MFS features lineage to Purview"
   ]
  },
  {
   "cell_type": "code",
   "execution_count": null,
   "id": "3d5e11a7-2c8d-437d-9a1b-5204865ed299",
   "metadata": {
    "jupyter": {
     "outputs_hidden": false,
     "source_hidden": false
    },
    "nteract": {
     "transient": {
      "deleting": false
     }
    }
   },
   "outputs": [],
   "source": [
    "%run data_catalog_and_lineage"
   ]
  },
  {
   "cell_type": "code",
   "execution_count": null,
   "id": "83945aa2-0044-40d0-a493-07276ee886a9",
   "metadata": {
    "jupyter": {
     "outputs_hidden": false,
     "source_hidden": false
    },
    "nteract": {
     "transient": {
      "deleting": false
     }
    }
   },
   "outputs": [],
   "source": [
    "purview_data_catalog = PurviewDataCatalog()\n",
    "\n",
    "nyctaxi_fset = featurestore.feature_sets.get(\"nyctaxi\", nyctaxi_featureset_version)\n",
    "nycweather_fset = featurestore.feature_sets.get(\"nycweather\", nycweather_featureset_version)\n",
    "\n",
    "features_lineage = []\n",
    "for fset in [nyctaxi_fset, nycweather_fset]:\n",
    "    # Create data source assets\n",
    "    data_source_assets = []\n",
    "    data_source_path = fset.source.path\n",
    "    source_qualified_name = data_source_path\n",
    "    source_name = data_source_path.split(\"/\")[-1]\n",
    "    source_type = source_name.split(\".\")[-1]\n",
    "    data_source_asset = DataAsset(source_name, source_type, source_qualified_name)\n",
    "    data_source_assets.append(data_source_asset)\n",
    "\n",
    "    # Create feature assets\n",
    "    target_features = [feat.name for feat in fset.features]\n",
    "    feature_assets = purview_data_catalog.prepare_feature_assets(featurestore_name,\n",
    "                                                                fset,\n",
    "                                                                target_features,\n",
    "                                                                **{\"tenant_id\": tenant_id,\n",
    "                                                                \"subscription_id\": featurestore_subscription_id,\n",
    "                                                                \"resource_group\": featurestore_resource_group_name})\n",
    "\n",
    "    # Create process asset if there's transformation found\n",
    "    process_asset = None\n",
    "    if fset.feature_transformation_code:\n",
    "        transformer_class = feature_transformation_code.transformer_class\n",
    "        process_entity = DataAsset(transformer_class,\n",
    "                                \"process\",\n",
    "                                f\"{feature_transformation_code.path}/{transformer_class}\")\n",
    "\n",
    "    feature_lineage = DataLineage(input_data_assets=data_source_assets,\n",
    "                                output_data_assets=feature_assets,\n",
    "                                process_asset=process_asset)\n",
    "    features_lineage.append(feature_lineage)\n"
   ]
  },
  {
   "cell_type": "code",
   "execution_count": null,
   "id": "b1f7d5d3-18d1-40de-9e1b-b439217c1d48",
   "metadata": {
    "jupyter": {
     "outputs_hidden": false,
     "source_hidden": false
    },
    "nteract": {
     "transient": {
      "deleting": false
     }
    }
   },
   "outputs": [],
   "source": [
    "# Register features lineage\n",
    "for feature_lineage in features_lineage:\n",
    "    purview_data_catalog.register_lineage(feature_lineage)\n"
   ]
  }
 ],
 "metadata": {
  "kernel_info": {
   "name": "synapse_pyspark"
  },
  "kernelspec": {
   "display_name": "Synapse PySpark",
   "language": "Python",
   "name": "synapse_pyspark"
  },
  "language_info": {
   "name": "python"
  },
  "microsoft": {
   "host": {
    "synapse_widget": {
     "state": {
      "5a3f1427-630f-4bb8-9488-033c464cf542": {
       "persist_state": {
        "view": {
         "chartOptions": {
          "aggregationType": "sum",
          "binsNumber": 10,
          "categoryFieldKeys": [
           "1"
          ],
          "chartType": "line",
          "isStacked": false,
          "seriesFieldKeys": [
           "2"
          ],
          "wordFrequency": "-1"
         },
         "tableOptions": {},
         "type": "details"
        }
       },
       "sync_state": {
        "isSummary": false,
        "language": "scala",
        "table": {
         "rows": [
          {
           "0": "2022010100",
           "1": "2022-01-01 00:00:00",
           "2": "8.7",
           "3": "0.0",
           "4": "100.0",
           "5": "8.3",
           "index": 1
          },
          {
           "0": "2022010101",
           "1": "2022-01-01 01:00:00",
           "2": "8.7",
           "3": "0.0",
           "4": "100.0",
           "5": "7.6",
           "index": 2
          },
          {
           "0": "2022010102",
           "1": "2022-01-01 02:00:00",
           "2": "8.6",
           "3": "0.0",
           "4": "100.0",
           "5": "7.4",
           "index": 3
          },
          {
           "0": "2022010103",
           "1": "2022-01-01 03:00:00",
           "2": "8.5",
           "3": "0.0",
           "4": "100.0",
           "5": "7.6",
           "index": 4
          },
          {
           "0": "2022010104",
           "1": "2022-01-01 04:00:00",
           "2": "8.2",
           "3": "0.0",
           "4": "100.0",
           "5": "8.6",
           "index": 5
          }
         ],
         "schema": [
          {
           "key": "0",
           "name": "id",
           "type": "bigint"
          },
          {
           "key": "1",
           "name": "time",
           "type": "timestamp"
          },
          {
           "key": "2",
           "name": "temperature_2m_c",
           "type": "double"
          },
          {
           "key": "3",
           "name": "precipitation_mm",
           "type": "double"
          },
          {
           "key": "4",
           "name": "cloudcover_percentage",
           "type": "double"
          },
          {
           "key": "5",
           "name": "windspeed_10m_km_per_hour",
           "type": "double"
          }
         ],
         "truncated": false
        }
       },
       "type": "Synapse.DataFrame"
      },
      "7fe9de37-b4a8-4627-ae57-d02917daac45": {
       "persist_state": {
        "view": {
         "chartOptions": {
          "aggregationType": "count",
          "binsNumber": 10,
          "categoryFieldKeys": [
           "0"
          ],
          "chartType": "bar",
          "isStacked": false,
          "seriesFieldKeys": [
           "0"
          ],
          "wordFrequency": "-1"
         },
         "tableOptions": {},
         "type": "details"
        }
       },
       "sync_state": {
        "isSummary": false,
        "language": "scala",
        "table": {
         "rows": [
          {
           "0": "/lakehouse/default",
           "1": "/default",
           "2": "default_lh",
           "3": "abfss://c00e0c38-7f35-4552-b370-85146e0b0ae6@msit-onelake.dfs.fabric.microsoft.com/534f7892-f95e-4924-b26d-6c9dd94a37b7",
           "4": "Lakehouse",
           "index": 1
          },
          {
           "0": "/synfs/nb_resource/builtin",
           "1": "/nb_resource/builtin",
           "2": "nb_resource",
           "3": "Notebook Working Directory",
           "4": "Notebook Working Directory",
           "index": 2
          }
         ],
         "schema": [
          {
           "key": "0",
           "name": "localPath",
           "type": "string"
          },
          {
           "key": "1",
           "name": "mountPoint",
           "type": "string"
          },
          {
           "key": "2",
           "name": "scope",
           "type": "string"
          },
          {
           "key": "3",
           "name": "source",
           "type": "string"
          },
          {
           "key": "4",
           "name": "storageType",
           "type": "string"
          }
         ],
         "truncated": false
        }
       },
       "type": "Synapse.DataFrame"
      },
      "ec46e154-5183-408b-8618-8dbcf30af2f2": {
       "persist_state": {
        "view": {
         "chartOptions": {
          "aggregationType": "sum",
          "binsNumber": 10,
          "categoryFieldKeys": [
           "1"
          ],
          "chartType": "line",
          "isStacked": false,
          "seriesFieldKeys": [
           "6"
          ],
          "wordFrequency": "-1"
         },
         "tableOptions": {},
         "type": "details"
        }
       },
       "sync_state": {
        "isSummary": false,
        "language": "scala",
        "table": {
         "rows": [
          {
           "0": "3",
           "1": "2001-01-01 00:27:45",
           "2": "0",
           "3": "1",
           "4": "0",
           "5": "1",
           "6": "1",
           "index": 1
          },
          {
           "0": "1",
           "1": "2001-01-01 00:03:14",
           "2": "0",
           "3": "1",
           "4": "0",
           "5": "1",
           "6": "1",
           "index": 2
          },
          {
           "0": "2",
           "1": "2022-08-01 00:46:03",
           "2": "0",
           "3": "1",
           "4": "0",
           "5": "8",
           "6": "2",
           "index": 3
          },
          {
           "0": "5",
           "1": "2022-08-01 00:54:59",
           "2": "0",
           "3": "1",
           "4": "0",
           "5": "8",
           "6": "8",
           "index": 4
          },
          {
           "0": "3",
           "1": "2022-08-01 00:42:26",
           "2": "0",
           "3": "1",
           "4": "0",
           "5": "8",
           "6": "930",
           "index": 5
          }
         ],
         "schema": [
          {
           "key": "0",
           "name": "borough_id",
           "type": "bigint"
          },
          {
           "key": "1",
           "name": "pickup_timestamp",
           "type": "timestamp"
          },
          {
           "key": "2",
           "name": "hour_pickup",
           "type": "bigint"
          },
          {
           "key": "3",
           "name": "day_pickup",
           "type": "bigint"
          },
          {
           "key": "4",
           "name": "weekday_pickup",
           "type": "bigint"
          },
          {
           "key": "5",
           "name": "month_pickup",
           "type": "bigint"
          },
          {
           "key": "6",
           "name": "demand",
           "type": "bigint"
          }
         ],
         "truncated": false
        }
       },
       "type": "Synapse.DataFrame"
      }
     },
     "token": "c096a808-e04d-4e10-8a18-0caf04a00fbc"
    }
   },
   "language": "python",
   "ms_spell_check": {
    "ms_spell_check_language": "en"
   }
  },
  "notebook_environment": {},
  "nteract": {
   "version": "nteract-front-end@1.0.0"
  },
  "save_output": true,
  "spark_compute": {
   "compute_id": "/trident/default",
   "session_options": {
    "conf": {},
    "enableDebugMode": false
   }
  },
  "synapse_widget": {
   "state": {
    "5a3f1427-630f-4bb8-9488-033c464cf542": {
     "persist_state": {
      "view": {
       "chartOptions": {
        "aggregationType": "sum",
        "binsNumber": 10,
        "categoryFieldKeys": [
         "1"
        ],
        "chartType": "line",
        "isStacked": false,
        "seriesFieldKeys": [
         "2"
        ],
        "wordFrequency": "-1"
       },
       "tableOptions": {},
       "type": "details"
      }
     },
     "sync_state": {
      "isSummary": false,
      "language": "scala",
      "table": {
       "rows": [
        {
         "0": "2022010100",
         "1": "2022-01-01 00:00:00",
         "2": "8.7",
         "3": "0.0",
         "4": "100.0",
         "5": "8.3",
         "index": 1
        },
        {
         "0": "2022010101",
         "1": "2022-01-01 01:00:00",
         "2": "8.7",
         "3": "0.0",
         "4": "100.0",
         "5": "7.6",
         "index": 2
        },
        {
         "0": "2022010102",
         "1": "2022-01-01 02:00:00",
         "2": "8.6",
         "3": "0.0",
         "4": "100.0",
         "5": "7.4",
         "index": 3
        },
        {
         "0": "2022010103",
         "1": "2022-01-01 03:00:00",
         "2": "8.5",
         "3": "0.0",
         "4": "100.0",
         "5": "7.6",
         "index": 4
        },
        {
         "0": "2022010104",
         "1": "2022-01-01 04:00:00",
         "2": "8.2",
         "3": "0.0",
         "4": "100.0",
         "5": "8.6",
         "index": 5
        }
       ],
       "schema": [
        {
         "key": "0",
         "name": "id",
         "type": "bigint"
        },
        {
         "key": "1",
         "name": "time",
         "type": "timestamp"
        },
        {
         "key": "2",
         "name": "temperature_2m_c",
         "type": "double"
        },
        {
         "key": "3",
         "name": "precipitation_mm",
         "type": "double"
        },
        {
         "key": "4",
         "name": "cloudcover_percentage",
         "type": "double"
        },
        {
         "key": "5",
         "name": "windspeed_10m_km_per_hour",
         "type": "double"
        }
       ],
       "truncated": false
      }
     },
     "type": "Synapse.DataFrame"
    },
    "7fe9de37-b4a8-4627-ae57-d02917daac45": {
     "persist_state": {
      "view": {
       "chartOptions": {
        "aggregationType": "count",
        "binsNumber": 10,
        "categoryFieldKeys": [
         "0"
        ],
        "chartType": "bar",
        "isStacked": false,
        "seriesFieldKeys": [
         "0"
        ],
        "wordFrequency": "-1"
       },
       "tableOptions": {},
       "type": "details"
      }
     },
     "sync_state": {
      "isSummary": false,
      "language": "scala",
      "table": {
       "rows": [
        {
         "0": "/lakehouse/default",
         "1": "/default",
         "2": "default_lh",
         "3": "abfss://c00e0c38-7f35-4552-b370-85146e0b0ae6@msit-onelake.dfs.fabric.microsoft.com/534f7892-f95e-4924-b26d-6c9dd94a37b7",
         "4": "Lakehouse",
         "index": 1
        },
        {
         "0": "/synfs/nb_resource/builtin",
         "1": "/nb_resource/builtin",
         "2": "nb_resource",
         "3": "Notebook Working Directory",
         "4": "Notebook Working Directory",
         "index": 2
        }
       ],
       "schema": [
        {
         "key": "0",
         "name": "localPath",
         "type": "string"
        },
        {
         "key": "1",
         "name": "mountPoint",
         "type": "string"
        },
        {
         "key": "2",
         "name": "scope",
         "type": "string"
        },
        {
         "key": "3",
         "name": "source",
         "type": "string"
        },
        {
         "key": "4",
         "name": "storageType",
         "type": "string"
        }
       ],
       "truncated": false
      }
     },
     "type": "Synapse.DataFrame"
    },
    "ec46e154-5183-408b-8618-8dbcf30af2f2": {
     "persist_state": {
      "view": {
       "chartOptions": {
        "aggregationType": "sum",
        "binsNumber": 10,
        "categoryFieldKeys": [
         "1"
        ],
        "chartType": "line",
        "isStacked": false,
        "seriesFieldKeys": [
         "6"
        ],
        "wordFrequency": "-1"
       },
       "tableOptions": {},
       "type": "details"
      }
     },
     "sync_state": {
      "isSummary": false,
      "language": "scala",
      "table": {
       "rows": [
        {
         "0": "3",
         "1": "2001-01-01 00:27:45",
         "2": "0",
         "3": "1",
         "4": "0",
         "5": "1",
         "6": "1",
         "index": 1
        },
        {
         "0": "1",
         "1": "2001-01-01 00:03:14",
         "2": "0",
         "3": "1",
         "4": "0",
         "5": "1",
         "6": "1",
         "index": 2
        },
        {
         "0": "2",
         "1": "2022-08-01 00:46:03",
         "2": "0",
         "3": "1",
         "4": "0",
         "5": "8",
         "6": "2",
         "index": 3
        },
        {
         "0": "5",
         "1": "2022-08-01 00:54:59",
         "2": "0",
         "3": "1",
         "4": "0",
         "5": "8",
         "6": "8",
         "index": 4
        },
        {
         "0": "3",
         "1": "2022-08-01 00:42:26",
         "2": "0",
         "3": "1",
         "4": "0",
         "5": "8",
         "6": "930",
         "index": 5
        }
       ],
       "schema": [
        {
         "key": "0",
         "name": "borough_id",
         "type": "bigint"
        },
        {
         "key": "1",
         "name": "pickup_timestamp",
         "type": "timestamp"
        },
        {
         "key": "2",
         "name": "hour_pickup",
         "type": "bigint"
        },
        {
         "key": "3",
         "name": "day_pickup",
         "type": "bigint"
        },
        {
         "key": "4",
         "name": "weekday_pickup",
         "type": "bigint"
        },
        {
         "key": "5",
         "name": "month_pickup",
         "type": "bigint"
        },
        {
         "key": "6",
         "name": "demand",
         "type": "bigint"
        }
       ],
       "truncated": false
      }
     },
     "type": "Synapse.DataFrame"
    }
   },
   "version": "0.1"
  },
  "widgets": {}
 },
 "nbformat": 4,
 "nbformat_minor": 5
}

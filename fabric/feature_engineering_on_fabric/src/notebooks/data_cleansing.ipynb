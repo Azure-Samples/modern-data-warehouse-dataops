{
 "cells": [
  {
   "cell_type": "markdown",
   "id": "f6cc8419-b0c9-448a-a510-901e14519b7c",
   "metadata": {
    "nteract": {
     "transient": {
      "deleting": false
     }
    }
   },
   "source": [
    "### Parameter Setup"
   ]
  },
  {
   "cell_type": "code",
   "execution_count": null,
   "id": "70870927-0f1d-486a-873a-f4c1d3cceeae",
   "metadata": {
    "jupyter": {
     "outputs_hidden": false,
     "source_hidden": false
    },
    "nteract": {
     "transient": {
      "deleting": false
     }
    },
    "tags": [
     "parameters"
    ]
   },
   "outputs": [],
   "source": [
    "fabric_tenant = spark.conf.get(\"spark.fsd.fabric.tenant\")\n"
   ]
  },
  {
   "cell_type": "markdown",
   "id": "a98f3aac-4908-4f7f-b54e-eb28a5e11a38",
   "metadata": {
    "nteract": {
     "transient": {
      "deleting": false
     }
    }
   },
   "source": [
    "### Load ingested data from staging zone"
   ]
  },
  {
   "cell_type": "code",
   "execution_count": null,
   "id": "0b57611a-575c-484e-b668-51e5fdadc824",
   "metadata": {},
   "outputs": [],
   "source": [
    "import pandas as pd\n",
    "\n",
    "# Load Yellow Taxi Trip Records parquet file from staging zone to pandas dataframe\n",
    "year = \"2022\"\n",
    "staging_path = \"02_staging\"\n",
    "\n",
    "pd_df = pd.read_parquet(f\"/lakehouse/default/Files/{staging_path}/yellow_taxi_tripdata_{year}.parquet\", engine=\"pyarrow\")\n",
    "pd_df.head()\n"
   ]
  },
  {
   "cell_type": "code",
   "execution_count": null,
   "id": "f38d4394-076c-46c5-86fe-3c54eca92080",
   "metadata": {
    "jupyter": {
     "outputs_hidden": false,
     "source_hidden": false
    },
    "nteract": {
     "transient": {
      "deleting": false
     }
    }
   },
   "outputs": [],
   "source": [
    "# Load location zones data from landing zone\n",
    "landing_path = \"01_landing\"\n",
    "zones_df = pd.read_csv(f\"/lakehouse/default/Files/{landing_path}/taxi_zone_lookup.csv\")\n",
    "zones_df.head()\n"
   ]
  },
  {
   "cell_type": "code",
   "execution_count": null,
   "id": "1ded8fe5-b79c-4bda-bbb4-6f3e210531a8",
   "metadata": {
    "jupyter": {
     "outputs_hidden": false,
     "source_hidden": false
    },
    "nteract": {
     "transient": {
      "deleting": false
     }
    }
   },
   "outputs": [],
   "source": [
    "# Load NYC weather data from landing zone\n",
    "weather_df = pd.read_csv(f\"/lakehouse/default/Files/{landing_path}/nyc_weather_{year}.csv\")\n",
    "weather_df.head()\n"
   ]
  },
  {
   "cell_type": "markdown",
   "id": "1a167bbe-f0b1-4351-b18c-93fe3bbbd480",
   "metadata": {
    "nteract": {
     "transient": {
      "deleting": false
     }
    }
   },
   "source": [
    "### Data cleansing"
   ]
  },
  {
   "cell_type": "code",
   "execution_count": null,
   "id": "f7dc8421-e1b5-4ede-8869-c661ee03b2a7",
   "metadata": {
    "jupyter": {
     "outputs_hidden": false,
     "source_hidden": false
    },
    "nteract": {
     "transient": {
      "deleting": false
     }
    }
   },
   "outputs": [],
   "source": [
    "# Remove rows with null passenger_count\n",
    "pd_df = pd_df.dropna(subset=[\"passenger_count\"])\n",
    "pd_df.isnull().sum()\n"
   ]
  },
  {
   "cell_type": "code",
   "execution_count": null,
   "id": "7a2304ea-4269-4e77-95f1-af079cafc61b",
   "metadata": {
    "jupyter": {
     "outputs_hidden": false,
     "source_hidden": false
    },
    "nteract": {
     "transient": {
      "deleting": false
     }
    }
   },
   "outputs": [],
   "source": [
    "# Remove rows with unknown location ID (264 and 265) for PULocationID and DOLocationID columns\n",
    "pd_df = pd_df.drop(pd_df[\"PULocationID\"].loc[(pd_df[\"PULocationID\"] == 264) | (pd_df[\"PULocationID\"] == 265)].index)\n",
    "pd_df = pd_df.drop(pd_df[\"DOLocationID\"].loc[(pd_df[\"DOLocationID\"] == 264) | (pd_df[\"DOLocationID\"] == 265)].index)\n"
   ]
  },
  {
   "cell_type": "code",
   "execution_count": null,
   "id": "4bb07f95-a6bc-4967-a931-072dfad42685",
   "metadata": {
    "jupyter": {
     "outputs_hidden": false,
     "source_hidden": false
    },
    "nteract": {
     "transient": {
      "deleting": false
     }
    }
   },
   "outputs": [],
   "source": [
    "# Remove rows with null values for 'temperature_2m (°C)' column of NYC weather data \n",
    "weather_df = weather_df.dropna(subset=[\"temperature_2m (°C)\"])\n",
    "weather_df.isnull().sum()\n"
   ]
  },
  {
   "cell_type": "code",
   "execution_count": null,
   "id": "ba72fe50-cdc2-4862-aff9-a590930d69b6",
   "metadata": {
    "jupyter": {
     "outputs_hidden": false,
     "source_hidden": false
    },
    "nteract": {
     "transient": {
      "deleting": false
     }
    }
   },
   "outputs": [],
   "source": [
    "# Rename columns and select subset of columns\n",
    "weather_df.rename(columns = {'temperature_2m (°C)': 'temperature_2m_c',\n",
    "                             'precipitation (mm)': 'precipitation_mm',\n",
    "                             'cloud_cover (%)': 'cloudcover_percentage',\n",
    "                             'wind_speed_10m (km/h)': 'windspeed_10m_km_per_hour'}, \n",
    "                          inplace = True)\n",
    "weather_df = weather_df[['time', 'temperature_2m_c', 'precipitation_mm', 'cloudcover_percentage', 'windspeed_10m_km_per_hour']]\n"
   ]
  },
  {
   "cell_type": "code",
   "execution_count": null,
   "id": "ba4bdfcb-6f55-4e92-addf-fb34095186ee",
   "metadata": {
    "jupyter": {
     "outputs_hidden": false,
     "source_hidden": false
    },
    "nteract": {
     "transient": {
      "deleting": false
     }
    }
   },
   "outputs": [],
   "source": [
    "# Remove rows with null values for service_zone column of zones data \n",
    "zones_df = zones_df.dropna(subset=[\"service_zone\"])\n",
    "zones_df.isnull().sum()\n"
   ]
  },
  {
   "cell_type": "markdown",
   "id": "12bf196f-5096-4850-bb87-5c34ad685838",
   "metadata": {
    "nteract": {
     "transient": {
      "deleting": false
     }
    }
   },
   "source": [
    "### Sink cleaned data to standardization zone"
   ]
  },
  {
   "cell_type": "code",
   "execution_count": null,
   "id": "3adfaf4e-09e2-4a58-87d9-7807130036b7",
   "metadata": {
    "jupyter": {
     "outputs_hidden": false,
     "source_hidden": false
    },
    "nteract": {
     "transient": {
      "deleting": false
     }
    }
   },
   "outputs": [],
   "source": [
    "# Sink cleansed NYC yellow taxi trips, weather and zones data to standard zone of Fabric OneLake\n",
    "standard_path = \"03_standard\"\n",
    "mssparkutils.fs.mkdirs(f\"Files/{standard_path}\")\n",
    "\n",
    "pd_df.to_parquet(f\"/lakehouse/default/Files/{standard_path}/cleaned_yellow_taxi_tripdata_{year}.parquet\")\n",
    "weather_df.to_parquet(f\"/lakehouse/default/Files/{standard_path}/cleaned_nyc_weather_{year}.parquet\")\n",
    "zones_df.to_parquet(f\"/lakehouse/default/Files/{standard_path}/nyc_zones.parquet\")\n"
   ]
  },
  {
   "cell_type": "markdown",
   "id": "0d1c6ab9-fef3-46de-b394-a2994855e71c",
   "metadata": {
    "nteract": {
     "transient": {
      "deleting": false
     }
    }
   },
   "source": [
    "### Register data assets and lineage of data pipeline to Purview"
   ]
  },
  {
   "cell_type": "code",
   "execution_count": null,
   "id": "2f7cb196-1b42-4f17-9d5f-9a05cc9b3d57",
   "metadata": {
    "jupyter": {
     "outputs_hidden": false,
     "source_hidden": false
    },
    "nteract": {
     "transient": {
      "deleting": false
     }
    }
   },
   "outputs": [],
   "source": [
    "%run data_catalog_and_lineage"
   ]
  },
  {
   "cell_type": "code",
   "execution_count": null,
   "id": "d3745ba2-7b2d-4e2f-9a6b-2503fb5ef243",
   "metadata": {
    "jupyter": {
     "outputs_hidden": false,
     "source_hidden": false
    },
    "nteract": {
     "transient": {
      "deleting": false
     }
    }
   },
   "outputs": [],
   "source": [
    "%run utils"
   ]
  },
  {
   "cell_type": "code",
   "execution_count": null,
   "id": "898ba087-d7af-4da2-aab3-e1236b8fefa7",
   "metadata": {
    "collapsed": false,
    "jupyter": {
     "outputs_hidden": false,
     "source_hidden": false
    },
    "nteract": {
     "transient": {
      "deleting": false
     }
    }
   },
   "outputs": [],
   "source": [
    "purview_data_catalog = PurviewDataCatalog()\n",
    "\n",
    "fabric_onelake_tenant, fabric_workspace_id, fabric_lakehouse_id = get_onelake_info()\n",
    "onelake_base_path = f\"abfss://{fabric_workspace_id}@{fabric_onelake_tenant}.dfs.fabric.microsoft.com/{fabric_lakehouse_id}/Files\"\n",
    "\n",
    "# Create source data assets list\n",
    "source_data_assets = []\n",
    "trip_data_source_file = f\"yellow_taxi_tripdata_{year}.parquet\"\n",
    "source_data_asset_1 = DataAsset(trip_data_source_file,\n",
    "                                \"parquet\",\n",
    "                                f\"{onelake_base_path}/{staging_path}/{trip_data_source_file}\")\n",
    "\n",
    "zones_data_source_file = f\"taxi_zone_lookup.csv\"\n",
    "source_data_asset_2 = DataAsset(zones_data_source_file,\n",
    "                                \"csv\",\n",
    "                                f\"{onelake_base_path}/{landing_path}/{zones_data_source_file}\")\n",
    "\n",
    "nycweather_data_source_file = f\"nyc_weather_{year}.csv\"\n",
    "source_data_asset_3 = DataAsset(nycweather_data_source_file,\n",
    "                                \"csv\",\n",
    "                                f\"{onelake_base_path}/{landing_path}/{nycweather_data_source_file}\")\n",
    "source_data_assets.append(source_data_asset_1)\n",
    "source_data_assets.append(source_data_asset_2)\n",
    "source_data_assets.append(source_data_asset_3)\n",
    "\n",
    "# Create sink data assets list\n",
    "sink_data_assets = []\n",
    "cleaned_trip_data_file = f\"cleaned_yellow_taxi_tripdata_{year}.parquet\"\n",
    "sink_data_asset_1 = DataAsset(cleaned_trip_data_file,\n",
    "                              \"parquet\",\n",
    "                              f\"{onelake_base_path}/{standard_path}/{cleaned_trip_data_file}\")\n",
    "\n",
    "cleaned_zones_data = \"nyc_zones.parquet\"\n",
    "sink_data_asset_2 = DataAsset(cleaned_zones_data,\n",
    "                              \"parquet\",\n",
    "                              f\"{onelake_base_path}/{standard_path}/{cleaned_zones_data}\")\n",
    "\n",
    "cleaned_nycweather_data = f\"cleaned_nyc_weather_{year}.parquet\"\n",
    "sink_data_asset_3 = DataAsset(cleaned_nycweather_data,\n",
    "                              \"parquet\",\n",
    "                              f\"{onelake_base_path}/{standard_path}/{cleaned_nycweather_data}\")\n",
    "sink_data_assets.append(sink_data_asset_1)\n",
    "sink_data_assets.append(sink_data_asset_2)\n",
    "sink_data_assets.append(sink_data_asset_3)\n",
    "\n",
    "# Create process data asset\n",
    "current_notebook_context = mssparkutils.notebook.nb.context\n",
    "notebook_id = current_notebook_context[\"currentNotebookId\"]\n",
    "# notebook_name = current_notebook_context[\"currentNotebookName\"]\n",
    "process_data_asset = DataAsset(\"data_cleansing (Fabric notebook)\",\n",
    "                               \"process\",\n",
    "                               f\"https://{fabric_tenant}.powerbi.com/groups/{fabric_workspace_id}/synapsenotebooks/{notebook_id}\")\n",
    "\n",
    "# Create lineage for data pipeline\n",
    "data_pipeline_lineage = DataLineage(source_data_assets, sink_data_assets, process_data_asset)\n",
    "\n",
    "# Register lineage of data pipeline to Purview\n",
    "purview_data_catalog.register_lineage(data_pipeline_lineage)\n"
   ]
  }
 ],
 "metadata": {
  "kernel_info": {
   "name": "synapse_pyspark"
  },
  "kernelspec": {
   "display_name": "Synapse PySpark",
   "language": "Python",
   "name": "synapse_pyspark"
  },
  "language_info": {
   "name": "python"
  },
  "microsoft": {
   "host": {
    "synapse_widget": {
     "state": {
      "cc54da58-8af7-4cf8-901e-c08182418b93": {
       "persist_state": {
        "view": {
         "chartOptions": {
          "aggregationType": "count",
          "binsNumber": 10,
          "categoryFieldKeys": [
           "0"
          ],
          "chartType": "bar",
          "isStacked": false,
          "seriesFieldKeys": [
           "0"
          ],
          "wordFrequency": "-1"
         },
         "tableOptions": {},
         "type": "details"
        }
       },
       "sync_state": {
        "isSummary": false,
        "language": "scala",
        "table": {
         "rows": [
          {
           "0": "/lakehouse/default",
           "1": "/default",
           "2": "default_lh",
           "3": "abfss://c00e0c38-7f35-4552-b370-85146e0b0ae6@msit-onelake.dfs.fabric.microsoft.com/534f7892-f95e-4924-b26d-6c9dd94a37b7",
           "4": "Lakehouse",
           "index": 1
          },
          {
           "0": "/synfs/nb_resource/builtin",
           "1": "/nb_resource/builtin",
           "2": "nb_resource",
           "3": "Notebook Working Directory",
           "4": "Notebook Working Directory",
           "index": 2
          }
         ],
         "schema": [
          {
           "key": "0",
           "name": "localPath",
           "type": "string"
          },
          {
           "key": "1",
           "name": "mountPoint",
           "type": "string"
          },
          {
           "key": "2",
           "name": "scope",
           "type": "string"
          },
          {
           "key": "3",
           "name": "source",
           "type": "string"
          },
          {
           "key": "4",
           "name": "storageType",
           "type": "string"
          }
         ],
         "truncated": false
        }
       },
       "type": "Synapse.DataFrame"
      }
     },
     "token": "b5ce73bd-dc81-4645-a1b0-1e47807b82b8"
    }
   },
   "language": "python",
   "ms_spell_check": {
    "ms_spell_check_language": "en"
   }
  },
  "notebook_environment": {},
  "nteract": {
   "version": "nteract-front-end@1.0.0"
  },
  "save_output": true,
  "spark_compute": {
   "compute_id": "/trident/default",
   "session_options": {
    "conf": {},
    "enableDebugMode": false
   }
  },
  "synapse_widget": {
   "state": {
    "cc54da58-8af7-4cf8-901e-c08182418b93": {
     "persist_state": {
      "view": {
       "chartOptions": {
        "aggregationType": "count",
        "binsNumber": 10,
        "categoryFieldKeys": [
         "0"
        ],
        "chartType": "bar",
        "isStacked": false,
        "seriesFieldKeys": [
         "0"
        ],
        "wordFrequency": "-1"
       },
       "tableOptions": {},
       "type": "details"
      }
     },
     "sync_state": {
      "isSummary": false,
      "language": "scala",
      "table": {
       "rows": [
        {
         "0": "/lakehouse/default",
         "1": "/default",
         "2": "default_lh",
         "3": "abfss://c00e0c38-7f35-4552-b370-85146e0b0ae6@msit-onelake.dfs.fabric.microsoft.com/534f7892-f95e-4924-b26d-6c9dd94a37b7",
         "4": "Lakehouse",
         "index": 1
        },
        {
         "0": "/synfs/nb_resource/builtin",
         "1": "/nb_resource/builtin",
         "2": "nb_resource",
         "3": "Notebook Working Directory",
         "4": "Notebook Working Directory",
         "index": 2
        }
       ],
       "schema": [
        {
         "key": "0",
         "name": "localPath",
         "type": "string"
        },
        {
         "key": "1",
         "name": "mountPoint",
         "type": "string"
        },
        {
         "key": "2",
         "name": "scope",
         "type": "string"
        },
        {
         "key": "3",
         "name": "source",
         "type": "string"
        },
        {
         "key": "4",
         "name": "storageType",
         "type": "string"
        }
       ],
       "truncated": false
      }
     },
     "type": "Synapse.DataFrame"
    }
   },
   "version": "0.1"
  },
  "widgets": {}
 },
 "nbformat": 4,
 "nbformat_minor": 5
}
